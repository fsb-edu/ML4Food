{
 "cells": [
  {
   "attachments": {},
   "cell_type": "markdown",
   "metadata": {},
   "source": [
    "# Module 2: Unsupervised Learning"
   ]
  },
  {
   "attachments": {},
   "cell_type": "markdown",
   "metadata": {},
   "source": [
    "Welcome to the second module of this series! In this module you will first get a deeper look on what Unsupervised Learning is and in which scenarios it can be used. Then you will explore two types of problems that unsupervised learning solves: dimensionality reduction and clustering. As you will see, these are not necessarily independent, and can be considered as part of the same pipeline. "
   ]
  },
  {
   "attachments": {},
   "cell_type": "markdown",
   "metadata": {},
   "source": [
    "**Module Overview**\n",
    "1. [What is Unsupervised Learning?](#what-is-unsupervised)\n",
    "2. [Hyperparameters](#hyperparameters)\n",
    "3. [Dimensionality Reduction](#dimensionality-reduction)"
   ]
  },
  {
   "attachments": {},
   "cell_type": "markdown",
   "metadata": {},
   "source": [
    "**Dataset**\n",
    "\n",
    "In this module we will work with the already preprocessed Swiss Food Composition dataset from Module 1: Introduction to Machine Learning and Data Preprocessing for Food Sciences. You can find the preprocessed dataset in the `data/swiss_food_composition_proc.csv`. \n",
    "\n",
    "As a quick recap, this is the resulting dataset after:\n",
    "- removing the samples and features with more than 20% of missing values,\n",
    "- splitting the dataset in train and test sets,\n",
    "- imputing missing values \n",
    "- standardizing the remaining data\n",
    "\n",
    "Note that in this module, we will not need the train and test splits since in the unsupervised \n",
    "learning case we do not make use of any labels or target variables and thus, we do not predict any category or value."
   ]
  },
  {
   "attachments": {},
   "cell_type": "markdown",
   "metadata": {},
   "source": [
    "<a id='what-is-unsupervised'></a>\n",
    "## What is unsupervised learning?"
   ]
  },
  {
   "attachments": {},
   "cell_type": "markdown",
   "metadata": {},
   "source": [
    "In unsupervised learning, the data that we have does not have any values or categories that we can learn and later predict. Here, the models will try to find a structure in the data, or learn patterns present. Some use cases of such models would be: clustering, dimensionality reduction, data generation, anomaly detection, etc. \n",
    "\n",
    "In the case of clustering, we try to find groups within the data, so that we can group similar samples together. In the case of dimensionality reduction, we move from data with many features, to compressed data, with very few features. While as the name suggests, in the case of data generation, we use the unlabelled data to learn a structure or underlying properties and based on this, the model will be generate similar samples. For anomaly detection, we can use machine learning models to find outliers in the data. Outliers are points that do not resemble the majority of the points in the dataset. \n",
    "\n",
    "[Fig. 1](#unsup_learn) illustrates the machine learning pipeline in case of unsupervised learning. Still there is an output from the models and it outputs what the model has learned from the data. In the case of clustering, it will output a cluster number that will show with which other samples a specific sample is most similar to. In the case of dimensionality reduction, the output will be the sample but with less features. \n",
    "\n",
    "Something to notice is the missing train-test split step. Since here we do not have any labels or target variables, the train-test split is not of any use.\n",
    "\n",
    "<center>\n",
    "    <a id=\"unsup_learn\"></a>\n",
    "    <img src=\"images/part2_unsupervised/unsupervised_learning__clustering_dimred.jpg\" alt=\"Standardization\" width=\"90%\">\n",
    "    <center><figcaption><em>Figure 1: Unsupervised Learning</em></figcaption></center>\n",
    "</center>\n"
   ]
  },
  {
   "attachments": {},
   "cell_type": "markdown",
   "metadata": {},
   "source": [
    "<a id='hyperparameters'></a>\n",
    "## Parameters vs Hyperparameters"
   ]
  },
  {
   "attachments": {},
   "cell_type": "markdown",
   "metadata": {},
   "source": [
    "In machine learning, parameters and hyperparameters play different roles. The parameters are values that the machine learning model learns from the data. At the end of the learning process, the data will be described by a mathematical equation. The main goal of the learning process is to find the parameters of this mathematical equation that would best describe the data. For example, suppose that you have some points scattered in a 2D coordinate system. Your aim is to find the line with an equation of the form: $$y = ax + b$$. \n",
    "\n",
    "In this case, `a` and `b` would be the parameters that the model would learn from the points so that the line would represent them in the best possible way.\n",
    "\n",
    "On the other hand, hyperparameters control the learning process itself and how the parameters will be computed. Hyperparameters are set by the data scientists/analysts and they are not learned by the model. You can think of them as settings or configurations to tune the learning process. Usually people use intuition, trial-and-error, and other, more sophisticated techniques like cross-validation to pick the right hyperparameters that would make the learning process faster and produce more accurate results. Going to the line example, the hyperparameters will determine *how* complex the equation of the line that will describe the points will be. \n",
    "\n",
    "All in all, parameters determine the model output, while hyperparameters determine the way how the parameters would be learned. You can read more about the distinction between parameters and hyperparameters [in this blog post](https://towardsdatascience.com/parameters-and-hyperparameters-aa609601a9ac)."
   ]
  },
  {
   "attachments": {},
   "cell_type": "markdown",
   "metadata": {},
   "source": [
    "<a id='dim-red'></a>\n",
    "## Dimensionality Reduction"
   ]
  },
  {
   "attachments": {},
   "cell_type": "markdown",
   "metadata": {},
   "source": [
    "###  Why is it used?"
   ]
  },
  {
   "attachments": {},
   "cell_type": "markdown",
   "metadata": {},
   "source": [
    "Dimensionality reduction is used to reduce the complexity of the dataset, capture the most important features and make possible the visualization of the dataset. The dimensionality reduction algorithms identify the most important features that affect model performance, and they usually choose the least \n",
    "correlated features, to keep. Dimensionality reduction also enhances the performance of the ML models because it reduces the effects of *the curse of dimensionality*. The more features a datasets has, the more samples are needed so that the ML models can learn it. This is otherwise considered as the curse of dimensionality. Therefore, one of the main goal of dimensionality reduction is to reduce the number of features of the dataset while maintaining the most important information.\n",
    "\n",
    "All dimensionality reduction techniques are part of the unsupervised learning group of \n",
    "algorithms because they do not consider any labels of the data. Some of these techniques include: principal component analysis (PCA), t-SNE (t-distributed stochastic embedding) and UMAP (uniform manifold approximation and projection). They offer a lot of advantages especially when it comes to making results easier to visualize and explain to audiences, removing noise of the dataset, and making model training faster.\n",
    "\n",
    "Below we will explore PCA, t-SNE and UMAP in the processed Swiss Food Composition Dataset. However, first, we will import the necessary libraries and read the dataset."
   ]
  },
  {
   "cell_type": "code",
   "execution_count": 1,
   "metadata": {},
   "outputs": [
    {
     "name": "stderr",
     "output_type": "stream",
     "text": [
      "c:\\Users\\dorie\\anaconda3\\envs\\ml4food\\lib\\site-packages\\umap\\distances.py:1063: NumbaDeprecationWarning: \u001b[1mThe 'nopython' keyword argument was not supplied to the 'numba.jit' decorator. The implicit default value for this argument is currently False, but it will be changed to True in Numba 0.59.0. See https://numba.readthedocs.io/en/stable/reference/deprecation.html#deprecation-of-object-mode-fall-back-behaviour-when-using-jit for details.\u001b[0m\n",
      "  @numba.jit()\n",
      "c:\\Users\\dorie\\anaconda3\\envs\\ml4food\\lib\\site-packages\\umap\\distances.py:1071: NumbaDeprecationWarning: \u001b[1mThe 'nopython' keyword argument was not supplied to the 'numba.jit' decorator. The implicit default value for this argument is currently False, but it will be changed to True in Numba 0.59.0. See https://numba.readthedocs.io/en/stable/reference/deprecation.html#deprecation-of-object-mode-fall-back-behaviour-when-using-jit for details.\u001b[0m\n",
      "  @numba.jit()\n",
      "c:\\Users\\dorie\\anaconda3\\envs\\ml4food\\lib\\site-packages\\umap\\distances.py:1086: NumbaDeprecationWarning: \u001b[1mThe 'nopython' keyword argument was not supplied to the 'numba.jit' decorator. The implicit default value for this argument is currently False, but it will be changed to True in Numba 0.59.0. See https://numba.readthedocs.io/en/stable/reference/deprecation.html#deprecation-of-object-mode-fall-back-behaviour-when-using-jit for details.\u001b[0m\n",
      "  @numba.jit()\n",
      "c:\\Users\\dorie\\anaconda3\\envs\\ml4food\\lib\\site-packages\\umap\\umap_.py:660: NumbaDeprecationWarning: \u001b[1mThe 'nopython' keyword argument was not supplied to the 'numba.jit' decorator. The implicit default value for this argument is currently False, but it will be changed to True in Numba 0.59.0. See https://numba.readthedocs.io/en/stable/reference/deprecation.html#deprecation-of-object-mode-fall-back-behaviour-when-using-jit for details.\u001b[0m\n",
      "  @numba.jit()\n"
     ]
    }
   ],
   "source": [
    "from sklearn.decomposition import PCA\n",
    "from sklearn.manifold import TSNE\n",
    "import umap\n",
    "import pandas as pd\n",
    "# we need seaborn for visualizing the results\n",
    "import seaborn as sns\n",
    "import ipywidgets as widgets\n",
    "from IPython.display import display"
   ]
  },
  {
   "cell_type": "code",
   "execution_count": 2,
   "metadata": {},
   "outputs": [
    {
     "data": {
      "text/html": [
       "<div>\n",
       "<style scoped>\n",
       "    .dataframe tbody tr th:only-of-type {\n",
       "        vertical-align: middle;\n",
       "    }\n",
       "\n",
       "    .dataframe tbody tr th {\n",
       "        vertical-align: top;\n",
       "    }\n",
       "\n",
       "    .dataframe thead th {\n",
       "        text-align: right;\n",
       "    }\n",
       "</style>\n",
       "<table border=\"1\" class=\"dataframe\">\n",
       "  <thead>\n",
       "    <tr style=\"text-align: right;\">\n",
       "      <th></th>\n",
       "      <th>name</th>\n",
       "      <th>category</th>\n",
       "      <th>energy_kcal</th>\n",
       "      <th>fat_g</th>\n",
       "      <th>fatty_acids_sat_g</th>\n",
       "      <th>fatty_acids_monounsat_g</th>\n",
       "      <th>fatty_acids_polyunsat_g</th>\n",
       "      <th>cholesterol_mg</th>\n",
       "      <th>carbohydrates_g</th>\n",
       "      <th>sugars_g</th>\n",
       "      <th>...</th>\n",
       "      <th>potassium_mg</th>\n",
       "      <th>sodium_mg</th>\n",
       "      <th>chloride_mg</th>\n",
       "      <th>calcium_mg</th>\n",
       "      <th>magnesium_mg</th>\n",
       "      <th>phosphorus_mg</th>\n",
       "      <th>iron_mg</th>\n",
       "      <th>iodide_µg</th>\n",
       "      <th>zinc_mg</th>\n",
       "      <th>split</th>\n",
       "    </tr>\n",
       "    <tr>\n",
       "      <th>ID</th>\n",
       "      <th></th>\n",
       "      <th></th>\n",
       "      <th></th>\n",
       "      <th></th>\n",
       "      <th></th>\n",
       "      <th></th>\n",
       "      <th></th>\n",
       "      <th></th>\n",
       "      <th></th>\n",
       "      <th></th>\n",
       "      <th></th>\n",
       "      <th></th>\n",
       "      <th></th>\n",
       "      <th></th>\n",
       "      <th></th>\n",
       "      <th></th>\n",
       "      <th></th>\n",
       "      <th></th>\n",
       "      <th></th>\n",
       "      <th></th>\n",
       "      <th></th>\n",
       "    </tr>\n",
       "  </thead>\n",
       "  <tbody>\n",
       "    <tr>\n",
       "      <th>2</th>\n",
       "      <td>Almond</td>\n",
       "      <td>fruits</td>\n",
       "      <td>2.470273</td>\n",
       "      <td>2.546513</td>\n",
       "      <td>0.008358</td>\n",
       "      <td>4.503052</td>\n",
       "      <td>1.488234</td>\n",
       "      <td>-0.543661</td>\n",
       "      <td>-0.392568</td>\n",
       "      <td>-0.016448</td>\n",
       "      <td>...</td>\n",
       "      <td>1.555082</td>\n",
       "      <td>-0.160855</td>\n",
       "      <td>-0.146465</td>\n",
       "      <td>1.244480</td>\n",
       "      <td>3.641656</td>\n",
       "      <td>2.293353</td>\n",
       "      <td>0.606897</td>\n",
       "      <td>-0.090492</td>\n",
       "      <td>1.240570</td>\n",
       "      <td>train</td>\n",
       "    </tr>\n",
       "    <tr>\n",
       "      <th>3</th>\n",
       "      <td>Almond, dry roasted, salted</td>\n",
       "      <td>nuts</td>\n",
       "      <td>2.547143</td>\n",
       "      <td>2.571048</td>\n",
       "      <td>0.008358</td>\n",
       "      <td>4.778862</td>\n",
       "      <td>1.741154</td>\n",
       "      <td>-0.543661</td>\n",
       "      <td>-0.286820</td>\n",
       "      <td>-0.133392</td>\n",
       "      <td>...</td>\n",
       "      <td>1.456779</td>\n",
       "      <td>-0.083837</td>\n",
       "      <td>0.109730</td>\n",
       "      <td>1.244480</td>\n",
       "      <td>4.347472</td>\n",
       "      <td>2.040729</td>\n",
       "      <td>0.741814</td>\n",
       "      <td>-0.080053</td>\n",
       "      <td>1.240570</td>\n",
       "      <td>test</td>\n",
       "    </tr>\n",
       "    <tr>\n",
       "      <th>4</th>\n",
       "      <td>Almond, roasted, salted</td>\n",
       "      <td>nuts</td>\n",
       "      <td>2.618100</td>\n",
       "      <td>2.736659</td>\n",
       "      <td>0.022312</td>\n",
       "      <td>5.054672</td>\n",
       "      <td>1.820191</td>\n",
       "      <td>-0.543661</td>\n",
       "      <td>-0.420154</td>\n",
       "      <td>-0.154029</td>\n",
       "      <td>...</td>\n",
       "      <td>1.325709</td>\n",
       "      <td>-0.050189</td>\n",
       "      <td>0.109730</td>\n",
       "      <td>1.052747</td>\n",
       "      <td>4.171018</td>\n",
       "      <td>2.040729</td>\n",
       "      <td>0.606897</td>\n",
       "      <td>-0.080053</td>\n",
       "      <td>1.114033</td>\n",
       "      <td>test</td>\n",
       "    </tr>\n",
       "    <tr>\n",
       "      <th>5</th>\n",
       "      <td>Amaranth, seed, cooked (without addition of fa...</td>\n",
       "      <td>cereals</td>\n",
       "      <td>-0.515837</td>\n",
       "      <td>-0.520365</td>\n",
       "      <td>-0.507942</td>\n",
       "      <td>-0.510205</td>\n",
       "      <td>-0.187356</td>\n",
       "      <td>-0.543661</td>\n",
       "      <td>0.080999</td>\n",
       "      <td>-0.436070</td>\n",
       "      <td>...</td>\n",
       "      <td>-0.378208</td>\n",
       "      <td>-0.160586</td>\n",
       "      <td>-0.147356</td>\n",
       "      <td>-0.110431</td>\n",
       "      <td>0.888977</td>\n",
       "      <td>0.209208</td>\n",
       "      <td>0.505708</td>\n",
       "      <td>-0.087645</td>\n",
       "      <td>-0.088073</td>\n",
       "      <td>train</td>\n",
       "    </tr>\n",
       "    <tr>\n",
       "      <th>6</th>\n",
       "      <td>Amaranth, seed, raw</td>\n",
       "      <td>cereals</td>\n",
       "      <td>1.003827</td>\n",
       "      <td>-0.219811</td>\n",
       "      <td>-0.354448</td>\n",
       "      <td>-0.315515</td>\n",
       "      <td>0.128793</td>\n",
       "      <td>-0.543661</td>\n",
       "      <td>1.860321</td>\n",
       "      <td>-0.353522</td>\n",
       "      <td>...</td>\n",
       "      <td>0.703124</td>\n",
       "      <td>-0.159880</td>\n",
       "      <td>-0.130871</td>\n",
       "      <td>0.541460</td>\n",
       "      <td>3.818110</td>\n",
       "      <td>2.609132</td>\n",
       "      <td>2.529475</td>\n",
       "      <td>-0.079579</td>\n",
       "      <td>1.493645</td>\n",
       "      <td>train</td>\n",
       "    </tr>\n",
       "  </tbody>\n",
       "</table>\n",
       "<p>5 rows × 41 columns</p>\n",
       "</div>"
      ],
      "text/plain": [
       "                                                 name category  energy_kcal  \\\n",
       "ID                                                                            \n",
       "2                                              Almond   fruits     2.470273   \n",
       "3                         Almond, dry roasted, salted     nuts     2.547143   \n",
       "4                             Almond, roasted, salted     nuts     2.618100   \n",
       "5   Amaranth, seed, cooked (without addition of fa...  cereals    -0.515837   \n",
       "6                                 Amaranth, seed, raw  cereals     1.003827   \n",
       "\n",
       "       fat_g  fatty_acids_sat_g  fatty_acids_monounsat_g  \\\n",
       "ID                                                         \n",
       "2   2.546513           0.008358                 4.503052   \n",
       "3   2.571048           0.008358                 4.778862   \n",
       "4   2.736659           0.022312                 5.054672   \n",
       "5  -0.520365          -0.507942                -0.510205   \n",
       "6  -0.219811          -0.354448                -0.315515   \n",
       "\n",
       "    fatty_acids_polyunsat_g  cholesterol_mg  carbohydrates_g  sugars_g  ...  \\\n",
       "ID                                                                      ...   \n",
       "2                  1.488234       -0.543661        -0.392568 -0.016448  ...   \n",
       "3                  1.741154       -0.543661        -0.286820 -0.133392  ...   \n",
       "4                  1.820191       -0.543661        -0.420154 -0.154029  ...   \n",
       "5                 -0.187356       -0.543661         0.080999 -0.436070  ...   \n",
       "6                  0.128793       -0.543661         1.860321 -0.353522  ...   \n",
       "\n",
       "    potassium_mg  sodium_mg  chloride_mg  calcium_mg  magnesium_mg  \\\n",
       "ID                                                                   \n",
       "2       1.555082  -0.160855    -0.146465    1.244480      3.641656   \n",
       "3       1.456779  -0.083837     0.109730    1.244480      4.347472   \n",
       "4       1.325709  -0.050189     0.109730    1.052747      4.171018   \n",
       "5      -0.378208  -0.160586    -0.147356   -0.110431      0.888977   \n",
       "6       0.703124  -0.159880    -0.130871    0.541460      3.818110   \n",
       "\n",
       "    phosphorus_mg   iron_mg  iodide_µg   zinc_mg  split  \n",
       "ID                                                       \n",
       "2        2.293353  0.606897  -0.090492  1.240570  train  \n",
       "3        2.040729  0.741814  -0.080053  1.240570   test  \n",
       "4        2.040729  0.606897  -0.080053  1.114033   test  \n",
       "5        0.209208  0.505708  -0.087645 -0.088073  train  \n",
       "6        2.609132  2.529475  -0.079579  1.493645  train  \n",
       "\n",
       "[5 rows x 41 columns]"
      ]
     },
     "execution_count": 2,
     "metadata": {},
     "output_type": "execute_result"
    }
   ],
   "source": [
    "# we will work with the preprocessed dataset\n",
    "dataset = pd.read_csv('data/swiss_food_composition_proc.csv', index_col='ID')\n",
    "# save the numerical columns in the cols variable\n",
    "numerical_cols = dataset.select_dtypes(include='number').columns\n",
    "dataset.head()"
   ]
  },
  {
   "attachments": {},
   "cell_type": "markdown",
   "metadata": {},
   "source": [
    "Here we define a function that will visualize the data after applying the dimensionality reduction techniques:"
   ]
  },
  {
   "cell_type": "code",
   "execution_count": 3,
   "metadata": {},
   "outputs": [],
   "source": [
    "def visualize_data(data:pd.DataFrame, title:str, hue_value:str):\n",
    "    sns.set(\n",
    "    rc={'figure.figsize':(7, 5), \n",
    "        'font.family': ['DejaVu Sans']}, \n",
    "    style='white'\n",
    "    )\n",
    "    with sns.plotting_context(\"notebook\", font_scale=1.3):\n",
    "        ax = sns.scatterplot(\n",
    "        data=data,\n",
    "        x=data.columns[0], y=data.columns[1],\n",
    "        alpha=1, hue= hue_value,\n",
    "        palette='tab10'\n",
    "    )\n",
    "    ax.set(title=title)\n",
    "    sns.move_legend(ax, \"center left\", bbox_to_anchor=(1, 0.5))"
   ]
  },
  {
   "attachments": {},
   "cell_type": "markdown",
   "metadata": {},
   "source": [
    "### PCA"
   ]
  },
  {
   "attachments": {},
   "cell_type": "markdown",
   "metadata": {},
   "source": [
    "Principal Component Analysis is a linear dimensionality reduction technique. It projects the data points to the dimensions of the highest variance, since they contain the most important information in the dataset. The data is projected into a new subspace with less features than before. The new axis of the data are orthogonal to each other and are the directions of the maximum variance in the dataset.\n",
    "\n",
    "[Fig. 2](#pca) gives an illustration of PCA:\n",
    "<center>\n",
    "    <a id=\"pca\"></a>\n",
    "    <img src=\"images/part2_unsupervised/PCA.jpg\" alt=\"Standardization\" width=\"90%\">\n",
    "    <center><figcaption><em>Figure 2: PCA components</em></figcaption></center>\n",
    "</center>\n",
    "\n",
    "The left-hand side figure shows the original data in two dimensions. We find the directions of the highest variance and then project the data according to  the subspace defined by these directions.\n",
    "The red axes in the middle figure depict the directions of the highest variance. The data points will be projected into these two directions, which is shown in the right-hand side of the figure. In this case there is no dimensionality reduction. The projected data points have two dimensions again, even after PCA, but they reside in a new subspace, defined by the directions of the highest variance.\n",
    "\n",
    "Besides dimensionality reduction, PCA is extensively used in bioinformatics for the analysis of gene expression levels."
   ]
  },
  {
   "attachments": {},
   "cell_type": "markdown",
   "metadata": {},
   "source": [
    "PCA is sensitive to data scaling. Therefore, it is important that the features are scaled before inputted to the PCA algorithm. Our dataset is already standardized from the previous tutorial. So we are ready to apply PCA and visualize the results."
   ]
  },
  {
   "cell_type": "code",
   "execution_count": 4,
   "metadata": {},
   "outputs": [],
   "source": [
    "pca = PCA(n_components=2) # define the PCA object\n",
    "\n",
    "# perform the PCA transformation and save the results in a dataframe\n",
    "pca_components = pd.DataFrame(\n",
    "    pca.fit_transform(dataset[numerical_cols]), # apply PCA here \n",
    "    columns=['dim_1', 'dim_2'], # define the new column names\n",
    "    index=dataset.index\n",
    ")"
   ]
  },
  {
   "attachments": {},
   "cell_type": "markdown",
   "metadata": {},
   "source": [
    "First, we define a PCA object that will perform the transformation. We specify the number of reduced dimensions, which in our case will be 2 (`n_components=2`). Then we apply the PCA transformation to the numerical part of our dataset by using the `fit_transform()` method of the `pca` object (`pca.fit_transform(dataset[numerical_cols])`). Note that this method takes the original dataset and reduces the 38 numerical features to 2 only. We save the new features in a dataframe. This dataframe will contain two columns `dim_1` and `dim_2`, one for each of the dimensions after PCA (`columns=['dim_1', 'dim_2']`). Finally, in order for the reduced dataset to have the same index as the original  dataset, we set the index to the dataset index (`index=dataset.index`)."
   ]
  },
  {
   "cell_type": "code",
   "execution_count": 5,
   "metadata": {},
   "outputs": [
    {
     "data": {
      "text/html": [
       "<div>\n",
       "<style scoped>\n",
       "    .dataframe tbody tr th:only-of-type {\n",
       "        vertical-align: middle;\n",
       "    }\n",
       "\n",
       "    .dataframe tbody tr th {\n",
       "        vertical-align: top;\n",
       "    }\n",
       "\n",
       "    .dataframe thead th {\n",
       "        text-align: right;\n",
       "    }\n",
       "</style>\n",
       "<table border=\"1\" class=\"dataframe\">\n",
       "  <thead>\n",
       "    <tr style=\"text-align: right;\">\n",
       "      <th></th>\n",
       "      <th>dim_1</th>\n",
       "      <th>dim_2</th>\n",
       "      <th>category</th>\n",
       "    </tr>\n",
       "    <tr>\n",
       "      <th>ID</th>\n",
       "      <th></th>\n",
       "      <th></th>\n",
       "      <th></th>\n",
       "    </tr>\n",
       "  </thead>\n",
       "  <tbody>\n",
       "    <tr>\n",
       "      <th>2</th>\n",
       "      <td>6.549825</td>\n",
       "      <td>6.456949</td>\n",
       "      <td>fruits</td>\n",
       "    </tr>\n",
       "    <tr>\n",
       "      <th>3</th>\n",
       "      <td>6.923943</td>\n",
       "      <td>6.193908</td>\n",
       "      <td>nuts</td>\n",
       "    </tr>\n",
       "    <tr>\n",
       "      <th>4</th>\n",
       "      <td>6.486742</td>\n",
       "      <td>6.898402</td>\n",
       "      <td>nuts</td>\n",
       "    </tr>\n",
       "    <tr>\n",
       "      <th>5</th>\n",
       "      <td>-0.924372</td>\n",
       "      <td>-0.584689</td>\n",
       "      <td>cereals</td>\n",
       "    </tr>\n",
       "    <tr>\n",
       "      <th>6</th>\n",
       "      <td>3.946850</td>\n",
       "      <td>0.080229</td>\n",
       "      <td>cereals</td>\n",
       "    </tr>\n",
       "  </tbody>\n",
       "</table>\n",
       "</div>"
      ],
      "text/plain": [
       "       dim_1     dim_2 category\n",
       "ID                             \n",
       "2   6.549825  6.456949   fruits\n",
       "3   6.923943  6.193908     nuts\n",
       "4   6.486742  6.898402     nuts\n",
       "5  -0.924372 -0.584689  cereals\n",
       "6   3.946850  0.080229  cereals"
      ]
     },
     "execution_count": 5,
     "metadata": {},
     "output_type": "execute_result"
    }
   ],
   "source": [
    "# recreate the dataset but with the pca_components\n",
    "data_after_pca = pd.concat([pca_components, dataset['category']], axis=1)\n",
    "data_after_pca.columns = ['dim_1', 'dim_2', 'category'] # rename the columns\n",
    "data_after_pca.head() # print the first 5 samples after PCA"
   ]
  },
  {
   "attachments": {},
   "cell_type": "markdown",
   "metadata": {},
   "source": [
    "To create the reduced dataset, we concatenate the `pca_components` with the *category* column of the dataset and form a new dataframe. The concatenation is horizontal (`axis=1`), meaning that the *category* is appended to  the right of the `pca_components` as a new column. We define the new columns of the dataframe to be `dim_1`, `dim_2` and `category`. You can see the first 5 samples as the output of the `head()` column. As you can see, the dataset now contains two numerical  features and the category.\n",
    "\n",
    "After this, we can visualize the data by using our method defined in the previous section:"
   ]
  },
  {
   "cell_type": "code",
   "execution_count": 6,
   "metadata": {},
   "outputs": [
    {
     "data": {
      "image/png": "[encoded data removed]",
      "text/plain": [
       "<Figure size 700x500 with 1 Axes>"
      ]
     },
     "metadata": {},
     "output_type": "display_data"
    }
   ],
   "source": [
    "visualize_data(data_after_pca, 'PCA embeddings', hue_value='category')"
   ]
  },
  {
   "attachments": {},
   "cell_type": "markdown",
   "metadata": {},
   "source": [
    "Here we can see where different food categories reside in the 2D space after applying PCA."
   ]
  },
  {
   "attachments": {},
   "cell_type": "markdown",
   "metadata": {},
   "source": [
    "### tSNE"
   ]
  },
  {
   "attachments": {},
   "cell_type": "markdown",
   "metadata": {},
   "source": [
    "t-distributed Stochastic Neighbor Embedding (t-SNE) is a non-linear dimensionality reduction technique. It is mainly used for visualizing high-dimensional datasets in low dimensions. tSNE is useful in datasets where groups/clusters are not linearly separable. Usually, in these circumstances, linear dimensionality reduction techniques like PCA do not work well.\n",
    "tSNE projects data points into the low dimensional space by trying to preserve the distances they have in the high-dimensional space. Also, tSNE requires the whole dataset to project it to the low-dimensional space and cannot be applied to new data points. You can consult [the original paper](https://www.jmlr.org/papers/volume9/vandermaaten08a/vandermaaten08a.pdf) for more information regarding how tSNE works. Alternatively, you can read [this blog post](https://towardsdatascience.com/t-sne-clearly-explained-d84c537f53a) for a more intuitive explanation."
   ]
  },
  {
   "attachments": {},
   "cell_type": "markdown",
   "metadata": {},
   "source": [
    "Now we will proceed with the implementation of tSNE. We will use the sklearn implementation of tSNE to reduce the original dataset to 2 dimensions for visualizing it, just like we did with PCA in the previous section."
   ]
  },
  {
   "cell_type": "code",
   "execution_count": 7,
   "metadata": {},
   "outputs": [],
   "source": [
    "def run_tsne(perplexity:int):\n",
    "    tsne = TSNE(n_components=2, perplexity=perplexity)\n",
    "    tsne_components = pd.DataFrame(\n",
    "        data=tsne.fit_transform(dataset[numerical_cols]), \n",
    "        columns=['dim_1', 'dim_2']\n",
    "    )\n",
    "    data_after_tsne = pd.concat([tsne_components, dataset['category']], axis=1)\n",
    "    data_after_tsne.columns = ['dim_1', 'dim_2', 'category']\n",
    "\n",
    "    visualize_data(data_after_tsne, \n",
    "                   f'tSNE embeddings - perplexity {perplexity}', \n",
    "                   hue_value='category')"
   ]
  },
  {
   "cell_type": "code",
   "execution_count": 50,
   "metadata": {},
   "outputs": [
    {
     "data": {
      "application/vnd.jupyter.widget-view+json": {
       "model_id": "53bbad9cbc184ee9bb1bb1423802864b",
       "version_major": 2,
       "version_minor": 0
      },
      "text/plain": [
       "interactive(children=(IntSlider(value=30, description='Perplexity:', min=10, step=5), Button(description='Run …"
      ]
     },
     "metadata": {},
     "output_type": "display_data"
    }
   ],
   "source": [
    "perplexity_slider = widgets.IntSlider(value=30, min=10, max=100, step=5, description='Perplexity:')\n",
    "widgets.interact_manual(run_tsne, perplexity=perplexity_slider);"
   ]
  },
  {
   "attachments": {},
   "cell_type": "markdown",
   "metadata": {},
   "source": [
    "### UMAP"
   ]
  },
  {
   "attachments": {},
   "cell_type": "markdown",
   "metadata": {},
   "source": [
    "**References:**"
   ]
  },
  {
   "attachments": {},
   "cell_type": "markdown",
   "metadata": {},
   "source": [
    "- \"Machine Learning with Pytorch and Scikit-Learn\" - Sebastian Raschka, Yuxi Liu, Vahid Mirjalili, Dmytro Dzhulgakov."
   ]
  }
 ],
 "metadata": {
  "kernelspec": {
   "display_name": "ml4food",
   "language": "python",
   "name": "python3"
  },
  "language_info": {
   "codemirror_mode": {
    "name": "ipython",
    "version": 3
   },
   "file_extension": ".py",
   "mimetype": "text/x-python",
   "name": "python",
   "nbconvert_exporter": "python",
   "pygments_lexer": "ipython3",
   "version": "3.10.11"
  },
  "orig_nbformat": 4
 },
 "nbformat": 4,
 "nbformat_minor": 2
}
