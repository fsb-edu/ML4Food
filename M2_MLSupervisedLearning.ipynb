{
 "cells": [
  {
   "cell_type": "markdown",
   "metadata": {},
   "source": [
    "# Module 2: Supervised Learning"
   ]
  },
  {
   "cell_type": "markdown",
   "metadata": {},
   "source": [
    "Welcome to the second module of this series! In this module you will first get a deeper look on what Supervised Learning is and in which cases it can be used. Then you will explore the main use cases of supervised learning, namely regression and classification. "
   ]
  },
  {
   "cell_type": "markdown",
   "metadata": {},
   "source": [
    "**Module Overview:**"
   ]
  },
  {
   "cell_type": "markdown",
   "metadata": {},
   "source": [
    "1. [Introduction to Supervised Learning](#intro)\n",
    "2. [Training of Supervised Learning Models](#training)<br>\n",
    "    2.1 [Parameters vs Hyperparameters](#params)<br>\n",
    "    2.2 [Cost Function](#cost)<br>\n",
    "3. [Evaluation of a Supervised Learning Models](#evaluation)<br>\n",
    "    3.1 [Evaluation Metrics for Regression](#reg_metrics)<br>\n",
    "    3.2 [Evaluation Metrics for Classification](#clf_metrics)<br>\n",
    "    3.3 [Overfitting and Underfitting](#over_under)\n",
    "4. [Regression](#regression)<br>\n",
    "    4.1 [Linear Regression](#lr-reg)<br>\n",
    "    4.2 [Decision Trees](#dt-reg)<br>\n",
    "    4.3 [Random Forest](#rf-reg)<br>\n",
    "5. [Classification](#classification)<br>\n",
    "    5.1 [Logistic Regression](#lr-clf)<br>\n",
    "    5.2 [Decision Trees](#dt-clf)<br>\n",
    "    5.3 [Random Forest](#rf-clf)<br>\n",
    "6. [Conclusion](#conclusion)<br>"
   ]
  },
  {
   "cell_type": "markdown",
   "metadata": {},
   "source": [
    "**Datasets:**"
   ]
  },
  {
   "cell_type": "markdown",
   "metadata": {},
   "source": [
    "In this module we will work with the already preprocessed Swiss Food Composition dataset from **Module 1: Introduction to Machine Learning and Data Preprocessing for Food Sciences** for classification and the Chocolate Bar Ratings dataset[1] for regression. You can find the preprocessed datasets in the `data/*_proc.csv`. While for detailed pre-processing steps you can see the `scripts/clean_chocolate_dataset.py` and `scripts/clean_swiss_food_dataset.py`.\n",
    "\n",
    "As a quick recap, we will work with the resulting swiss food composition dataset after:\n",
    "- removing the samples and features with more than 20% of missing values,\n",
    "- splitting the dataset in train and test sets,\n",
    "- imputing missing values \n",
    "- standardizing the remaining data\n",
    "\n",
    "While the preprocessing done to the Chocolate Bar Ratings dataset includes:\n",
    "- splitting the dataset into train and test, \n",
    "- impute missing values using mean strategy,\n",
    "- standardize numerical features, \n",
    "- transform and one-hot encode `year_reviewed` and `bean_origin`"
   ]
  },
  {
   "cell_type": "markdown",
   "metadata": {},
   "source": [
    "<a id=\"intro\"></a>\n",
    "## Introduction to Supervised Learning"
   ]
  },
  {
   "cell_type": "markdown",
   "metadata": {},
   "source": [
    "**Supervised learning** involves machine learning algorithms that aim to build models that learn from the data and are able to predict future values. It is the same as building a mathematical equation or formula with many input variables in order to be able to derive the desired output variable. \n",
    "**The data points that the model uses to learn, already have the corresponding outputs.** This is how the model is able to derive a connection between inputs and outputs. \n",
    "\n",
    "There are two types of problems in the supervised setting: *regression* and *classification*. In **regression**, the output that the model learns and then tries to predict is a continuous value (e.g learning age, height of people, etc). In **classification**, the output that the model learns and then tries to predict is a categorical value (e.g a class from a finite number of classes like the whether a tumor cell is benign or malignant). \n",
    "\n",
    "[Figure 1](#sup_lear_reg_clf) illustrates the machine learning pipeline when in case of supervised learning. From the figure we can see that there are three main parts in the pipeline: (1) **Pre-processing of Data**, (2) **Training of the model** and (3) **Evaluation of the model**. During pre-processing, the raw data undergoes transformations so that it is ready to be used in training. We have already described this steps in Module 1. The pre-processed data is split into train and test sets. During training, the model will use the train set to learn. After training is done, the test set is used to evaluate the performance of the model. This is a way to quantify how well the model has learned the data. When the model is ready to be used, it will receive new, unseen samples and will predict either a continuous value or a label, depending on whether the task at hand is regression or classification.\n",
    "\n",
    "<center>\n",
    "    <a id=\"sup_learn\"></a>\n",
    "    <img src=\"images/part2_supervised/supervised_learning_pipeline.jpg\" alt=\"ML Supervised Learning\" width=\"90%\">\n",
    "    <center><figcaption><em>Figure 1: Supervised Learning</em></figcaption></center>\n",
    "</center>\n"
   ]
  },
  {
   "cell_type": "markdown",
   "metadata": {},
   "source": [
    "###  Regression"
   ]
  },
  {
   "cell_type": "markdown",
   "metadata": {},
   "source": [
    "In the case of regression, the model learns from the data, with the aim of outputting a continuous value similar to what it saw during the training phase. \n",
    "<center>\n",
    "    <a id=\"regression\"></a>\n",
    "    <img src=\"images/part2_supervised/regression_illustration.jpg\" alt=\"Regression\" width=\"90%\">\n",
    "    <center><figcaption><em>Figure 2: Regression</em></figcaption></center>\n",
    "</center>\n"
   ]
  },
  {
   "cell_type": "markdown",
   "metadata": {},
   "source": [
    "[Figure 2](#regression) gives an illustration of regression in a 2D dataset. In this case, we have samples that have two coordinates: x and y. y depends on x, so y = f(x). The aim of regression would be to find a function f(x) that *best* approximates the corresponding values of y. *Best* is quantified through the loss metrics that we are going to see in the next section. In our example, this would be <span style=\"color:red\">a line of the form $$y=ax+b$$</span>, <span style=\"color:red\">indicated in red</span>. After the function is learned from the data, then we can use it to <span style=\"color:green\">predict the value on a new unseen sample during training (indicated by green)</span>. "
   ]
  },
  {
   "cell_type": "markdown",
   "metadata": {},
   "source": [
    "Note that in real life, datasets have more than 2 dimensions. In this case, a line is not sufficient, that is why a plane (3 coordinates) or a hyperplane(+3 coordinates) will be used as the regressor model to predict values. This is called **multiple linear regression**, in contrast to the example shown in Figure 2, which is **simple linear regression**.\n",
    "\n",
    "Besides linear regression, which assumes linear relationship between the variables, there are other types of regression like Decision Tree regression and Random Forest regression, which we will code below."
   ]
  },
  {
   "cell_type": "markdown",
   "metadata": {},
   "source": [
    "### Classification"
   ]
  },
  {
   "cell_type": "markdown",
   "metadata": {},
   "source": [
    "In classification, the target variable that the model tries to learn from the data and later predict is a class or a category. \n",
    "\n",
    "<center>\n",
    "    <a id=\"classification\"></a>\n",
    "    <img src=\"images/part2_supervised/classification_illustration.jpg\" alt=\"Classification\" width=\"90%\">\n",
    "    <center><figcaption><em>Figure 3: Classification</em></figcaption></center>\n",
    "</center>"
   ]
  },
  {
   "cell_type": "markdown",
   "metadata": {},
   "source": [
    "[Figure 3](#classification) shows an example of samples in a 2D coordinate system. As you can see, the samples belong to two classes: <span style=\"color:red\">positive</span> and <span style=\"color:green\">negative</span>. As we can see, the samples of the two classes are linearly separable. So, the model can learn a line that can perfectly separate the two classes. <span style=\"color:blue\">This line is indicated with blue</span> in our example. A new, unseen sample will be classified based on which side of the boundary it will fall. In our case, the circled sample is below the boundary line, so the model will classify it as <span style=\"color:red\">red</span>.\n",
    "\n",
    "Note that in real life scenarios, datasets have many more dimensions and classes. Also, classes may not be linearly separable. In this cases, the models will be hyperplanes or other structures that will be able to capture non-linear dependencies. In this tutorial, we will see in action Logistic Regression, Decision Tree classifiers and Random Forest classifiers."
   ]
  },
  {
   "cell_type": "markdown",
   "metadata": {},
   "source": [
    "<a id=\"training\"></a>\n",
    "## Training of Supervised Learning Models"
   ]
  },
  {
   "cell_type": "markdown",
   "metadata": {},
   "source": [
    "<a  id=\"params\"></a>\n",
    "### Parameters vs Hyperparameters"
   ]
  },
  {
   "cell_type": "markdown",
   "metadata": {},
   "source": [
    "\n",
    "In machine learning, parameters and hyperparameters play different roles. The **parameters** are values that **the machine learning model learns from the data**. At the end of the learning process, the data will be described by a mathematical equation. The main goal of the learning process is to find the parameters of this mathematical equation that would best describe the data. For example, suppose that you have some points scattered in a 2D coordinate system, just like in [Figure 2](#regression). Your aim is to find the line with an equation of the form: $$y = ax + b$$. \n",
    "\n",
    "In this case, `a` and `b` would be the parameters that the model would learn from the points so that the line would represent them in the best possible way.\n",
    "\n",
    "On the other hand, **hyperparameters control the learning process itself and how the parameters will be computed**. Hyperparameters are set by the data scientists/analysts and they are not learned by the model. You can think of them as **settings or configurations to tune the learning process**. Usually people use intuition, trial-and-error, and other, more sophisticated techniques like cross-validation to pick the right hyperparameters that would make the learning process faster and produce more accurate results. Going to the line example, the hyperparameters will determine **how complex** the equation of the line that will describe the points will be. \n",
    "\n",
    "All in all, **parameters determine the model output, while hyperparameters determine the way how the parameters would be learned**. You can read more about the distinction between parameters and hyperparameters [in this blog post](https://towardsdatascience.com/parameters-and-hyperparameters-aa609601a9ac).\n",
    "\n",
    "\n",
    "💡 **CHECKPOINT:**\n",
    "- How do parameters differ from hyperparameters? What role does each of them play in the learning process?\n",
    "- What is tuned by the data analyst and what is learned by the model?\n",
    "- Determine which of the following are parameters and which are hyperparameters in the following scenario: *We have a dataset that contains 1000 points, each of them having a single feature. The function that will approximate these points will have the form $y=ax^2+bx+c$. We do not want the model to overfit the data, so we set a regularization parameter λ=0.1, to be used during the training process. Since we do not want to wait long, we also determine the number of steps that the loss function will be computed and the weights updated, n=100.* Given this scenario, determine whether a, b, c, λ and n are parameters or hyperparameters."
   ]
  },
  {
   "cell_type": "markdown",
   "metadata": {},
   "source": [
    "<a id=\"cost\"></a>\n",
    "### Cost function"
   ]
  },
  {
   "cell_type": "markdown",
   "metadata": {},
   "source": [
    "The **cost function**, an essential part of all machine learning algorithms, quantifies how well the model can approximate the data. It is otherwise known as loss metric, loss function or objective function. It measures, how different are the predicted values of the model from the actual values, being them discrete or continuous. \n",
    "\n",
    "The cost function is a function of the parameters of the model. For example, in regression tasks, a common cost function used is the **mean squared error**(MSE): $$\\text{MSE} = \\frac{1}{n} \\sum_{i=1}^{n} (y_i - \\hat{y_i})^2$$, where $y_i$ is the actual value and $\\hat{y_i}$ is the predicted value for sample $i$. Referring to [Figure 2](#regression), $\\hat{y_i}=ax_i + b $ and the cost function can be written as:$$\\text{MSE}=L(a,b)=\\frac{1}{n} \\sum_{i=1}^{n} (y_i - (ax_i + b))^2$$. We need to find the values of $a$ and $b$, for which minimum $MSE$ is attained. This can be solved analytically by finding the derivative of $L$ with respect to $a$ and $b$, then equalizing them to 0 and solving them for $a$ and $b$. However, an analytic solution is not always possible. That is why, to find the optimal parameters, algorithms like Gradient Descent are used. Gradient Descent is able to find the optimal solutions by computing the predictions and loss function in multiple iterations. [Figure 4](#gradient-descent) illustrates the process. You can learn more about Gradient Descent [here](https://towardsdatascience.com/gradient-descent-algorithm-a-deep-dive-cf04e8115f21). \n",
    "\n",
    "Note that MSE is not the only cost function used in regression tasks. Other cost functions include: mean error, mean absolute error, etc.\n",
    "\n",
    "<center>\n",
    "    <a id=\"gradient-descent\"></a>\n",
    "    <img src=\"images/part2_supervised/lin_reg.gif\" alt=\"Gradient Descent\" width=\"90%\">\n",
    "    <center><figcaption><em>Figure 3: Cost function in Linear Regression</em></figcaption></center>\n",
    "</center>\n"
   ]
  },
  {
   "cell_type": "markdown",
   "metadata": {},
   "source": [
    "The concept of cost function in classification is the same, however, there are different cost functions applied in these tasks. Two common cost functions used are: **binary cross-entropy** and **categorical cross-entropy**, the first one used in binary class classification problems, while the later one used in multi-class classification problems. Again, during training, the parameters of the model are adjusted to  minimize the value of the cost function, iteratively, using algorithms like Gradient Descent.\n",
    "\n",
    "Cost functions are not only used during training but also during model evaluation, as we will see in the next section."
   ]
  },
  {
   "cell_type": "markdown",
   "metadata": {},
   "source": [
    "<a id=\"evaluation\"></a>\n",
    "## Evaluation of a Supervised Learning Models"
   ]
  },
  {
   "cell_type": "markdown",
   "metadata": {},
   "source": [
    "Evaluation metrics help us in assessing the effectiveness of a machine learning model on a given task. They are important in quantifying how well the models have learned from the data they were trained on, as well as how suitable a machine learning model is a for specific task.\n",
    "\n",
    "There are many evaluation metrics, depending on the task (classification or regression) and the characteristics of the dataset (e.g imbalanced classes, etc). Below we will explore some of the evaluation metrics used for classification and regression."
   ]
  },
  {
   "cell_type": "markdown",
   "metadata": {},
   "source": [
    "<a id=\"reg_metrics\"></a>\n",
    "### Evaluation metrics for regression"
   ]
  },
  {
   "cell_type": "markdown",
   "metadata": {},
   "source": [
    "**Mean Squared Error (MSE)** and **R-squared (R2)** are two of the most used evaluation metrics in regression task. The formula for calculating MSE is: $$\\text{MSE} = \\frac{1}{n} \\sum_{i=1}^{n} (y_i - \\hat{y_i})^2$$,\n",
    "the same as in the previous section, since MSE can be used both for evaluation of the model and as a cost function.\n",
    "\n",
    "The formula for R2 is:$$R^2 = 1 - \\frac{RSS}{TSS}$$, where:\n",
    "-  $RSS$ is **the sum of squared residuals** calculated as: $RSS = (y_i - \\hat{y_i})^2$, where $y_i$ is the target value for sample $i$ and the $\\hat{y_i}$ is the predicted value for sample $i$.\n",
    "- $TSS$ is **the total sum of squares**  calculated as: $TSS = (y_i - \\bar{y})^2$, where $y_i$ is the target value for sample $i$ and $\\bar{y}$ is the mean of the target values. \n",
    "\n",
    "R2 measures the proportion of variance in the target variable  that is explained by the model. It varies between 0 and 1. An R2 of 1 indicates that the models does not capture any variance in the target variable at all, while an R2=1 indicates that the model captures all the variance in the target variable.\n",
    "\n",
    "[Figure 4](#squared-errors) gives an illustration of the squared errors for different regression lines. The error ($y_i-\\hat{y_i}$) is considered to be the vertical distance between the y coordinate of the point and the regression line, shown in red.\n",
    "\n",
    "<center>\n",
    "    <a id=\"squared-errors\"></a>\n",
    "    <img src=\"images/part2_supervised/linear_regression.gif\" alt=\"Linear Regression errors\" width=\"40%\" height=\"40%\">\n",
    "    <center><figcaption><em>Figure 4: Linear Regression Squared Errors</em></figcaption></center>\n",
    "</center>\n"
   ]
  },
  {
   "cell_type": "markdown",
   "metadata": {},
   "source": [
    "<a id=\"clf_metrics\"></a>\n",
    "### Evaluation metrics for classification"
   ]
  },
  {
   "cell_type": "markdown",
   "metadata": {},
   "source": [
    "Some of the most used evaluation metrics in classification problems are: **accuracy**, **F1-score**, **receiver operating characteristic (ROC) curve** and **precision recall (PRC) curve**. The last two metrics are graphs and we are more interested in the area under this graph. Before analyzing the metrics, it is important to know and understand these terms:\n",
    " - **True Positive Samples (TP)**: these are samples that are classified as positive by the model and at the same time they belong to the positive class.\n",
    " - **True Negative Samples (TN)**: these are samples that are classified as negative by the model and at the same time they belong to the negative class.\n",
    " - **False Positive Samples (FP)**: these are samples that are classified as positive by the model but they belong to the negative class.\n",
    " - **False Negative Samples (FN)**: these are samples that are classified as negative by the model but they belong to the positive class.\n",
    "\n",
    "\n",
    "[Figure 5](#confusion-matrix) gives an illustration of this values. All the valuation metrics we will explore are based on these four values.\n",
    "<center>\n",
    "    <a id=\"confusion-matrix\"></a>\n",
    "    <img src=\"images/part2_supervised/confusion_matrix.jpg\" alt=\"Confusion Matrix\" width=\"40%\" height=\"40%\">\n",
    "    <center><figcaption><em>Figure 5: Confusion Matrix</em></figcaption></center>\n",
    "</center>\n",
    " \n",
    "\n",
    "1. **Accuracy** - it is the proportion of correctly classified samples by the model out of all samples: $Accuracy = \\frac{TP+TN}{N}$, where $N$ is the total number of samples tested.\n",
    "2. **F1-score** - it is the harmonic mean of precision and recall, where:\n",
    "    - $Precision = \\frac{TP}{TP+FP}$, is the ratio between the true positive samples and the total samples classified as positive by the model and,\n",
    "    - $Recall = \\frac{TP}{TP + FN}$, is the ratio of the true positive samples and the total real positive samples. \n",
    "F1 score balances these metrics and it is helpful especially in dealing with imbalanced classes. F1 score ranges from 0 to 1, with values near 1 indicating a good model.\n",
    "3. **ROC curve** - the ROC curve is a graph that plots the true positive rate (precision) against the false positive rate ($FPR = \\frac{FP}{FP + TN}$) at different classification thresholds (e.g at different threshold probabilities to classify a sample as positive: at least 60%). When using this metric, we are more interested in the area under the curve of ROC (**ROC AUC**), the higher the area under the curve ROC, the better the model. The maximum value achievable is 1. For more information on the ROC curve, you can read [this article](https://developers.google.com/machine-learning/crash-course/classification/roc-and-auc).\n",
    "4. **PRC curve** - the PRC curve plots the precision vs the recall across different classification thresholds, just like the ROC curve. Again the higher the value of the area under the curve (**AUC PRC**), the better the performance of the model. The maximum value achievable is 1. "
   ]
  },
  {
   "cell_type": "markdown",
   "metadata": {},
   "source": [
    "<a id=\"over_under\"></a>\n",
    "### Overfitting and Underfitting"
   ]
  },
  {
   "cell_type": "markdown",
   "metadata": {},
   "source": [
    "Sometimes, in order to better asses the performance of the model, it is necessary to check the performances both on the train and test sets and to compare the metrics. We want a model that has an optimal performance and that is neither underfitting not overfitting.\n",
    "\n",
    "**Overfitting** - happens when the performance of the model on the train set is a lot better than the test set. In this case, the model has learned the train set *by heart*, but cannot generalize well on new, unseen sample. In other words, the model overfits the train set. Some of the ways to deal with overfitting include: using a less complex model and regularization. \n",
    "\n",
    "**Underfitting** - happens when the model cannot learn the underlying relationships of the data because it might be too simple. The performance metrics both in the train and test sets are low. One of the ways to deal with underfitting is by choosing a more complex model.\n",
    "\n",
    "[Figure 6](#over-under-fitting) illustrates overfitting and underfitting.\n",
    "<center>\n",
    "    <a id=\"over-under-fitting\"></a>\n",
    "    <img src=\"images/part2_supervised/overfitting_2.png\" alt=\"Overfitting Underfitting\" width=\"60%\" height=\"60%\">\n",
    "    <center><figcaption><em>Figure 6: Overfitting and Underfitting Illustration [1]</em></figcaption></center>\n",
    "</center>\n"
   ]
  },
  {
   "cell_type": "markdown",
   "metadata": {},
   "source": [
    "<div class=\"note\">\n",
    "    <b>Regularization:</b>\n",
    "    <p>It is a way to penalize complex models and thus reduce overfitting. It is part of the training step of the model. The machine learning models are trained on the train set. Thus, they try learn the train set in the best way possible. However, if the model learns the train data by heart, then it will not generalize well on new unseen data. Regularization helps the model become more robust and avoid overfitting. To learn more about regularization, <a href=\"https://developers.google.com/machine-learning/crash-course/regularization-for-simplicity/video-lecture\">see here</a>.</p>\n",
    "</div>\n",
    "\n",
    "<style>\n",
    "    /* Styling for the note admonition */\n",
    "    .note {\n",
    "        padding: 10px;\n",
    "        border-left: 4px solid #007BFF; /* Replace this with your desired border color */\n",
    "        background-color: #f0f0f0; /* Replace this with your desired background color */\n",
    "        margin: 10px 0;\n",
    "    }\n",
    "</style>\n"
   ]
  },
  {
   "cell_type": "markdown",
   "metadata": {},
   "source": [
    "<a id=\"regression\"></a>\n",
    "## Regression Models"
   ]
  },
  {
   "cell_type": "markdown",
   "metadata": {},
   "source": [
    "In this section we are going to code 3 regression models: Linear Regression, Decision Trees and Random Forest and evaluate their performance in the Chocolate Bar Ratings dataset. Note that this dataset is already pre-processed. All pre-processing steps can be found in the `'scripts/clean_chocolate_dataset.py'` file. \n",
    "\n",
    "First, we will start by importing the necessary libraries, reading the dataset and defining some helper functions that we will need."
   ]
  },
  {
   "cell_type": "code",
   "execution_count": 2,
   "metadata": {},
   "outputs": [],
   "source": [
    "import os\n",
    "import pandas as  pd\n",
    "import matplotlib.pyplot as plt\n",
    "import numpy as np\n",
    "from sklearn.ensemble import RandomForestClassifier, RandomForestRegressor\n",
    "from sklearn.metrics import accuracy_score, f1_score\n",
    "import ipywidgets as widgets\n",
    "from sklearn.metrics import mean_squared_error, r2_score\n",
    "from sklearn.linear_model import LinearRegression\n",
    "from sklearn.tree import DecisionTreeRegressor\n",
    "from sklearn.tree import DecisionTreeClassifier\n",
    "from sklearn.metrics import PrecisionRecallDisplay, RocCurveDisplay\n",
    "from sklearn.linear_model import LogisticRegression"
   ]
  },
  {
   "cell_type": "code",
   "execution_count": 3,
   "metadata": {},
   "outputs": [
    {
     "data": {
      "text/html": [
       "<div>\n",
       "<style scoped>\n",
       "    .dataframe tbody tr th:only-of-type {\n",
       "        vertical-align: middle;\n",
       "    }\n",
       "\n",
       "    .dataframe tbody tr th {\n",
       "        vertical-align: top;\n",
       "    }\n",
       "\n",
       "    .dataframe thead th {\n",
       "        text-align: right;\n",
       "    }\n",
       "</style>\n",
       "<table border=\"1\" class=\"dataframe\">\n",
       "  <thead>\n",
       "    <tr style=\"text-align: right;\">\n",
       "      <th></th>\n",
       "      <th>id</th>\n",
       "      <th>cocoa_percent</th>\n",
       "      <th>num_ingredients</th>\n",
       "      <th>rating</th>\n",
       "      <th>split</th>\n",
       "      <th>year_binary</th>\n",
       "      <th>country_Peru</th>\n",
       "      <th>country_Venezuela</th>\n",
       "    </tr>\n",
       "  </thead>\n",
       "  <tbody>\n",
       "    <tr>\n",
       "      <th>0</th>\n",
       "      <td>2454</td>\n",
       "      <td>0.771568</td>\n",
       "      <td>-0.04148</td>\n",
       "      <td>3.25</td>\n",
       "      <td>train</td>\n",
       "      <td>1</td>\n",
       "      <td>0</td>\n",
       "      <td>0</td>\n",
       "    </tr>\n",
       "    <tr>\n",
       "      <th>1</th>\n",
       "      <td>2458</td>\n",
       "      <td>0.771568</td>\n",
       "      <td>-0.04148</td>\n",
       "      <td>3.50</td>\n",
       "      <td>test</td>\n",
       "      <td>1</td>\n",
       "      <td>0</td>\n",
       "      <td>0</td>\n",
       "    </tr>\n",
       "    <tr>\n",
       "      <th>2</th>\n",
       "      <td>2454</td>\n",
       "      <td>0.771568</td>\n",
       "      <td>-0.04148</td>\n",
       "      <td>3.75</td>\n",
       "      <td>train</td>\n",
       "      <td>1</td>\n",
       "      <td>0</td>\n",
       "      <td>0</td>\n",
       "    </tr>\n",
       "    <tr>\n",
       "      <th>3</th>\n",
       "      <td>2542</td>\n",
       "      <td>-0.682486</td>\n",
       "      <td>-0.04148</td>\n",
       "      <td>3.00</td>\n",
       "      <td>train</td>\n",
       "      <td>1</td>\n",
       "      <td>0</td>\n",
       "      <td>0</td>\n",
       "    </tr>\n",
       "    <tr>\n",
       "      <th>4</th>\n",
       "      <td>2546</td>\n",
       "      <td>0.044541</td>\n",
       "      <td>-0.04148</td>\n",
       "      <td>3.00</td>\n",
       "      <td>train</td>\n",
       "      <td>1</td>\n",
       "      <td>0</td>\n",
       "      <td>1</td>\n",
       "    </tr>\n",
       "  </tbody>\n",
       "</table>\n",
       "</div>"
      ],
      "text/plain": [
       "     id  cocoa_percent  num_ingredients  rating  split  year_binary  \\\n",
       "0  2454       0.771568         -0.04148    3.25  train            1   \n",
       "1  2458       0.771568         -0.04148    3.50   test            1   \n",
       "2  2454       0.771568         -0.04148    3.75  train            1   \n",
       "3  2542      -0.682486         -0.04148    3.00  train            1   \n",
       "4  2546       0.044541         -0.04148    3.00  train            1   \n",
       "\n",
       "   country_Peru  country_Venezuela  \n",
       "0             0                  0  \n",
       "1             0                  0  \n",
       "2             0                  0  \n",
       "3             0                  0  \n",
       "4             0                  1  "
      ]
     },
     "execution_count": 3,
     "metadata": {},
     "output_type": "execute_result"
    }
   ],
   "source": [
    "filepath = os.path.join( \"data\", \"chocolate_bars_proc.csv\")\n",
    "chocolate_dataset = pd.read_csv(filepath)\n",
    "chocolate_dataset.head()"
   ]
  },
  {
   "cell_type": "markdown",
   "metadata": {},
   "source": [
    "In the below code cell, we will select only the features that we will need for the regression task. Our target feature, meaning the value the model will learn to predict will be the `rating`. Thus, if we give as input to the model the bean origin, the year of the review, the cocoa percentage and the number of ingredients, it will be able to predict the rating of the chocolate bar:"
   ]
  },
  {
   "cell_type": "code",
   "execution_count": 4,
   "metadata": {},
   "outputs": [
    {
     "data": {
      "text/html": [
       "<div>\n",
       "<style scoped>\n",
       "    .dataframe tbody tr th:only-of-type {\n",
       "        vertical-align: middle;\n",
       "    }\n",
       "\n",
       "    .dataframe tbody tr th {\n",
       "        vertical-align: top;\n",
       "    }\n",
       "\n",
       "    .dataframe thead th {\n",
       "        text-align: right;\n",
       "    }\n",
       "</style>\n",
       "<table border=\"1\" class=\"dataframe\">\n",
       "  <thead>\n",
       "    <tr style=\"text-align: right;\">\n",
       "      <th></th>\n",
       "      <th>cocoa_percent</th>\n",
       "      <th>num_ingredients</th>\n",
       "      <th>year_binary</th>\n",
       "      <th>country_Venezuela</th>\n",
       "      <th>country_Peru</th>\n",
       "      <th>split</th>\n",
       "      <th>rating</th>\n",
       "    </tr>\n",
       "  </thead>\n",
       "  <tbody>\n",
       "    <tr>\n",
       "      <th>0</th>\n",
       "      <td>0.771568</td>\n",
       "      <td>-0.04148</td>\n",
       "      <td>1</td>\n",
       "      <td>0</td>\n",
       "      <td>0</td>\n",
       "      <td>train</td>\n",
       "      <td>3.25</td>\n",
       "    </tr>\n",
       "    <tr>\n",
       "      <th>1</th>\n",
       "      <td>0.771568</td>\n",
       "      <td>-0.04148</td>\n",
       "      <td>1</td>\n",
       "      <td>0</td>\n",
       "      <td>0</td>\n",
       "      <td>test</td>\n",
       "      <td>3.50</td>\n",
       "    </tr>\n",
       "    <tr>\n",
       "      <th>2</th>\n",
       "      <td>0.771568</td>\n",
       "      <td>-0.04148</td>\n",
       "      <td>1</td>\n",
       "      <td>0</td>\n",
       "      <td>0</td>\n",
       "      <td>train</td>\n",
       "      <td>3.75</td>\n",
       "    </tr>\n",
       "    <tr>\n",
       "      <th>3</th>\n",
       "      <td>-0.682486</td>\n",
       "      <td>-0.04148</td>\n",
       "      <td>1</td>\n",
       "      <td>0</td>\n",
       "      <td>0</td>\n",
       "      <td>train</td>\n",
       "      <td>3.00</td>\n",
       "    </tr>\n",
       "    <tr>\n",
       "      <th>4</th>\n",
       "      <td>0.044541</td>\n",
       "      <td>-0.04148</td>\n",
       "      <td>1</td>\n",
       "      <td>1</td>\n",
       "      <td>0</td>\n",
       "      <td>train</td>\n",
       "      <td>3.00</td>\n",
       "    </tr>\n",
       "  </tbody>\n",
       "</table>\n",
       "</div>"
      ],
      "text/plain": [
       "   cocoa_percent  num_ingredients  year_binary  country_Venezuela  \\\n",
       "0       0.771568         -0.04148            1                  0   \n",
       "1       0.771568         -0.04148            1                  0   \n",
       "2       0.771568         -0.04148            1                  0   \n",
       "3      -0.682486         -0.04148            1                  0   \n",
       "4       0.044541         -0.04148            1                  1   \n",
       "\n",
       "   country_Peru  split  rating  \n",
       "0             0  train    3.25  \n",
       "1             0   test    3.50  \n",
       "2             0  train    3.75  \n",
       "3             0  train    3.00  \n",
       "4             0  train    3.00  "
      ]
     },
     "execution_count": 4,
     "metadata": {},
     "output_type": "execute_result"
    }
   ],
   "source": [
    "chocolate_dataset = chocolate_dataset[['cocoa_percent','num_ingredients', 'year_binary',\\\n",
    "                                           'country_Venezuela', 'country_Peru', \\\n",
    "                                                'split', 'rating']]\n",
    "chocolate_dataset.head()"
   ]
  },
  {
   "cell_type": "code",
   "execution_count": 5,
   "metadata": {},
   "outputs": [],
   "source": [
    "def get_train_test_sets(dataset:pd.DataFrame):\n",
    "    '''\n",
    "    Function used to split the dataset intro train and test sets and return the train\n",
    "    and test features and target variables. The split is based on the pre-processing steps \n",
    "    included in the clean_chocolate_dataset.py script.\n",
    "    '''\n",
    "    feature_cols = dataset.columns.difference(['split', 'rating'])\n",
    "    \n",
    "    train_data = dataset[dataset['split'] == 'train']\n",
    "    test_data = dataset[dataset['split'] == 'test']\n",
    "    \n",
    "    return train_data[feature_cols], train_data['rating'], \\\n",
    "        test_data[feature_cols], test_data['rating']"
   ]
  },
  {
   "cell_type": "code",
   "execution_count": 6,
   "metadata": {},
   "outputs": [],
   "source": [
    "def run_regressor(regressor, title:str):\n",
    "    '''\n",
    "    This function will take a regressor object as well as the title\n",
    "    of the plot that will be visualized, as input. It will train the\n",
    "    regressor on the train set and get regressor's predictions on the\n",
    "    train and test sets. In teh end it will call the visualize_results\n",
    "    function to visualize the results that the trained model can achieve.\n",
    "    '''\n",
    "    train_set_features, train_set_ratings, \\\n",
    "        test_set_features, test_set_ratings = get_train_test_sets(chocolate_dataset)\n",
    "    \n",
    "    regressor.fit(train_set_features, train_set_ratings)\n",
    "    \n",
    "    y_train_pred = regressor.predict(train_set_features)\n",
    "    y_test_pred = regressor.predict(test_set_features)\n",
    "\n",
    "    visualize_results(train_set_ratings, y_train_pred, \n",
    "                      test_set_ratings, y_test_pred,\n",
    "                      title)\n",
    "\n",
    "def visualize_results(y_train_true:np.array, y_train_pred:np.array, \n",
    "                      y_test_true:np.array, y_test_pred:np.array, title:str):\n",
    "    '''\n",
    "    This function is used to visualize the results achieved by a regressor.\n",
    "    '''\n",
    "\n",
    "    print(f\"MSE (Train) = {mean_squared_error(y_train_true, y_train_pred):.3f}\")\n",
    "    print(f\"MSE (Test) = {mean_squared_error(y_test_true, y_test_pred):.3f}\")\n",
    "    print(f\"R2 (Train) = {r2_score(y_train_true, y_train_pred):.3f}\")\n",
    "    print(f\"R2 (Test) = {r2_score(y_test_true, y_test_pred):.3f}\")\n",
    "\n",
    "    _, axes = plt.subplots(nrows=1, ncols=2, figsize=(12,4))\n",
    "\n",
    "    axes[0].scatter(x=y_train_true, y=y_train_pred, s=4)\n",
    "    axes[0].plot(y_train_true, y_train_true, color='red', label='Perfect Model')\n",
    "    axes[0].set_xlabel(\"True Rating\")\n",
    "    axes[0].set_ylabel(\"Predicted Rating\")\n",
    "    axes[0].set_title(\"Predicted vs Actual - Train Set\");\n",
    "    axes[0].legend()\n",
    "\n",
    "    axes[1].scatter(x=y_test_true, y=y_test_pred, s=4)\n",
    "    axes[1].plot(y_test_true, y_test_true, color='red', label='Perfect Model')\n",
    "    axes[1].set_xlabel(\"True Rating\")\n",
    "    axes[1].set_ylabel(\"Predicted Rating\")\n",
    "    axes[1].set_title(\"Predicted vs Actual - Test Set\");\n",
    "    axes[1].legend()\n",
    "    \n",
    "    plt.suptitle(title)"
   ]
  },
  {
   "cell_type": "markdown",
   "metadata": {},
   "source": [
    "Now we are ready to initialize our models and see their performance in our regression task."
   ]
  },
  {
   "cell_type": "markdown",
   "metadata": {},
   "source": [
    "<a id=\"lr_reg\"></a>\n",
    "### Linear Regression"
   ]
  },
  {
   "cell_type": "markdown",
   "metadata": {},
   "source": [
    "Linear Regression is one of the simples regression models. Given the data it will try to find a linear equation that best fits it. The model will be of the form:\n",
    "$$rating  = w_1\\times cocoa\\_percent + w_2\\times num\\_ingredients + {w_3}\\times Other + w_4\\times Venezuela + w_5\\times Peru + w_6\\times year\\_binary$$\n",
    "\n",
    "During training it will learn the weights: $w_1, w_2, w_3, w_4, w_5, w_6$. After training, using the above equation it will be able to predict a rating for a given set of features. We will use the `initialize_linear_regressor` function to initialize the `LinearRegression()` object from the `sklearn` library. We determine the `title` of the plot when the results will be visualized and then, we call the `run_regressor()` function which will train the model and then call the visualization function. You can run the two below code cells to see the results: "
   ]
  },
  {
   "cell_type": "code",
   "execution_count": 7,
   "metadata": {},
   "outputs": [],
   "source": [
    "def initialize_linear_regressor():\n",
    "    regressor = LinearRegression()\n",
    "    title = f\"Linear Regression\"\n",
    "    run_regressor(regressor, title)"
   ]
  },
  {
   "cell_type": "code",
   "execution_count": 8,
   "metadata": {},
   "outputs": [
    {
     "name": "stdout",
     "output_type": "stream",
     "text": [
      "MSE (Train) = 0.194\n",
      "MSE (Test) = 0.177\n",
      "R2 (Train) = 0.049\n",
      "R2 (Test) = -0.009\n"
     ]
    },
    {
     "data": {
      "image/png": "[encoded data removed]",
      "text/plain": [
       "<Figure size 1200x400 with 2 Axes>"
      ]
     },
     "metadata": {},
     "output_type": "display_data"
    }
   ],
   "source": [
    "initialize_linear_regressor()"
   ]
  },
  {
   "cell_type": "markdown",
   "metadata": {},
   "source": [
    "The plots show the performance of the model both on the train and test sets. The red line indicate a perfect match between the actual and predicted ratings, while the blue dots plot the actual and predicted values."
   ]
  },
  {
   "cell_type": "markdown",
   "metadata": {},
   "source": [
    "<a id=\"dt_reg\"></a>\n",
    "### Decision Trees"
   ]
  },
  {
   "cell_type": "markdown",
   "metadata": {},
   "source": [
    "In contrast to linear regression, a decision tree will predict a rating by *asking a series of questions about the data*. [Figure 7]() gives a high level view of the process. By following the arrows from the root of the tree, down until the leaves, depending on the values the features of the sample have, the tree is able to make a prediction about the rating of a sample. The thresholds for making a split in all internal nodes are learned during the training process.\n",
    "<center>\n",
    "    <a id=\"decision_tree\"></a>\n",
    "    <img src=\"images/part2_supervised/decision_tree.jpg\" alt=\"Decision Tree\" width=\"60%\" height=\"60%\">\n",
    "    <center><figcaption><em>Figure 7: Decision tree model Illustration</em></figcaption></center>\n",
    "</center>\n",
    "\n"
   ]
  },
  {
   "cell_type": "markdown",
   "metadata": {},
   "source": [
    "Just like in linear regression, we use the `initialize_decision_tree_regressor()` to initialize the decision tree model and pass `max_depth` hyperparameter as a parameter to the function. One of the most important hyperparameters that we can finetune is the `max_depth`. Through it we can control how deep the tree will be. If deeper the tree the more likely that the model will learn the dataset by heart and overfit. By keeping the trees shallow, we reduce overfitting. It is important though to find a balance in order to prevent udnerfitting as well. When initializing the `DecisionTreeRegressor` we pass the `random_state=0` hyperparameter to make the results reproducible. The rest of the procedure is the same as in Linear Regression."
   ]
  },
  {
   "cell_type": "code",
   "execution_count": 9,
   "metadata": {},
   "outputs": [],
   "source": [
    "def initialize_decision_tree_regressor(max_depth:int):\n",
    "    regressor = DecisionTreeRegressor(max_depth=max_depth, random_state=0)\n",
    "    title = f\"Decision Tree Regression - max_depth={max_depth}\"\n",
    "    run_regressor(regressor, title)"
   ]
  },
  {
   "cell_type": "markdown",
   "metadata": {},
   "source": [
    "You can interact with the slider below and try different values for the `max_depth` hyperparameter."
   ]
  },
  {
   "cell_type": "code",
   "execution_count": 10,
   "metadata": {},
   "outputs": [
    {
     "data": {
      "application/vnd.jupyter.widget-view+json": {
       "model_id": "9c125171c04a4fec901882b0b291b3eb",
       "version_major": 2,
       "version_minor": 0
      },
      "text/plain": [
       "interactive(children=(IntSlider(value=10, description='max_depth:', max=20, min=1), Button(description='Run In…"
      ]
     },
     "metadata": {},
     "output_type": "display_data"
    }
   ],
   "source": [
    "max_depth_slider_1 = widgets.IntSlider(value=10, min=1, max=20, step=1, description='max_depth:')\n",
    "widgets.interact_manual(initialize_decision_tree_regressor,\n",
    "                        max_depth=max_depth_slider_1);"
   ]
  },
  {
   "cell_type": "markdown",
   "metadata": {},
   "source": [
    "<a id=\"rf_reg\"></a>\n",
    "### Random Forest"
   ]
  },
  {
   "cell_type": "markdown",
   "metadata": {},
   "source": [
    "The Random Forest models are part of the ensemble models. Ensemble learning models combine different machine learning models with the aim of increasing the performance. In these models, a prediction is reached by aggregating the predictions of each of the models that make the ensemble. [Figure 8](#random-forest) gives an illustration of a random forest model. The random forest model is made of many decision trees. The number of decision trees is determined by the `n_estimators` hyperparameter. Meanwhile, the depth of each decision tree is determined by the `max_depth` hyperparameter. In the below code cells, you can use the sliders to experiment with different values of these hyperparameters and see how they affect the MSE and R2 evaluation metrics.\n",
    "<center>\n",
    "    <a id=\"random_forest\"></a>\n",
    "    <img src=\"images/part2_supervised/random_forest.jpg\" alt=\"Random Forest\" width=\"80%\" height=\"60%\">\n",
    "    <center><figcaption><em>Figure 8: Random Forest Model Illustration</em></figcaption></center>\n",
    "</center>"
   ]
  },
  {
   "cell_type": "code",
   "execution_count": 11,
   "metadata": {},
   "outputs": [],
   "source": [
    "def initialize_random_forest_regressor(n_estimators:int, max_depth:int):\n",
    "    regressor = RandomForestRegressor(n_estimators=n_estimators, \n",
    "                                      max_depth=max_depth, random_state=0)\n",
    "    title = f\"Random Forest Regression - n_estimators={n_estimators} and max_depth={max_depth}\"\n",
    "    run_regressor(regressor, title)"
   ]
  },
  {
   "cell_type": "code",
   "execution_count": 12,
   "metadata": {},
   "outputs": [
    {
     "data": {
      "application/vnd.jupyter.widget-view+json": {
       "model_id": "53177c68d4234564a12b15345daf162e",
       "version_major": 2,
       "version_minor": 0
      },
      "text/plain": [
       "interactive(children=(IntSlider(value=30, description='n_estimators:', max=1000, min=10, step=5), IntSlider(va…"
      ]
     },
     "metadata": {},
     "output_type": "display_data"
    }
   ],
   "source": [
    "n_estimators_slider = widgets.IntSlider(value=30, min=10, max=1000, step=5, description='n_estimators:')\n",
    "max_depth_slider_2 = widgets.IntSlider(value=10, min=1, max=20, step=1, description='max_depth:')\n",
    "widgets.interact_manual(initialize_random_forest_regressor,\n",
    "                        n_estimators=n_estimators_slider,\n",
    "                        max_depth=max_depth_slider_2);"
   ]
  },
  {
   "cell_type": "markdown",
   "metadata": {},
   "source": [
    "<a id=\"classification\"></a>\n",
    "## Classification Models"
   ]
  },
  {
   "cell_type": "markdown",
   "metadata": {},
   "source": [
    "In this section we are going to code 3 classification models: Logistic Regression, Decision Trees and Random Forest and evaluate their performance in the Swiss Food Composition dataset. Note that this dataset is already pre-processed. All pre-processing steps can be found in the `'scripts/clean_swiss_food_dataset.py'` file. The classification task will consist in predicting the category of the food sample that will be **binary**. This transformation of the category column happens in the `prepare_dataset()` helper function.\n",
    "\n",
    "First, we will start by importing the necessary libraries, reading the dataset and defining some helper functions that we will need."
   ]
  },
  {
   "cell_type": "code",
   "execution_count": 13,
   "metadata": {},
   "outputs": [
    {
     "data": {
      "text/html": [
       "<div>\n",
       "<style scoped>\n",
       "    .dataframe tbody tr th:only-of-type {\n",
       "        vertical-align: middle;\n",
       "    }\n",
       "\n",
       "    .dataframe tbody tr th {\n",
       "        vertical-align: top;\n",
       "    }\n",
       "\n",
       "    .dataframe thead th {\n",
       "        text-align: right;\n",
       "    }\n",
       "</style>\n",
       "<table border=\"1\" class=\"dataframe\">\n",
       "  <thead>\n",
       "    <tr style=\"text-align: right;\">\n",
       "      <th></th>\n",
       "      <th>name</th>\n",
       "      <th>category</th>\n",
       "      <th>energy_kcal</th>\n",
       "      <th>fat_g</th>\n",
       "      <th>fatty_acids_sat_g</th>\n",
       "      <th>fatty_acids_monounsat_g</th>\n",
       "      <th>fatty_acids_polyunsat_g</th>\n",
       "      <th>cholesterol_mg</th>\n",
       "      <th>carbohydrates_g</th>\n",
       "      <th>sugars_g</th>\n",
       "      <th>...</th>\n",
       "      <th>potassium_mg</th>\n",
       "      <th>sodium_mg</th>\n",
       "      <th>chloride_mg</th>\n",
       "      <th>calcium_mg</th>\n",
       "      <th>magnesium_mg</th>\n",
       "      <th>phosphorus_mg</th>\n",
       "      <th>iron_mg</th>\n",
       "      <th>iodide_µg</th>\n",
       "      <th>zinc_mg</th>\n",
       "      <th>split</th>\n",
       "    </tr>\n",
       "    <tr>\n",
       "      <th>ID</th>\n",
       "      <th></th>\n",
       "      <th></th>\n",
       "      <th></th>\n",
       "      <th></th>\n",
       "      <th></th>\n",
       "      <th></th>\n",
       "      <th></th>\n",
       "      <th></th>\n",
       "      <th></th>\n",
       "      <th></th>\n",
       "      <th></th>\n",
       "      <th></th>\n",
       "      <th></th>\n",
       "      <th></th>\n",
       "      <th></th>\n",
       "      <th></th>\n",
       "      <th></th>\n",
       "      <th></th>\n",
       "      <th></th>\n",
       "      <th></th>\n",
       "      <th></th>\n",
       "    </tr>\n",
       "  </thead>\n",
       "  <tbody>\n",
       "    <tr>\n",
       "      <th>2</th>\n",
       "      <td>Almond</td>\n",
       "      <td>fruits</td>\n",
       "      <td>2.383884</td>\n",
       "      <td>2.367211</td>\n",
       "      <td>0.007568</td>\n",
       "      <td>3.747869</td>\n",
       "      <td>1.491113</td>\n",
       "      <td>-0.536758</td>\n",
       "      <td>-0.392082</td>\n",
       "      <td>0.004006</td>\n",
       "      <td>...</td>\n",
       "      <td>1.588591</td>\n",
       "      <td>-0.159777</td>\n",
       "      <td>-0.148160</td>\n",
       "      <td>1.295299</td>\n",
       "      <td>4.040213</td>\n",
       "      <td>2.312243</td>\n",
       "      <td>0.749351</td>\n",
       "      <td>-0.106408</td>\n",
       "      <td>1.315695</td>\n",
       "      <td>train</td>\n",
       "    </tr>\n",
       "    <tr>\n",
       "      <th>3</th>\n",
       "      <td>Almond, dry roasted, salted</td>\n",
       "      <td>nuts</td>\n",
       "      <td>2.458504</td>\n",
       "      <td>2.390231</td>\n",
       "      <td>0.007568</td>\n",
       "      <td>3.980279</td>\n",
       "      <td>1.745907</td>\n",
       "      <td>-0.536758</td>\n",
       "      <td>-0.285661</td>\n",
       "      <td>-0.117252</td>\n",
       "      <td>...</td>\n",
       "      <td>1.488645</td>\n",
       "      <td>-0.083438</td>\n",
       "      <td>0.108003</td>\n",
       "      <td>1.295299</td>\n",
       "      <td>4.816868</td>\n",
       "      <td>2.059374</td>\n",
       "      <td>0.906205</td>\n",
       "      <td>-0.088162</td>\n",
       "      <td>1.315695</td>\n",
       "      <td>train</td>\n",
       "    </tr>\n",
       "    <tr>\n",
       "      <th>4</th>\n",
       "      <td>Almond, roasted, salted</td>\n",
       "      <td>nuts</td>\n",
       "      <td>2.527384</td>\n",
       "      <td>2.545613</td>\n",
       "      <td>0.020843</td>\n",
       "      <td>4.212688</td>\n",
       "      <td>1.825530</td>\n",
       "      <td>-0.536758</td>\n",
       "      <td>-0.419844</td>\n",
       "      <td>-0.138650</td>\n",
       "      <td>...</td>\n",
       "      <td>1.355384</td>\n",
       "      <td>-0.050088</td>\n",
       "      <td>0.108003</td>\n",
       "      <td>1.098111</td>\n",
       "      <td>4.622704</td>\n",
       "      <td>2.059374</td>\n",
       "      <td>0.749351</td>\n",
       "      <td>-0.088162</td>\n",
       "      <td>1.185016</td>\n",
       "      <td>test</td>\n",
       "    </tr>\n",
       "    <tr>\n",
       "      <th>5</th>\n",
       "      <td>Amaranth, seed, cooked (without addition of fa...</td>\n",
       "      <td>cereals</td>\n",
       "      <td>-0.514820</td>\n",
       "      <td>-0.510234</td>\n",
       "      <td>-0.483593</td>\n",
       "      <td>-0.476516</td>\n",
       "      <td>-0.196900</td>\n",
       "      <td>-0.536758</td>\n",
       "      <td>0.084497</td>\n",
       "      <td>-0.431096</td>\n",
       "      <td>...</td>\n",
       "      <td>-0.377014</td>\n",
       "      <td>-0.159511</td>\n",
       "      <td>-0.149051</td>\n",
       "      <td>-0.098161</td>\n",
       "      <td>1.011260</td>\n",
       "      <td>0.226077</td>\n",
       "      <td>0.631711</td>\n",
       "      <td>-0.101432</td>\n",
       "      <td>-0.056440</td>\n",
       "      <td>test</td>\n",
       "    </tr>\n",
       "    <tr>\n",
       "      <th>6</th>\n",
       "      <td>Amaranth, seed, raw</td>\n",
       "      <td>cereals</td>\n",
       "      <td>0.960362</td>\n",
       "      <td>-0.228244</td>\n",
       "      <td>-0.337572</td>\n",
       "      <td>-0.312462</td>\n",
       "      <td>0.121593</td>\n",
       "      <td>-0.536758</td>\n",
       "      <td>1.875138</td>\n",
       "      <td>-0.345502</td>\n",
       "      <td>...</td>\n",
       "      <td>0.722392</td>\n",
       "      <td>-0.158810</td>\n",
       "      <td>-0.132568</td>\n",
       "      <td>0.572278</td>\n",
       "      <td>4.234377</td>\n",
       "      <td>2.628328</td>\n",
       "      <td>2.984515</td>\n",
       "      <td>-0.087333</td>\n",
       "      <td>1.577054</td>\n",
       "      <td>train</td>\n",
       "    </tr>\n",
       "  </tbody>\n",
       "</table>\n",
       "<p>5 rows × 41 columns</p>\n",
       "</div>"
      ],
      "text/plain": [
       "                                                 name category  energy_kcal  \\\n",
       "ID                                                                            \n",
       "2                                              Almond   fruits     2.383884   \n",
       "3                         Almond, dry roasted, salted     nuts     2.458504   \n",
       "4                             Almond, roasted, salted     nuts     2.527384   \n",
       "5   Amaranth, seed, cooked (without addition of fa...  cereals    -0.514820   \n",
       "6                                 Amaranth, seed, raw  cereals     0.960362   \n",
       "\n",
       "       fat_g  fatty_acids_sat_g  fatty_acids_monounsat_g  \\\n",
       "ID                                                         \n",
       "2   2.367211           0.007568                 3.747869   \n",
       "3   2.390231           0.007568                 3.980279   \n",
       "4   2.545613           0.020843                 4.212688   \n",
       "5  -0.510234          -0.483593                -0.476516   \n",
       "6  -0.228244          -0.337572                -0.312462   \n",
       "\n",
       "    fatty_acids_polyunsat_g  cholesterol_mg  carbohydrates_g  sugars_g  ...  \\\n",
       "ID                                                                      ...   \n",
       "2                  1.491113       -0.536758        -0.392082  0.004006  ...   \n",
       "3                  1.745907       -0.536758        -0.285661 -0.117252  ...   \n",
       "4                  1.825530       -0.536758        -0.419844 -0.138650  ...   \n",
       "5                 -0.196900       -0.536758         0.084497 -0.431096  ...   \n",
       "6                  0.121593       -0.536758         1.875138 -0.345502  ...   \n",
       "\n",
       "    potassium_mg  sodium_mg  chloride_mg  calcium_mg  magnesium_mg  \\\n",
       "ID                                                                   \n",
       "2       1.588591  -0.159777    -0.148160    1.295299      4.040213   \n",
       "3       1.488645  -0.083438     0.108003    1.295299      4.816868   \n",
       "4       1.355384  -0.050088     0.108003    1.098111      4.622704   \n",
       "5      -0.377014  -0.159511    -0.149051   -0.098161      1.011260   \n",
       "6       0.722392  -0.158810    -0.132568    0.572278      4.234377   \n",
       "\n",
       "    phosphorus_mg   iron_mg  iodide_µg   zinc_mg  split  \n",
       "ID                                                       \n",
       "2        2.312243  0.749351  -0.106408  1.315695  train  \n",
       "3        2.059374  0.906205  -0.088162  1.315695  train  \n",
       "4        2.059374  0.749351  -0.088162  1.185016   test  \n",
       "5        0.226077  0.631711  -0.101432 -0.056440   test  \n",
       "6        2.628328  2.984515  -0.087333  1.577054  train  \n",
       "\n",
       "[5 rows x 41 columns]"
      ]
     },
     "execution_count": 13,
     "metadata": {},
     "output_type": "execute_result"
    }
   ],
   "source": [
    "filepath = os.path.join(\"data\", \"swiss_food_composition_proc.csv\")\n",
    "dataset = pd.read_csv(filepath, index_col=0)\n",
    "dataset.head()"
   ]
  },
  {
   "cell_type": "code",
   "execution_count": 14,
   "metadata": {},
   "outputs": [],
   "source": [
    "def encode_label_category(label:str, label_column:pd.Series):\n",
    "    '''\n",
    "    This function converts the label_column to a column containing binary values\n",
    "    of 0 or 1. The rows whose value will be equal to `label` will contain a 1. All\n",
    "    the other rows will contain a 0.\n",
    "\n",
    "    Args:\n",
    "        - label: the category that will be encoded with 1\n",
    "        - label_column: the column that will be transformed\n",
    "\n",
    "    Return:\n",
    "    The transformed column.\n",
    "    '''\n",
    "    return label_column.apply(lambda x: 1 if x == label else 0)\n",
    "\n",
    "def prepare_dataset(label:str, original_dataset:pd.DataFrame):\n",
    "    \n",
    "    ''' \n",
    "    This function is used to prepare the original dataset for the next steps in \n",
    "    supervised learning. It extracts the labels, does the manual encoding of the \n",
    "    category specified in the label parameter and splits the dataset into train and \n",
    "    test based on the split from Module 1. Also, here the features and labels are\n",
    "    splitted in different dataframes.\n",
    "\n",
    "    Args: \n",
    "        - label: the category that will be classified\n",
    "        - original_datatset: the dataset\n",
    "    \n",
    "    Returns:\n",
    "        - train_features, test_features, train_labels, test_labels\n",
    "    '''\n",
    "    \n",
    "    labels_col = original_dataset['category']\n",
    "    \n",
    "    one_hot_labels = encode_label_category(label=label, label_column=labels_col)\n",
    "    \n",
    "    original_dataset['category_binary'] = one_hot_labels\n",
    "    train_data = original_dataset[original_dataset['split'] == 'train']\n",
    "    test_data = original_dataset[original_dataset['split'] == 'test']\n",
    "    \n",
    "    not_needed_cols = ['name', 'category', 'split', 'category_binary']\n",
    "    feature_cols = original_dataset.columns.difference(not_needed_cols)\n",
    "\n",
    "    return train_data[feature_cols], test_data[feature_cols], \\\n",
    "        train_data['category_binary'], test_data['category_binary']"
   ]
  },
  {
   "cell_type": "code",
   "execution_count": 15,
   "metadata": {},
   "outputs": [],
   "source": [
    "cereals_train_set_features, \\\n",
    "    cereals_test_set_features, \\\n",
    "    cereals_train_set_labels, \\\n",
    "        cereals_test_set_labels = prepare_dataset(\"cereals\", dataset)"
   ]
  },
  {
   "cell_type": "markdown",
   "metadata": {},
   "source": [
    "Below we can have a look, what the train and test sets contain:"
   ]
  },
  {
   "cell_type": "code",
   "execution_count": 16,
   "metadata": {},
   "outputs": [
    {
     "data": {
      "text/html": [
       "<div>\n",
       "<style scoped>\n",
       "    .dataframe tbody tr th:only-of-type {\n",
       "        vertical-align: middle;\n",
       "    }\n",
       "\n",
       "    .dataframe tbody tr th {\n",
       "        vertical-align: top;\n",
       "    }\n",
       "\n",
       "    .dataframe thead th {\n",
       "        text-align: right;\n",
       "    }\n",
       "</style>\n",
       "<table border=\"1\" class=\"dataframe\">\n",
       "  <thead>\n",
       "    <tr style=\"text-align: right;\">\n",
       "      <th></th>\n",
       "      <th>alcohol_g</th>\n",
       "      <th>beta_carotene_activity_µg</th>\n",
       "      <th>beta_carotene_µg</th>\n",
       "      <th>calcium_mg</th>\n",
       "      <th>carbohydrates_g</th>\n",
       "      <th>chloride_mg</th>\n",
       "      <th>cholesterol_mg</th>\n",
       "      <th>energy_kcal</th>\n",
       "      <th>fat_g</th>\n",
       "      <th>fatty_acids_monounsat_g</th>\n",
       "      <th>...</th>\n",
       "      <th>vit_A_activity_re_µg</th>\n",
       "      <th>vit_B12_µg</th>\n",
       "      <th>vit_B1_mg</th>\n",
       "      <th>vit_B2_mg</th>\n",
       "      <th>vit_B6_mg</th>\n",
       "      <th>vit_c_mg</th>\n",
       "      <th>vit_d_µg</th>\n",
       "      <th>vit_e_activity_mg</th>\n",
       "      <th>water_g</th>\n",
       "      <th>zinc_mg</th>\n",
       "    </tr>\n",
       "    <tr>\n",
       "      <th>ID</th>\n",
       "      <th></th>\n",
       "      <th></th>\n",
       "      <th></th>\n",
       "      <th></th>\n",
       "      <th></th>\n",
       "      <th></th>\n",
       "      <th></th>\n",
       "      <th></th>\n",
       "      <th></th>\n",
       "      <th></th>\n",
       "      <th></th>\n",
       "      <th></th>\n",
       "      <th></th>\n",
       "      <th></th>\n",
       "      <th></th>\n",
       "      <th></th>\n",
       "      <th></th>\n",
       "      <th></th>\n",
       "      <th></th>\n",
       "      <th></th>\n",
       "      <th></th>\n",
       "    </tr>\n",
       "  </thead>\n",
       "  <tbody>\n",
       "    <tr>\n",
       "      <th>2</th>\n",
       "      <td>-0.122655</td>\n",
       "      <td>-0.164054</td>\n",
       "      <td>-0.160407</td>\n",
       "      <td>1.295299</td>\n",
       "      <td>-0.392082</td>\n",
       "      <td>-0.148160</td>\n",
       "      <td>-0.536758</td>\n",
       "      <td>2.383884</td>\n",
       "      <td>2.367211</td>\n",
       "      <td>3.747869</td>\n",
       "      <td>...</td>\n",
       "      <td>-0.182957</td>\n",
       "      <td>-0.219544</td>\n",
       "      <td>0.010923</td>\n",
       "      <td>2.814479</td>\n",
       "      <td>-0.167012</td>\n",
       "      <td>-0.399327</td>\n",
       "      <td>-0.346081</td>\n",
       "      <td>4.417923</td>\n",
       "      <td>-1.954732</td>\n",
       "      <td>1.315695</td>\n",
       "    </tr>\n",
       "    <tr>\n",
       "      <th>3</th>\n",
       "      <td>-0.122655</td>\n",
       "      <td>-0.163317</td>\n",
       "      <td>-0.159667</td>\n",
       "      <td>1.295299</td>\n",
       "      <td>-0.285661</td>\n",
       "      <td>0.108003</td>\n",
       "      <td>-0.536758</td>\n",
       "      <td>2.458504</td>\n",
       "      <td>2.390231</td>\n",
       "      <td>3.980279</td>\n",
       "      <td>...</td>\n",
       "      <td>-0.182957</td>\n",
       "      <td>-0.219544</td>\n",
       "      <td>-0.146968</td>\n",
       "      <td>3.746767</td>\n",
       "      <td>-0.125736</td>\n",
       "      <td>-0.426040</td>\n",
       "      <td>-0.346081</td>\n",
       "      <td>3.862716</td>\n",
       "      <td>-1.986216</td>\n",
       "      <td>1.315695</td>\n",
       "    </tr>\n",
       "    <tr>\n",
       "      <th>6</th>\n",
       "      <td>-0.122655</td>\n",
       "      <td>-0.164054</td>\n",
       "      <td>-0.160407</td>\n",
       "      <td>0.572278</td>\n",
       "      <td>1.875138</td>\n",
       "      <td>-0.132568</td>\n",
       "      <td>-0.536758</td>\n",
       "      <td>0.960362</td>\n",
       "      <td>-0.228244</td>\n",
       "      <td>-0.312462</td>\n",
       "      <td>...</td>\n",
       "      <td>-0.182957</td>\n",
       "      <td>-0.219544</td>\n",
       "      <td>-0.146968</td>\n",
       "      <td>0.125184</td>\n",
       "      <td>1.484020</td>\n",
       "      <td>-0.201648</td>\n",
       "      <td>-0.346081</td>\n",
       "      <td>-0.077520</td>\n",
       "      <td>-1.681869</td>\n",
       "      <td>1.577054</td>\n",
       "    </tr>\n",
       "    <tr>\n",
       "      <th>7</th>\n",
       "      <td>-0.122655</td>\n",
       "      <td>-0.164054</td>\n",
       "      <td>-0.160407</td>\n",
       "      <td>-0.025858</td>\n",
       "      <td>2.795907</td>\n",
       "      <td>-0.146601</td>\n",
       "      <td>-0.536758</td>\n",
       "      <td>1.465483</td>\n",
       "      <td>0.117049</td>\n",
       "      <td>0.521478</td>\n",
       "      <td>...</td>\n",
       "      <td>-0.182957</td>\n",
       "      <td>-0.201410</td>\n",
       "      <td>-0.237192</td>\n",
       "      <td>0.555472</td>\n",
       "      <td>-0.538494</td>\n",
       "      <td>-0.420698</td>\n",
       "      <td>-0.346081</td>\n",
       "      <td>0.885417</td>\n",
       "      <td>-2.070174</td>\n",
       "      <td>-0.317799</td>\n",
       "    </tr>\n",
       "    <tr>\n",
       "      <th>8</th>\n",
       "      <td>-0.122655</td>\n",
       "      <td>-0.154476</td>\n",
       "      <td>-0.150793</td>\n",
       "      <td>0.966653</td>\n",
       "      <td>-0.743732</td>\n",
       "      <td>1.179435</td>\n",
       "      <td>0.285864</td>\n",
       "      <td>0.363401</td>\n",
       "      <td>0.594705</td>\n",
       "      <td>1.341747</td>\n",
       "      <td>...</td>\n",
       "      <td>-0.164188</td>\n",
       "      <td>3.842408</td>\n",
       "      <td>-0.259748</td>\n",
       "      <td>0.125184</td>\n",
       "      <td>0.452125</td>\n",
       "      <td>-0.404670</td>\n",
       "      <td>0.642980</td>\n",
       "      <td>0.672010</td>\n",
       "      <td>-0.016704</td>\n",
       "      <td>0.008900</td>\n",
       "    </tr>\n",
       "  </tbody>\n",
       "</table>\n",
       "<p>5 rows × 38 columns</p>\n",
       "</div>"
      ],
      "text/plain": [
       "    alcohol_g  beta_carotene_activity_µg  beta_carotene_µg  calcium_mg  \\\n",
       "ID                                                                       \n",
       "2   -0.122655                  -0.164054         -0.160407    1.295299   \n",
       "3   -0.122655                  -0.163317         -0.159667    1.295299   \n",
       "6   -0.122655                  -0.164054         -0.160407    0.572278   \n",
       "7   -0.122655                  -0.164054         -0.160407   -0.025858   \n",
       "8   -0.122655                  -0.154476         -0.150793    0.966653   \n",
       "\n",
       "    carbohydrates_g  chloride_mg  cholesterol_mg  energy_kcal     fat_g  \\\n",
       "ID                                                                        \n",
       "2         -0.392082    -0.148160       -0.536758     2.383884  2.367211   \n",
       "3         -0.285661     0.108003       -0.536758     2.458504  2.390231   \n",
       "6          1.875138    -0.132568       -0.536758     0.960362 -0.228244   \n",
       "7          2.795907    -0.146601       -0.536758     1.465483  0.117049   \n",
       "8         -0.743732     1.179435        0.285864     0.363401  0.594705   \n",
       "\n",
       "    fatty_acids_monounsat_g  ...  vit_A_activity_re_µg  vit_B12_µg  vit_B1_mg  \\\n",
       "ID                           ...                                                \n",
       "2                  3.747869  ...             -0.182957   -0.219544   0.010923   \n",
       "3                  3.980279  ...             -0.182957   -0.219544  -0.146968   \n",
       "6                 -0.312462  ...             -0.182957   -0.219544  -0.146968   \n",
       "7                  0.521478  ...             -0.182957   -0.201410  -0.237192   \n",
       "8                  1.341747  ...             -0.164188    3.842408  -0.259748   \n",
       "\n",
       "    vit_B2_mg  vit_B6_mg  vit_c_mg  vit_d_µg  vit_e_activity_mg   water_g  \\\n",
       "ID                                                                          \n",
       "2    2.814479  -0.167012 -0.399327 -0.346081           4.417923 -1.954732   \n",
       "3    3.746767  -0.125736 -0.426040 -0.346081           3.862716 -1.986216   \n",
       "6    0.125184   1.484020 -0.201648 -0.346081          -0.077520 -1.681869   \n",
       "7    0.555472  -0.538494 -0.420698 -0.346081           0.885417 -2.070174   \n",
       "8    0.125184   0.452125 -0.404670  0.642980           0.672010 -0.016704   \n",
       "\n",
       "     zinc_mg  \n",
       "ID            \n",
       "2   1.315695  \n",
       "3   1.315695  \n",
       "6   1.577054  \n",
       "7  -0.317799  \n",
       "8   0.008900  \n",
       "\n",
       "[5 rows x 38 columns]"
      ]
     },
     "execution_count": 16,
     "metadata": {},
     "output_type": "execute_result"
    }
   ],
   "source": [
    "cereals_train_set_features.head()"
   ]
  },
  {
   "cell_type": "code",
   "execution_count": 17,
   "metadata": {},
   "outputs": [
    {
     "data": {
      "text/plain": [
       "ID\n",
       "2    0\n",
       "3    0\n",
       "6    1\n",
       "7    0\n",
       "8    0\n",
       "Name: category_binary, dtype: int64"
      ]
     },
     "execution_count": 17,
     "metadata": {},
     "output_type": "execute_result"
    }
   ],
   "source": [
    "cereals_train_set_labels.head()"
   ]
  },
  {
   "cell_type": "code",
   "execution_count": 18,
   "metadata": {},
   "outputs": [],
   "source": [
    "def get_plot_titles(category:str, max_depth:int, n_estimators:int, clf_type:str):\n",
    "    if clf_type==\"lr\":\n",
    "        return f'Logistic Regression: category={category}'\n",
    "    elif clf_type==\"dt\":\n",
    "        return f'Decision Tree: category={category}: max_depth={max_depth}'\n",
    "    elif clf_type==\"rf\":\n",
    "        return f'Random Forest: category={category}: max_depth={max_depth} and n_estimators={n_estimators}'\n",
    "    return None\n",
    "\n",
    "def run_auc_roc_prc(clf, X_train, X_test, y_train, y_test, sup_title:str):\n",
    "\n",
    "    roc_title = f'ROC - curve'\n",
    "    prc_title = f'PRC - curve'\n",
    "      \n",
    "    print(f\"Accuracy (Test): {accuracy_score(y_true=y_test, y_pred=clf.predict(X_test))*100:.2f}%\")\n",
    "    print(f\"F1-score (Test): {f1_score(y_true=y_test, y_pred=clf.predict(X_test)):.2f}\")\n",
    "    print(f\"Accuracy (Train): {accuracy_score(y_true=y_train, y_pred=clf.predict(X_train))*100:.2f}%\")\n",
    "    print(f\"F1-score (Train): {f1_score(y_true=y_train, y_pred=clf.predict(X_train)):.2f}\")\n",
    "\n",
    "    _, axes = plt.subplots(nrows=1, ncols=2, figsize=(12, 6))\n",
    "    axes[0].set_title(roc_title)\n",
    "    axes[1].set_title(prc_title) \n",
    "    RocCurveDisplay.from_estimator(clf, X_test, y_test, name=\"Test set\", ax=axes[0], alpha=0.8, plot_chance_level=True)\n",
    "    RocCurveDisplay.from_estimator(clf, X_train, y_train, name=\"Train set\", ax=axes[0], alpha=0.8)\n",
    "    PrecisionRecallDisplay.from_estimator(clf, X_test, y_test, name=\"Test set\", ax=axes[1], alpha=0.8, plot_chance_level=True)\n",
    "    PrecisionRecallDisplay.from_estimator(clf, X_train, y_train, name=\"Train set\", ax=axes[1], alpha=0.8)\n",
    "\n",
    "    plt.suptitle(sup_title)\n",
    "    plt.show()"
   ]
  },
  {
   "cell_type": "markdown",
   "metadata": {},
   "source": [
    "<a id=\"lr-clf\"></a>\n",
    "### Logistic Regression"
   ]
  },
  {
   "cell_type": "markdown",
   "metadata": {},
   "source": [
    "Despite of its name, logistic regression is a classification model. It is the equivalent of Linear Regression in classification tasks. It tries to find a linear equation that receives the features of a sample as input and outputs the predicted class. The model's equation will be similar to that of Linear Regression:\n",
    "$$category \\;probability  = \\frac{1}{1+e^{-(w_1\\times f_1 + w_2\\times f_2 + {w_3}\\times f_3 + ... + w_n\\times f_n)}}$$\n",
    "During training, the model will learn the weights $w_1, w_2, ..., w_n$. After training, when it will receive a new sample, it will compute the above function to find the category probability and based on a classification threshold determined by the data scientist, it will predict the category.\n",
    "\n",
    "Below, the `run_logistic_regression_classifier()` function will initialize the Logistic Regression object by giving the `random_state=0` as argument to make the results reproducible. Then we call the `run_auc_roc_prc()` function to visualize the results obtained by the model."
   ]
  },
  {
   "cell_type": "code",
   "execution_count": 19,
   "metadata": {},
   "outputs": [],
   "source": [
    "def run_logistic_regression_classifier():\n",
    "    \n",
    "    train_data_features, test_data_features, \\\n",
    "        train_data_labels, test_data_labels \\\n",
    "            = prepare_dataset(label=\"meat\", original_dataset=dataset)\n",
    "    \n",
    "    sup_title = get_plot_titles('Meat', max_depth=None, \\\n",
    "                                n_estimators=None, clf_type=\"lr\")\n",
    "\n",
    "    lr_classifier = LogisticRegression(random_state=0)\n",
    "    \n",
    "    lr_classifier.fit(train_data_features, train_data_labels.values.ravel())\n",
    "    \n",
    "    run_auc_roc_prc(lr_classifier, X_train=train_data_features, \n",
    "                                   y_train=train_data_labels, X_test=test_data_features,\n",
    "                                   y_test=test_data_labels, sup_title=sup_title)"
   ]
  },
  {
   "cell_type": "code",
   "execution_count": 20,
   "metadata": {},
   "outputs": [
    {
     "name": "stdout",
     "output_type": "stream",
     "text": [
      "Accuracy (Test): 98.16%\n",
      "F1-score (Test): 0.95\n",
      "Accuracy (Train): 98.85%\n",
      "F1-score (Train): 0.97\n"
     ]
    },
    {
     "data": {
      "image/png": "[encoded data removed]",
      "text/plain": [
       "<Figure size 1200x600 with 2 Axes>"
      ]
     },
     "metadata": {},
     "output_type": "display_data"
    }
   ],
   "source": [
    "run_logistic_regression_classifier()"
   ]
  },
  {
   "cell_type": "markdown",
   "metadata": {},
   "source": [
    "<a id=\"dt-clf\"></a>\n",
    "### Decision Trees"
   ]
  },
  {
   "cell_type": "markdown",
   "metadata": {},
   "source": [
    "Decision Trees, can be used for classification tasks, in the same way as they are used for regression tasks. The only difference is that instead of predicting continuous values they will predict categories. [Figure 9](#decision_tree_clf) illustrates the process. Again the split thresholds are learned during training. Just like in regression, we determine the depth of the tree using the `max_depth` hyperparameter, that has the same function as in the regression example above.\n",
    "<center>\n",
    "    <a id=\"decision_tree_clf\"></a>\n",
    "    <img src=\"images/part2_supervised/decision_tree_clf.jpg\" alt=\"Decision Trees\" width=\"60%\" height=\"60%\">\n",
    "    <center><figcaption><em>Figure 9: Decision Tree for Classification</em></figcaption></center>\n",
    "</center>"
   ]
  },
  {
   "cell_type": "code",
   "execution_count": 21,
   "metadata": {},
   "outputs": [],
   "source": [
    "def run_decision_tree_classifier(max_depth:int):\n",
    "    \n",
    "    train_data_features, test_data_features, \\\n",
    "        train_data_labels, test_data_labels \\\n",
    "            = prepare_dataset(label=\"meat\", original_dataset=dataset)\n",
    "    \n",
    "    sup_title = get_plot_titles('Meat', max_depth=max_depth, \\\n",
    "                                n_estimators=None, clf_type=\"dt\")\n",
    "    \n",
    "    dt_classifier = DecisionTreeClassifier(max_depth=max_depth,\n",
    "                                           random_state=0)\n",
    "    \n",
    "    dt_classifier.fit(train_data_features, train_data_labels.values.ravel())\n",
    "    \n",
    "    run_auc_roc_prc(dt_classifier, X_train=train_data_features, \n",
    "                                   y_train=train_data_labels, X_test=test_data_features,\n",
    "                                   y_test=test_data_labels, sup_title=sup_title)"
   ]
  },
  {
   "cell_type": "markdown",
   "metadata": {},
   "source": [
    "You can use the slider to determine the `max_depth` of the decision tree, and see how this will affect model performance."
   ]
  },
  {
   "cell_type": "code",
   "execution_count": 22,
   "metadata": {},
   "outputs": [
    {
     "data": {
      "application/vnd.jupyter.widget-view+json": {
       "model_id": "027d262fe72c4d2ebbad37ea2878b898",
       "version_major": 2,
       "version_minor": 0
      },
      "text/plain": [
       "interactive(children=(IntSlider(value=10, description='max_depth:', max=20, min=1), Button(description='Run In…"
      ]
     },
     "metadata": {},
     "output_type": "display_data"
    }
   ],
   "source": [
    "max_depth_slider_3 = widgets.IntSlider(value=10, min=1, max=20,\\\n",
    "                                        step=1, description='max_depth:')\n",
    "widgets.interact_manual(run_decision_tree_classifier,\n",
    "                        max_depth=max_depth_slider_3,\n",
    "                        );"
   ]
  },
  {
   "cell_type": "markdown",
   "metadata": {},
   "source": [
    "<a id=\"rf-clf\"></a>\n",
    "### Random Forest"
   ]
  },
  {
   "cell_type": "markdown",
   "metadata": {},
   "source": [
    "The Random Forest model for classification is the same as for regression. There will be two hyperparameters to experiment with again: `max_depth` and `n_estimators`. The number of decision trees is determined by the `n_estimators` hyperparameter. Meanwhile, the depth of each decision tree is determined by the `max_depth` hyperparameter. In the below code cells, you can use the sliders to experiment with different values of these hyperparameters and see how they affect the accuracy, F1 score and ROC and PRC areas..\n",
    "<center>\n",
    "    <a id=\"random_forest_clf\"></a>\n",
    "    <img src=\"images/part2_supervised/random_forest_clf.jpg\" alt=\"Random Forest\" width=\"80%\" height=\"60%\">\n",
    "    <center><figcaption><em>Figure 10: Random Forest Model Illustration</em></figcaption></center>\n",
    "</center>"
   ]
  },
  {
   "cell_type": "code",
   "execution_count": 23,
   "metadata": {},
   "outputs": [],
   "source": [
    "def run_random_forest_classifier(n_estimators:int, max_depth:int):\n",
    "    \n",
    "    train_data_features, test_data_features, \\\n",
    "        train_data_labels, test_data_labels \\\n",
    "            = prepare_dataset(label=\"meat\", original_dataset=dataset)\n",
    "    \n",
    "    sup_title = get_plot_titles('Meat', n_estimators=n_estimators, \\\n",
    "                                max_depth=max_depth, clf_type=\"rf\")\n",
    "\n",
    "    rf_classifier = RandomForestClassifier(n_estimators=n_estimators, \n",
    "                                           max_depth=max_depth,\n",
    "                                           random_state=0)\n",
    "    \n",
    "    rf_classifier.fit(train_data_features, train_data_labels.values.ravel())\n",
    "    \n",
    "    run_auc_roc_prc(rf_classifier, X_train=train_data_features, \n",
    "                                   y_train=train_data_labels, X_test=test_data_features,\n",
    "                                   y_test=test_data_labels, sup_title=sup_title)"
   ]
  },
  {
   "cell_type": "code",
   "execution_count": 24,
   "metadata": {},
   "outputs": [],
   "source": [
    "n_estimators_slider = widgets.IntSlider(value=30, min=10, max=1000,\\\n",
    "                                         step=5, description='n_estimators:')\n",
    "max_depth_slider_4 = widgets.IntSlider(value=10, min=1, max=20,\\\n",
    "                                        step=1, description='max_depth:')"
   ]
  },
  {
   "cell_type": "code",
   "execution_count": 25,
   "metadata": {},
   "outputs": [
    {
     "data": {
      "application/vnd.jupyter.widget-view+json": {
       "model_id": "c9eec1fd6e5c492c99ce9d8537738612",
       "version_major": 2,
       "version_minor": 0
      },
      "text/plain": [
       "interactive(children=(IntSlider(value=30, description='n_estimators:', max=1000, min=10, step=5), IntSlider(va…"
      ]
     },
     "metadata": {},
     "output_type": "display_data"
    }
   ],
   "source": [
    "widgets.interact_manual(run_random_forest_classifier, \n",
    "                        n_estimators=n_estimators_slider,\n",
    "                        max_depth=max_depth_slider_4,\n",
    "                        );"
   ]
  },
  {
   "cell_type": "markdown",
   "metadata": {},
   "source": [
    "<a id=\"conclusion\"></a>\n",
    "## Conclusion"
   ]
  },
  {
   "cell_type": "markdown",
   "metadata": {},
   "source": [
    "In this module we dived into supervised learning. Firstly, we defined what supervised learning is, and the main use cases in classification and regression. Secondly, we explored some the training process, the difference between parameters and hyperparameters and the notion of the cost function. Then, we moved on to the evaluation part where we saw different evaluation metrics used in regression and classification. In the two last sections, we saw different regression and classification models in action. \n",
    "\n",
    "In the next module, we will explore unsupervised learning."
   ]
  },
  {
   "cell_type": "markdown",
   "metadata": {},
   "source": [
    "**References:**\n",
    "\n",
    "[1] https://www.kaggle.com/datasets/evangower/chocolate-bar-ratings <br>\n",
    "[2] https://www.geeksforgeeks.org/underfitting-and-overfitting-in-machine-learning/"
   ]
  }
 ],
 "metadata": {
  "kernelspec": {
   "display_name": "ml4food",
   "language": "python",
   "name": "python3"
  },
  "language_info": {
   "codemirror_mode": {
    "name": "ipython",
    "version": 3
   },
   "file_extension": ".py",
   "mimetype": "text/x-python",
   "name": "python",
   "nbconvert_exporter": "python",
   "pygments_lexer": "ipython3",
   "version": "3.10.11"
  },
  "orig_nbformat": 4
 },
 "nbformat": 4,
 "nbformat_minor": 2
}
