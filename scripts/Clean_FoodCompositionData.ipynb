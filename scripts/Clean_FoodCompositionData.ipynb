{
 "cells": [
  {
   "attachments": {},
   "cell_type": "markdown",
   "metadata": {},
   "source": [
    "# Cleaning the Swiss Food Composition Dataset"
   ]
  },
  {
   "attachments": {},
   "cell_type": "markdown",
   "metadata": {},
   "source": [
    "This is an auxiliary notebook that documents the steps taken to clean the dataset from the [Swiss Food Composition Database](https://naehrwertdaten.ch/en/) and make it ready for use in the tutorials. It uses functions in the `clean_dataset.py` module found in the same folder."
   ]
  },
  {
   "attachments": {},
   "cell_type": "markdown",
   "metadata": {},
   "source": [
    "For more information on the abbreviations of the dataset [see here](https://valeursnutritives.ch/en/abbreviations/)."
   ]
  },
  {
   "attachments": {},
   "cell_type": "markdown",
   "metadata": {},
   "source": [
    "## Setup"
   ]
  },
  {
   "cell_type": "code",
   "execution_count": null,
   "metadata": {},
   "outputs": [],
   "source": [
    "# importing required packages\n",
    "import os\n",
    "import requests\n",
    "\n",
    "import clean_dataset\n",
    "\n",
    "# setting jupyter notebook settings to reload custom packages\n",
    "%load_ext autoreload\n",
    "%autoreload 2"
   ]
  },
  {
   "cell_type": "code",
   "execution_count": null,
   "metadata": {},
   "outputs": [],
   "source": [
    "# URL of the dataset\n",
    "url_data = \"https://naehrwertdaten.ch/wp-content/uploads/2022/06/Swiss_food_composition_database.xlsx\"\n",
    "\n",
    "# path to store the raw data\n",
    "path2data = \"../data/swiss_food_composition_raw.xlsx\""
   ]
  },
  {
   "attachments": {},
   "cell_type": "markdown",
   "metadata": {},
   "source": [
    "## Fetch data"
   ]
  },
  {
   "cell_type": "code",
   "execution_count": null,
   "metadata": {},
   "outputs": [],
   "source": [
    "if not os.path.isfile(path2data):\n",
    "    response = requests.get(url_data)\n",
    "\n",
    "    with open(path2data, 'wb') as file:\n",
    "        file.write(response.content)\n",
    "else:\n",
    "    print(f'File {path2data} already exists.')"
   ]
  },
  {
   "attachments": {},
   "cell_type": "markdown",
   "metadata": {},
   "source": [
    "## Clean data"
   ]
  },
  {
   "cell_type": "code",
   "execution_count": null,
   "metadata": {},
   "outputs": [],
   "source": [
    "dataset = clean_dataset.process_dataset(path2data)\n",
    "dataset.head()"
   ]
  },
  {
   "attachments": {},
   "cell_type": "markdown",
   "metadata": {},
   "source": [
    "## Check data"
   ]
  },
  {
   "cell_type": "code",
   "execution_count": null,
   "metadata": {},
   "outputs": [],
   "source": [
    "# check columns in data\n",
    "dataset.columns"
   ]
  },
  {
   "cell_type": "code",
   "execution_count": null,
   "metadata": {},
   "outputs": [],
   "source": [
    "# check number of traces\n",
    "tr_count = dataset.apply(lambda x: x.value_counts().get('tr.', 0))\n",
    "assert sum(tr_count)==0"
   ]
  },
  {
   "cell_type": "code",
   "execution_count": null,
   "metadata": {},
   "outputs": [],
   "source": [
    "# check that there are no negative values\n",
    "count = dataset.astype(str).applymap(lambda x: x.count('<')).sum().sum()\n",
    "assert count==0"
   ]
  },
  {
   "cell_type": "code",
   "execution_count": null,
   "metadata": {},
   "outputs": [],
   "source": [
    "# check value range in numerical columns\n",
    "dataset.describe()"
   ]
  },
  {
   "attachments": {},
   "cell_type": "markdown",
   "metadata": {},
   "source": [
    "## Save data"
   ]
  },
  {
   "attachments": {},
   "cell_type": "markdown",
   "metadata": {},
   "source": [
    "If all tests passed, we save the dataset in a `.csv` file in the `data` folder. Do not save the first column as it is just the index."
   ]
  },
  {
   "cell_type": "code",
   "execution_count": null,
   "metadata": {},
   "outputs": [],
   "source": [
    "# set the index\n",
    "dataset.index.name = \"ID\"\n",
    "\n",
    "# save\n",
    "path2store = path2data.replace(\"_raw.xlsx\", \".csv\")\n",
    "dataset.to_csv(path2store)\n",
    "print(f\"Stored cleaned data in: {path2store}\")\n"
   ]
  }
 ],
 "metadata": {
  "kernelspec": {
   "display_name": "Python 3",
   "language": "python",
   "name": "python3"
  },
  "language_info": {
   "codemirror_mode": {
    "name": "ipython",
    "version": 3
   },
   "file_extension": ".py",
   "mimetype": "text/x-python",
   "name": "python",
   "nbconvert_exporter": "python",
   "pygments_lexer": "ipython3",
   "version": "3.10.9"
  },
  "orig_nbformat": 4
 },
 "nbformat": 4,
 "nbformat_minor": 2
}
