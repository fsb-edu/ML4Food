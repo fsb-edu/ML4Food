{
 "cells": [
  {
   "attachments": {},
   "cell_type": "markdown",
   "metadata": {},
   "source": [
    "# Cleaning the Chocolate Dataset"
   ]
  },
  {
   "attachments": {},
   "cell_type": "markdown",
   "metadata": {},
   "source": [
    "This is an auxiliary notebook that documents the steps taken to clean the dataset from the [Chocolate Bar Ratings Dataset](https://www.kaggle.com/datasets/evangower/chocolate-bar-ratings) and make it ready for use in the tutorials. It uses functions in the `clean_chocolate_dataset.py` module found in the same folder."
   ]
  },
  {
   "attachments": {},
   "cell_type": "markdown",
   "metadata": {},
   "source": [
    "For more information on the abbreviations of the dataset [see here](https://valeursnutritives.ch/en/abbreviations/)."
   ]
  },
  {
   "attachments": {},
   "cell_type": "markdown",
   "metadata": {},
   "source": [
    "## Setup"
   ]
  },
  {
   "cell_type": "code",
   "execution_count": 1,
   "metadata": {},
   "outputs": [],
   "source": [
    "# importing required packages\n",
    "import os\n",
    "from urllib import request\n",
    "import clean_chocolate_dataset\n",
    "\n",
    "# setting jupyter notebook settings to reload custom packages\n",
    "%load_ext autoreload\n",
    "%autoreload 2"
   ]
  },
  {
   "cell_type": "code",
   "execution_count": 2,
   "metadata": {},
   "outputs": [],
   "source": [
    "# URL of the dataset\n",
    "url_data = \"https://www.kaggle.com/datasets/evangower/chocolate-bar-ratings/download?datasetVersionNumber=1\"\n",
    "\n",
    "# path to store the raw data\n",
    "path2data = \"../data/chocolate_bars.csv\""
   ]
  },
  {
   "attachments": {},
   "cell_type": "markdown",
   "metadata": {},
   "source": [
    "## Fetch data"
   ]
  },
  {
   "cell_type": "code",
   "execution_count": 3,
   "metadata": {},
   "outputs": [
    {
     "name": "stdout",
     "output_type": "stream",
     "text": [
      "File ../data/chocolate_bars.csv already exists.\n"
     ]
    }
   ],
   "source": [
    "if not os.path.isfile(path2data):\n",
    "    response = request.get(url_data)\n",
    "\n",
    "    with open(path2data, 'wb') as file:\n",
    "        file.write(response.content)\n",
    "else:\n",
    "    print(f'File {path2data} already exists.')"
   ]
  },
  {
   "attachments": {},
   "cell_type": "markdown",
   "metadata": {},
   "source": [
    "## Clean data"
   ]
  },
  {
   "cell_type": "code",
   "execution_count": 4,
   "metadata": {},
   "outputs": [
    {
     "name": "stdout",
     "output_type": "stream",
     "text": [
      "Before imputation:\n",
      "Train set missing values: \n",
      "bean_origin         0\n",
      "year_reviewed       0\n",
      "cocoa_percent       0\n",
      "num_ingredients    75\n",
      "rating              0\n",
      "dtype: int64\n",
      "Test set missing values: \n",
      "bean_origin         0\n",
      "year_reviewed       0\n",
      "cocoa_percent       0\n",
      "num_ingredients    12\n",
      "rating              0\n",
      "dtype: int64\n",
      "After imputation:\n",
      "Train set missing values: \n",
      "bean_origin        0\n",
      "year_reviewed      0\n",
      "cocoa_percent      0\n",
      "num_ingredients    0\n",
      "rating             0\n",
      "dtype: int64\n",
      "Test set missing values: \n",
      "bean_origin        0\n",
      "year_reviewed      0\n",
      "cocoa_percent      0\n",
      "num_ingredients    0\n",
      "rating             0\n",
      "dtype: int64\n",
      "Standardizing the data...\n",
      "Standardization done!\n",
      "0       1\n",
      "1       1\n",
      "2       1\n",
      "3       1\n",
      "4       1\n",
      "       ..\n",
      "2525    0\n",
      "2526    1\n",
      "2527    1\n",
      "2528    1\n",
      "2529    1\n",
      "Name: year_binary, Length: 2530, dtype: int64\n"
     ]
    },
    {
     "data": {
      "text/html": [
       "<div>\n",
       "<style scoped>\n",
       "    .dataframe tbody tr th:only-of-type {\n",
       "        vertical-align: middle;\n",
       "    }\n",
       "\n",
       "    .dataframe tbody tr th {\n",
       "        vertical-align: top;\n",
       "    }\n",
       "\n",
       "    .dataframe thead th {\n",
       "        text-align: right;\n",
       "    }\n",
       "</style>\n",
       "<table border=\"1\" class=\"dataframe\">\n",
       "  <thead>\n",
       "    <tr style=\"text-align: right;\">\n",
       "      <th></th>\n",
       "      <th>cocoa_percent</th>\n",
       "      <th>num_ingredients</th>\n",
       "      <th>rating</th>\n",
       "      <th>split</th>\n",
       "      <th>year_binary</th>\n",
       "      <th>country_peru</th>\n",
       "      <th>country_venezuela</th>\n",
       "    </tr>\n",
       "    <tr>\n",
       "      <th>id</th>\n",
       "      <th></th>\n",
       "      <th></th>\n",
       "      <th></th>\n",
       "      <th></th>\n",
       "      <th></th>\n",
       "      <th></th>\n",
       "      <th></th>\n",
       "    </tr>\n",
       "  </thead>\n",
       "  <tbody>\n",
       "    <tr>\n",
       "      <th>1</th>\n",
       "      <td>0.771568</td>\n",
       "      <td>-0.04148</td>\n",
       "      <td>3.25</td>\n",
       "      <td>train</td>\n",
       "      <td>1</td>\n",
       "      <td>0</td>\n",
       "      <td>0</td>\n",
       "    </tr>\n",
       "    <tr>\n",
       "      <th>2</th>\n",
       "      <td>0.771568</td>\n",
       "      <td>-0.04148</td>\n",
       "      <td>3.50</td>\n",
       "      <td>test</td>\n",
       "      <td>1</td>\n",
       "      <td>0</td>\n",
       "      <td>0</td>\n",
       "    </tr>\n",
       "    <tr>\n",
       "      <th>3</th>\n",
       "      <td>0.771568</td>\n",
       "      <td>-0.04148</td>\n",
       "      <td>3.75</td>\n",
       "      <td>train</td>\n",
       "      <td>1</td>\n",
       "      <td>0</td>\n",
       "      <td>0</td>\n",
       "    </tr>\n",
       "    <tr>\n",
       "      <th>4</th>\n",
       "      <td>-0.682486</td>\n",
       "      <td>-0.04148</td>\n",
       "      <td>3.00</td>\n",
       "      <td>train</td>\n",
       "      <td>1</td>\n",
       "      <td>0</td>\n",
       "      <td>0</td>\n",
       "    </tr>\n",
       "    <tr>\n",
       "      <th>5</th>\n",
       "      <td>0.044541</td>\n",
       "      <td>-0.04148</td>\n",
       "      <td>3.00</td>\n",
       "      <td>train</td>\n",
       "      <td>1</td>\n",
       "      <td>0</td>\n",
       "      <td>1</td>\n",
       "    </tr>\n",
       "  </tbody>\n",
       "</table>\n",
       "</div>"
      ],
      "text/plain": [
       "    cocoa_percent  num_ingredients  rating  split  year_binary  country_peru  \\\n",
       "id                                                                             \n",
       "1        0.771568         -0.04148    3.25  train            1             0   \n",
       "2        0.771568         -0.04148    3.50   test            1             0   \n",
       "3        0.771568         -0.04148    3.75  train            1             0   \n",
       "4       -0.682486         -0.04148    3.00  train            1             0   \n",
       "5        0.044541         -0.04148    3.00  train            1             0   \n",
       "\n",
       "    country_venezuela  \n",
       "id                     \n",
       "1                   0  \n",
       "2                   0  \n",
       "3                   0  \n",
       "4                   0  \n",
       "5                   1  "
      ]
     },
     "execution_count": 4,
     "metadata": {},
     "output_type": "execute_result"
    }
   ],
   "source": [
    "#dataset = pd.read_csv(path2data)\n",
    "dataset = clean_chocolate_dataset.process_dataset(path2data)\n",
    "dataset.head()"
   ]
  },
  {
   "attachments": {},
   "cell_type": "markdown",
   "metadata": {},
   "source": [
    "## Check data"
   ]
  },
  {
   "cell_type": "code",
   "execution_count": 5,
   "metadata": {},
   "outputs": [
    {
     "data": {
      "text/plain": [
       "Index(['cocoa_percent', 'num_ingredients', 'rating', 'split', 'year_binary',\n",
       "       'country_peru', 'country_venezuela'],\n",
       "      dtype='object')"
      ]
     },
     "execution_count": 5,
     "metadata": {},
     "output_type": "execute_result"
    }
   ],
   "source": [
    "# check columns in data\n",
    "dataset.columns"
   ]
  },
  {
   "cell_type": "code",
   "execution_count": 6,
   "metadata": {},
   "outputs": [
    {
     "data": {
      "text/html": [
       "<div>\n",
       "<style scoped>\n",
       "    .dataframe tbody tr th:only-of-type {\n",
       "        vertical-align: middle;\n",
       "    }\n",
       "\n",
       "    .dataframe tbody tr th {\n",
       "        vertical-align: top;\n",
       "    }\n",
       "\n",
       "    .dataframe thead th {\n",
       "        text-align: right;\n",
       "    }\n",
       "</style>\n",
       "<table border=\"1\" class=\"dataframe\">\n",
       "  <thead>\n",
       "    <tr style=\"text-align: right;\">\n",
       "      <th></th>\n",
       "      <th>cocoa_percent</th>\n",
       "      <th>num_ingredients</th>\n",
       "      <th>rating</th>\n",
       "      <th>year_binary</th>\n",
       "      <th>country_peru</th>\n",
       "      <th>country_venezuela</th>\n",
       "    </tr>\n",
       "  </thead>\n",
       "  <tbody>\n",
       "    <tr>\n",
       "      <th>count</th>\n",
       "      <td>2530.000000</td>\n",
       "      <td>2530.000000</td>\n",
       "      <td>2530.000000</td>\n",
       "      <td>2530.000000</td>\n",
       "      <td>2530.000000</td>\n",
       "      <td>2530.000000</td>\n",
       "    </tr>\n",
       "    <tr>\n",
       "      <th>mean</th>\n",
       "      <td>-0.020942</td>\n",
       "      <td>0.004157</td>\n",
       "      <td>3.196344</td>\n",
       "      <td>0.507115</td>\n",
       "      <td>0.096443</td>\n",
       "      <td>0.100000</td>\n",
       "    </tr>\n",
       "    <tr>\n",
       "      <th>std</th>\n",
       "      <td>1.020877</td>\n",
       "      <td>0.994361</td>\n",
       "      <td>0.445321</td>\n",
       "      <td>0.500048</td>\n",
       "      <td>0.295256</td>\n",
       "      <td>0.300059</td>\n",
       "    </tr>\n",
       "    <tr>\n",
       "      <th>min</th>\n",
       "      <td>-5.408159</td>\n",
       "      <td>-2.256401</td>\n",
       "      <td>1.000000</td>\n",
       "      <td>0.000000</td>\n",
       "      <td>0.000000</td>\n",
       "      <td>0.000000</td>\n",
       "    </tr>\n",
       "    <tr>\n",
       "      <th>25%</th>\n",
       "      <td>-0.318972</td>\n",
       "      <td>-1.148941</td>\n",
       "      <td>3.000000</td>\n",
       "      <td>0.000000</td>\n",
       "      <td>0.000000</td>\n",
       "      <td>0.000000</td>\n",
       "    </tr>\n",
       "    <tr>\n",
       "      <th>50%</th>\n",
       "      <td>-0.318972</td>\n",
       "      <td>-0.041480</td>\n",
       "      <td>3.250000</td>\n",
       "      <td>1.000000</td>\n",
       "      <td>0.000000</td>\n",
       "      <td>0.000000</td>\n",
       "    </tr>\n",
       "    <tr>\n",
       "      <th>75%</th>\n",
       "      <td>0.408054</td>\n",
       "      <td>1.065981</td>\n",
       "      <td>3.500000</td>\n",
       "      <td>1.000000</td>\n",
       "      <td>0.000000</td>\n",
       "      <td>0.000000</td>\n",
       "    </tr>\n",
       "    <tr>\n",
       "      <th>max</th>\n",
       "      <td>5.133728</td>\n",
       "      <td>3.280902</td>\n",
       "      <td>4.000000</td>\n",
       "      <td>1.000000</td>\n",
       "      <td>1.000000</td>\n",
       "      <td>1.000000</td>\n",
       "    </tr>\n",
       "  </tbody>\n",
       "</table>\n",
       "</div>"
      ],
      "text/plain": [
       "       cocoa_percent  num_ingredients       rating  year_binary  country_peru  \\\n",
       "count    2530.000000      2530.000000  2530.000000  2530.000000   2530.000000   \n",
       "mean       -0.020942         0.004157     3.196344     0.507115      0.096443   \n",
       "std         1.020877         0.994361     0.445321     0.500048      0.295256   \n",
       "min        -5.408159        -2.256401     1.000000     0.000000      0.000000   \n",
       "25%        -0.318972        -1.148941     3.000000     0.000000      0.000000   \n",
       "50%        -0.318972        -0.041480     3.250000     1.000000      0.000000   \n",
       "75%         0.408054         1.065981     3.500000     1.000000      0.000000   \n",
       "max         5.133728         3.280902     4.000000     1.000000      1.000000   \n",
       "\n",
       "       country_venezuela  \n",
       "count        2530.000000  \n",
       "mean            0.100000  \n",
       "std             0.300059  \n",
       "min             0.000000  \n",
       "25%             0.000000  \n",
       "50%             0.000000  \n",
       "75%             0.000000  \n",
       "max             1.000000  "
      ]
     },
     "execution_count": 6,
     "metadata": {},
     "output_type": "execute_result"
    }
   ],
   "source": [
    "# check value range in numerical columns\n",
    "dataset.describe()"
   ]
  },
  {
   "attachments": {},
   "cell_type": "markdown",
   "metadata": {},
   "source": [
    "## Save data"
   ]
  },
  {
   "attachments": {},
   "cell_type": "markdown",
   "metadata": {},
   "source": [
    "If all tests passed, we save the dataset in a `.csv` file in the `data` folder. Do not save the first column as it is just the index."
   ]
  },
  {
   "cell_type": "code",
   "execution_count": 7,
   "metadata": {},
   "outputs": [
    {
     "name": "stdout",
     "output_type": "stream",
     "text": [
      "Stored cleaned data in: ../data/chocolate_bars_proc.csv\n"
     ]
    }
   ],
   "source": [
    "# save\n",
    "path2store = path2data.replace(\".csv\", \"_proc.csv\")\n",
    "dataset.to_csv(path2store, index=True)\n",
    "print(f\"Stored cleaned data in: {path2store}\")\n"
   ]
  }
 ],
 "metadata": {
  "kernelspec": {
   "display_name": "Python 3",
   "language": "python",
   "name": "python3"
  },
  "language_info": {
   "codemirror_mode": {
    "name": "ipython",
    "version": 3
   },
   "file_extension": ".py",
   "mimetype": "text/x-python",
   "name": "python",
   "nbconvert_exporter": "python",
   "pygments_lexer": "ipython3",
   "version": "3.10.12"
  },
  "orig_nbformat": 4
 },
 "nbformat": 4,
 "nbformat_minor": 2
}
