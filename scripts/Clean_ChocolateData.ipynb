{
 "cells": [
  {
   "attachments": {},
   "cell_type": "markdown",
   "metadata": {},
   "source": [
    "# Cleaning the Chocolate Dataset"
   ]
  },
  {
   "attachments": {},
   "cell_type": "markdown",
   "metadata": {},
   "source": [
    "This is an auxiliary notebook that documents the steps taken to clean the dataset from the [Chocolate Bar Ratings Dataset](https://www.kaggle.com/datasets/evangower/chocolate-bar-ratings) and make it ready for use in the tutorials. It uses functions in the `clean_chocolate_dataset.py` module found in the same folder."
   ]
  },
  {
   "attachments": {},
   "cell_type": "markdown",
   "metadata": {},
   "source": [
    "For more information on the abbreviations of the dataset [see here](https://valeursnutritives.ch/en/abbreviations/)."
   ]
  },
  {
   "attachments": {},
   "cell_type": "markdown",
   "metadata": {},
   "source": [
    "## Setup"
   ]
  },
  {
   "cell_type": "code",
   "execution_count": 300,
   "metadata": {},
   "outputs": [
    {
     "name": "stdout",
     "output_type": "stream",
     "text": [
      "The autoreload extension is already loaded. To reload it, use:\n",
      "  %reload_ext autoreload\n"
     ]
    }
   ],
   "source": [
    "# importing required packages\n",
    "import os\n",
    "from urllib import request\n",
    "import clean_chocolate_dataset\n",
    "\n",
    "# setting jupyter notebook settings to reload custom packages\n",
    "%load_ext autoreload\n",
    "%autoreload 2"
   ]
  },
  {
   "cell_type": "code",
   "execution_count": 301,
   "metadata": {},
   "outputs": [],
   "source": [
    "# URL of the dataset\n",
    "url_data = \"https://www.kaggle.com/datasets/evangower/chocolate-bar-ratings/download?datasetVersionNumber=1\"\n",
    "\n",
    "# path to store the raw data\n",
    "path2data = \"../data/chocolate_bars.csv\""
   ]
  },
  {
   "attachments": {},
   "cell_type": "markdown",
   "metadata": {},
   "source": [
    "## Fetch data"
   ]
  },
  {
   "cell_type": "code",
   "execution_count": 302,
   "metadata": {},
   "outputs": [
    {
     "name": "stdout",
     "output_type": "stream",
     "text": [
      "File ../data/chocolate_bars.csv already exists.\n"
     ]
    }
   ],
   "source": [
    "if not os.path.isfile(path2data):\n",
    "    response = request.get(url_data)\n",
    "\n",
    "    with open(path2data, 'wb') as file:\n",
    "        file.write(response.content)\n",
    "else:\n",
    "    print(f'File {path2data} already exists.')"
   ]
  },
  {
   "attachments": {},
   "cell_type": "markdown",
   "metadata": {},
   "source": [
    "## Clean data"
   ]
  },
  {
   "cell_type": "code",
   "execution_count": 303,
   "metadata": {},
   "outputs": [
    {
     "name": "stdout",
     "output_type": "stream",
     "text": [
      "Before imputation:\n",
      "Train set missing values: \n",
      "id                  0\n",
      "bean_origin         0\n",
      "year_reviewed       0\n",
      "cocoa_percent       0\n",
      "num_ingredients    75\n",
      "rating              0\n",
      "dtype: int64\n",
      "Test set missing values: \n",
      "id                  0\n",
      "bean_origin         0\n",
      "year_reviewed       0\n",
      "cocoa_percent       0\n",
      "num_ingredients    12\n",
      "rating              0\n",
      "dtype: int64\n",
      "After imputation:\n",
      "Train set missing values: \n",
      "id                 0\n",
      "bean_origin        0\n",
      "year_reviewed      0\n",
      "cocoa_percent      0\n",
      "num_ingredients    0\n",
      "rating             0\n",
      "dtype: int64\n",
      "Test set missing values: \n",
      "id                 0\n",
      "bean_origin        0\n",
      "year_reviewed      0\n",
      "cocoa_percent      0\n",
      "num_ingredients    0\n",
      "rating             0\n",
      "dtype: int64\n",
      "Standardizing the data...\n",
      "Standardization done!\n"
     ]
    },
    {
     "data": {
      "text/html": [
       "<div>\n",
       "<style scoped>\n",
       "    .dataframe tbody tr th:only-of-type {\n",
       "        vertical-align: middle;\n",
       "    }\n",
       "\n",
       "    .dataframe tbody tr th {\n",
       "        vertical-align: top;\n",
       "    }\n",
       "\n",
       "    .dataframe thead th {\n",
       "        text-align: right;\n",
       "    }\n",
       "</style>\n",
       "<table border=\"1\" class=\"dataframe\">\n",
       "  <thead>\n",
       "    <tr style=\"text-align: right;\">\n",
       "      <th></th>\n",
       "      <th>id</th>\n",
       "      <th>bean_origin</th>\n",
       "      <th>year_reviewed</th>\n",
       "      <th>cocoa_percent</th>\n",
       "      <th>num_ingredients</th>\n",
       "      <th>rating</th>\n",
       "      <th>split</th>\n",
       "    </tr>\n",
       "  </thead>\n",
       "  <tbody>\n",
       "    <tr>\n",
       "      <th>0</th>\n",
       "      <td>2454</td>\n",
       "      <td>Tanzania</td>\n",
       "      <td>2019</td>\n",
       "      <td>0.771568</td>\n",
       "      <td>-0.04148</td>\n",
       "      <td>3.25</td>\n",
       "      <td>train</td>\n",
       "    </tr>\n",
       "    <tr>\n",
       "      <th>1</th>\n",
       "      <td>2458</td>\n",
       "      <td>Dominican Republic</td>\n",
       "      <td>2019</td>\n",
       "      <td>0.771568</td>\n",
       "      <td>-0.04148</td>\n",
       "      <td>3.50</td>\n",
       "      <td>test</td>\n",
       "    </tr>\n",
       "    <tr>\n",
       "      <th>2</th>\n",
       "      <td>2454</td>\n",
       "      <td>Madagascar</td>\n",
       "      <td>2019</td>\n",
       "      <td>0.771568</td>\n",
       "      <td>-0.04148</td>\n",
       "      <td>3.75</td>\n",
       "      <td>train</td>\n",
       "    </tr>\n",
       "    <tr>\n",
       "      <th>3</th>\n",
       "      <td>2542</td>\n",
       "      <td>Fiji</td>\n",
       "      <td>2021</td>\n",
       "      <td>-0.682486</td>\n",
       "      <td>-0.04148</td>\n",
       "      <td>3.00</td>\n",
       "      <td>train</td>\n",
       "    </tr>\n",
       "    <tr>\n",
       "      <th>4</th>\n",
       "      <td>2546</td>\n",
       "      <td>Venezuela</td>\n",
       "      <td>2021</td>\n",
       "      <td>0.044541</td>\n",
       "      <td>-0.04148</td>\n",
       "      <td>3.00</td>\n",
       "      <td>train</td>\n",
       "    </tr>\n",
       "  </tbody>\n",
       "</table>\n",
       "</div>"
      ],
      "text/plain": [
       "     id         bean_origin  year_reviewed  cocoa_percent  num_ingredients  \\\n",
       "0  2454            Tanzania           2019       0.771568         -0.04148   \n",
       "1  2458  Dominican Republic           2019       0.771568         -0.04148   \n",
       "2  2454          Madagascar           2019       0.771568         -0.04148   \n",
       "3  2542                Fiji           2021      -0.682486         -0.04148   \n",
       "4  2546           Venezuela           2021       0.044541         -0.04148   \n",
       "\n",
       "   rating  split  \n",
       "0    3.25  train  \n",
       "1    3.50   test  \n",
       "2    3.75  train  \n",
       "3    3.00  train  \n",
       "4    3.00  train  "
      ]
     },
     "execution_count": 303,
     "metadata": {},
     "output_type": "execute_result"
    }
   ],
   "source": [
    "dataset = clean_chocolate_dataset.process_dataset(path2data)\n",
    "dataset.head()"
   ]
  },
  {
   "attachments": {},
   "cell_type": "markdown",
   "metadata": {},
   "source": [
    "## Check data"
   ]
  },
  {
   "cell_type": "code",
   "execution_count": 304,
   "metadata": {},
   "outputs": [
    {
     "data": {
      "text/plain": [
       "Index(['id', 'bean_origin', 'year_reviewed', 'cocoa_percent',\n",
       "       'num_ingredients', 'rating', 'split'],\n",
       "      dtype='object')"
      ]
     },
     "execution_count": 304,
     "metadata": {},
     "output_type": "execute_result"
    }
   ],
   "source": [
    "# check columns in data\n",
    "dataset.columns"
   ]
  },
  {
   "cell_type": "code",
   "execution_count": 305,
   "metadata": {},
   "outputs": [],
   "source": [
    "# check number of traces\n",
    "tr_count = dataset.apply(lambda x: x.value_counts().get('tr.', 0))\n",
    "assert sum(tr_count)==0"
   ]
  },
  {
   "cell_type": "code",
   "execution_count": 306,
   "metadata": {},
   "outputs": [],
   "source": [
    "# check that there are no negative values\n",
    "count = dataset.astype(str).applymap(lambda x: x.count('<')).sum().sum()\n",
    "assert count==0"
   ]
  },
  {
   "cell_type": "code",
   "execution_count": 307,
   "metadata": {},
   "outputs": [
    {
     "data": {
      "text/html": [
       "<div>\n",
       "<style scoped>\n",
       "    .dataframe tbody tr th:only-of-type {\n",
       "        vertical-align: middle;\n",
       "    }\n",
       "\n",
       "    .dataframe tbody tr th {\n",
       "        vertical-align: top;\n",
       "    }\n",
       "\n",
       "    .dataframe thead th {\n",
       "        text-align: right;\n",
       "    }\n",
       "</style>\n",
       "<table border=\"1\" class=\"dataframe\">\n",
       "  <thead>\n",
       "    <tr style=\"text-align: right;\">\n",
       "      <th></th>\n",
       "      <th>id</th>\n",
       "      <th>year_reviewed</th>\n",
       "      <th>cocoa_percent</th>\n",
       "      <th>num_ingredients</th>\n",
       "      <th>rating</th>\n",
       "    </tr>\n",
       "  </thead>\n",
       "  <tbody>\n",
       "    <tr>\n",
       "      <th>count</th>\n",
       "      <td>2530.000000</td>\n",
       "      <td>2530.000000</td>\n",
       "      <td>2530.000000</td>\n",
       "      <td>2530.000000</td>\n",
       "      <td>2530.000000</td>\n",
       "    </tr>\n",
       "    <tr>\n",
       "      <th>mean</th>\n",
       "      <td>1429.800791</td>\n",
       "      <td>2014.374308</td>\n",
       "      <td>-0.020942</td>\n",
       "      <td>0.004157</td>\n",
       "      <td>3.196344</td>\n",
       "    </tr>\n",
       "    <tr>\n",
       "      <th>std</th>\n",
       "      <td>757.648556</td>\n",
       "      <td>3.968267</td>\n",
       "      <td>1.020877</td>\n",
       "      <td>0.994361</td>\n",
       "      <td>0.445321</td>\n",
       "    </tr>\n",
       "    <tr>\n",
       "      <th>min</th>\n",
       "      <td>5.000000</td>\n",
       "      <td>2006.000000</td>\n",
       "      <td>-5.408159</td>\n",
       "      <td>-2.256401</td>\n",
       "      <td>1.000000</td>\n",
       "    </tr>\n",
       "    <tr>\n",
       "      <th>25%</th>\n",
       "      <td>802.000000</td>\n",
       "      <td>2012.000000</td>\n",
       "      <td>-0.318972</td>\n",
       "      <td>-1.148941</td>\n",
       "      <td>3.000000</td>\n",
       "    </tr>\n",
       "    <tr>\n",
       "      <th>50%</th>\n",
       "      <td>1454.000000</td>\n",
       "      <td>2015.000000</td>\n",
       "      <td>-0.318972</td>\n",
       "      <td>-0.041480</td>\n",
       "      <td>3.250000</td>\n",
       "    </tr>\n",
       "    <tr>\n",
       "      <th>75%</th>\n",
       "      <td>2079.000000</td>\n",
       "      <td>2018.000000</td>\n",
       "      <td>0.408054</td>\n",
       "      <td>1.065981</td>\n",
       "      <td>3.500000</td>\n",
       "    </tr>\n",
       "    <tr>\n",
       "      <th>max</th>\n",
       "      <td>2712.000000</td>\n",
       "      <td>2021.000000</td>\n",
       "      <td>5.133728</td>\n",
       "      <td>3.280902</td>\n",
       "      <td>4.000000</td>\n",
       "    </tr>\n",
       "  </tbody>\n",
       "</table>\n",
       "</div>"
      ],
      "text/plain": [
       "                id  year_reviewed  cocoa_percent  num_ingredients       rating\n",
       "count  2530.000000    2530.000000    2530.000000      2530.000000  2530.000000\n",
       "mean   1429.800791    2014.374308      -0.020942         0.004157     3.196344\n",
       "std     757.648556       3.968267       1.020877         0.994361     0.445321\n",
       "min       5.000000    2006.000000      -5.408159        -2.256401     1.000000\n",
       "25%     802.000000    2012.000000      -0.318972        -1.148941     3.000000\n",
       "50%    1454.000000    2015.000000      -0.318972        -0.041480     3.250000\n",
       "75%    2079.000000    2018.000000       0.408054         1.065981     3.500000\n",
       "max    2712.000000    2021.000000       5.133728         3.280902     4.000000"
      ]
     },
     "execution_count": 307,
     "metadata": {},
     "output_type": "execute_result"
    }
   ],
   "source": [
    "# check value range in numerical columns\n",
    "dataset.describe()"
   ]
  },
  {
   "attachments": {},
   "cell_type": "markdown",
   "metadata": {},
   "source": [
    "## Save data"
   ]
  },
  {
   "attachments": {},
   "cell_type": "markdown",
   "metadata": {},
   "source": [
    "If all tests passed, we save the dataset in a `.csv` file in the `data` folder. Do not save the first column as it is just the index."
   ]
  },
  {
   "cell_type": "code",
   "execution_count": 308,
   "metadata": {},
   "outputs": [
    {
     "name": "stdout",
     "output_type": "stream",
     "text": [
      "Stored cleaned data in: ../data/chocolate_bars_proc.csv\n"
     ]
    }
   ],
   "source": [
    "# save\n",
    "path2store = path2data.replace(\".csv\", \"_proc.csv\")\n",
    "dataset.to_csv(path2store)\n",
    "print(f\"Stored cleaned data in: {path2store}\")\n"
   ]
  }
 ],
 "metadata": {
  "kernelspec": {
   "display_name": "Python 3",
   "language": "python",
   "name": "python3"
  },
  "language_info": {
   "codemirror_mode": {
    "name": "ipython",
    "version": 3
   },
   "file_extension": ".py",
   "mimetype": "text/x-python",
   "name": "python",
   "nbconvert_exporter": "python",
   "pygments_lexer": "ipython3",
   "version": "3.10.9"
  },
  "orig_nbformat": 4
 },
 "nbformat": 4,
 "nbformat_minor": 2
}
