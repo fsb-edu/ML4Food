{
 "cells": [
  {
   "attachments": {},
   "cell_type": "markdown",
   "metadata": {},
   "source": [
    "# Cleaning the Dataset"
   ]
  },
  {
   "attachments": {},
   "cell_type": "markdown",
   "metadata": {},
   "source": [
    "This is an auxiliary notebook that documents the steps taken to clean the \"Swiss Food Composition Database\" and make it ready for use in the tutorials. It uses functions in the clean_dataset module found in the same folder."
   ]
  },
  {
   "attachments": {},
   "cell_type": "markdown",
   "metadata": {},
   "source": [
    "For more information on the abbreviations of the dataset [see here](https://valeursnutritives.ch/en/abbreviations/)."
   ]
  },
  {
   "cell_type": "code",
   "execution_count": 1,
   "metadata": {},
   "outputs": [],
   "source": [
    "import clean_dataset\n",
    "%load_ext autoreload\n",
    "%autoreload 2"
   ]
  },
  {
   "cell_type": "code",
   "execution_count": 2,
   "metadata": {},
   "outputs": [
    {
     "name": "stdout",
     "output_type": "stream",
     "text": [
      "There are 196 cells containing non-numerical values. Stripping '<'.\n",
      "Done.\n",
      "In total found 590 traces. Replacing them with 0.0001\n",
      "Done. Clean dataset ready.\n"
     ]
    },
    {
     "name": "stderr",
     "output_type": "stream",
     "text": [
      "c:\\Users\\dorie\\OneDrive\\Desktop\\ETH\\puna ne lab dok\\pas\\ML4Food\\ML4Food\\scripts\\clean_dataset.py:124: FutureWarning: In a future version, `df.iloc[:, i] = newvals` will attempt to set the values inplace instead of always setting a new array. To retain the old behavior, use either `df[df.columns[i]] = newvals` or, if columns are non-unique, `df.isetitem(i, newvals)`\n",
      "  df.iloc[:, 3:] = df.iloc[:, 3:].applymap(extract_value)\n"
     ]
    }
   ],
   "source": [
    "dataset = clean_dataset.process_dataset()"
   ]
  },
  {
   "cell_type": "code",
   "execution_count": 3,
   "metadata": {},
   "outputs": [],
   "source": [
    "assert dataset.shape==(1092, 42) # check the shape of the data"
   ]
  },
  {
   "cell_type": "code",
   "execution_count": 4,
   "metadata": {},
   "outputs": [
    {
     "data": {
      "text/plain": [
       "Index(['f_ID', 'f_name', 'f_category', 'f_energy_kcal', 'f_fat_g',\n",
       "       'f_fatty_acids_sat_g', 'f_fatty_acids_monounsat_g',\n",
       "       'f_fatty_acids_polyunsat_g', 'f_cholesterol_mg', 'f_carbohydrates_g',\n",
       "       'f_sugars_g', 'f_starch_g', 'f_fibres_g', 'f_protein_g', 'f_salt_g',\n",
       "       'f_alcohol_g', 'f_water_g', 'f_vit_A_activity_re_µg',\n",
       "       'f_vit_A_activity_rae_µg', 'f_retinol_µg',\n",
       "       'f_beta_carotene_activity_µg', 'f_beta_carotene_µg', 'f_vit_B1_mg',\n",
       "       'f_vit_B2_mg', 'f_vit_B6_mg', 'f_vit_B12_µg', 'f_niacin_mg',\n",
       "       'f_folate_µg', 'f_panthotenic_acid_mg', 'f_vit_c_mg', 'f_vit_d_µg',\n",
       "       'f_vit_e_activity_mg', 'f_potassium_mg', 'f_sodium_mg', 'f_chloride_mg',\n",
       "       'f_calcium_mg', 'f_magnesium_mg', 'f_phosphorus_mg', 'f_iron_mg',\n",
       "       'f_iodide_µg', 'f_zinc_mg', 'f_selenium_µg'],\n",
       "      dtype='object')"
      ]
     },
     "execution_count": 4,
     "metadata": {},
     "output_type": "execute_result"
    }
   ],
   "source": [
    "dataset.columns"
   ]
  },
  {
   "cell_type": "code",
   "execution_count": 5,
   "metadata": {},
   "outputs": [],
   "source": [
    "# check number of traces\n",
    "tr_count = dataset.apply(lambda x: x.value_counts().get('tr.', 0))\n",
    "assert sum(tr_count)==0"
   ]
  },
  {
   "cell_type": "code",
   "execution_count": 6,
   "metadata": {},
   "outputs": [],
   "source": [
    "# check number of <\n",
    "count = dataset.astype(str).applymap(lambda x: x.count('<')).sum().sum()\n",
    "assert count==0"
   ]
  },
  {
   "attachments": {},
   "cell_type": "markdown",
   "metadata": {},
   "source": [
    "If all tests passed, we save the dataset in a `.csv` file in the `data` folder. Do not save the first column as it is just the index."
   ]
  },
  {
   "cell_type": "code",
   "execution_count": 7,
   "metadata": {},
   "outputs": [],
   "source": [
    "dataset.reset_index(drop=True)\n",
    "dataset.to_csv('../data/swiss_food_composition_database.csv', index=False)"
   ]
  }
 ],
 "metadata": {
  "kernelspec": {
   "display_name": "Python 3",
   "language": "python",
   "name": "python3"
  },
  "language_info": {
   "codemirror_mode": {
    "name": "ipython",
    "version": 3
   },
   "file_extension": ".py",
   "mimetype": "text/x-python",
   "name": "python",
   "nbconvert_exporter": "python",
   "pygments_lexer": "ipython3",
   "version": "3.10.9"
  },
  "orig_nbformat": 4
 },
 "nbformat": 4,
 "nbformat_minor": 2
}
