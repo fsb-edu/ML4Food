{
 "cells": [
  {
   "cell_type": "markdown",
   "metadata": {},
   "source": [
    "# Supervised Learning - Checking the Swiss Food dataset"
   ]
  },
  {
   "cell_type": "markdown",
   "metadata": {},
   "source": [
    "This notebook is used to experiment with the models of supervised learning module in the Swiss Food Composition dataset (classification) and Chocolate Bar Ratings (regression). It essentially gives a flavour of the visualizations that we are going to use in the corresponding module."
   ]
  },
  {
   "cell_type": "code",
   "execution_count": 1,
   "metadata": {},
   "outputs": [],
   "source": [
    "import pandas as  pd\n",
    "import matplotlib.pyplot as plt\n",
    "import numpy as np\n",
    "from sklearn.preprocessing import OneHotEncoder\n",
    "from sklearn.ensemble import RandomForestClassifier, RandomForestRegressor\n",
    "from sklearn.metrics import accuracy_score, f1_score, precision_recall_curve, auc, roc_curve\n",
    "import ipywidgets as widgets\n",
    "from sklearn.model_selection import train_test_split\n",
    "from sklearn.discriminant_analysis import StandardScaler\n",
    "from sklearn.metrics import mean_squared_error\n",
    "from sklearn.impute import SimpleImputer"
   ]
  },
  {
   "cell_type": "markdown",
   "metadata": {},
   "source": [
    "## Classification"
   ]
  },
  {
   "cell_type": "markdown",
   "metadata": {},
   "source": [
    "### Load the data"
   ]
  },
  {
   "cell_type": "code",
   "execution_count": 2,
   "metadata": {},
   "outputs": [
    {
     "data": {
      "text/html": [
       "<div>\n",
       "<style scoped>\n",
       "    .dataframe tbody tr th:only-of-type {\n",
       "        vertical-align: middle;\n",
       "    }\n",
       "\n",
       "    .dataframe tbody tr th {\n",
       "        vertical-align: top;\n",
       "    }\n",
       "\n",
       "    .dataframe thead th {\n",
       "        text-align: right;\n",
       "    }\n",
       "</style>\n",
       "<table border=\"1\" class=\"dataframe\">\n",
       "  <thead>\n",
       "    <tr style=\"text-align: right;\">\n",
       "      <th></th>\n",
       "      <th>name</th>\n",
       "      <th>category</th>\n",
       "      <th>energy_kcal</th>\n",
       "      <th>fat_g</th>\n",
       "      <th>fatty_acids_sat_g</th>\n",
       "      <th>fatty_acids_monounsat_g</th>\n",
       "      <th>fatty_acids_polyunsat_g</th>\n",
       "      <th>cholesterol_mg</th>\n",
       "      <th>carbohydrates_g</th>\n",
       "      <th>sugars_g</th>\n",
       "      <th>...</th>\n",
       "      <th>potassium_mg</th>\n",
       "      <th>sodium_mg</th>\n",
       "      <th>chloride_mg</th>\n",
       "      <th>calcium_mg</th>\n",
       "      <th>magnesium_mg</th>\n",
       "      <th>phosphorus_mg</th>\n",
       "      <th>iron_mg</th>\n",
       "      <th>iodide_µg</th>\n",
       "      <th>zinc_mg</th>\n",
       "      <th>split</th>\n",
       "    </tr>\n",
       "    <tr>\n",
       "      <th>ID</th>\n",
       "      <th></th>\n",
       "      <th></th>\n",
       "      <th></th>\n",
       "      <th></th>\n",
       "      <th></th>\n",
       "      <th></th>\n",
       "      <th></th>\n",
       "      <th></th>\n",
       "      <th></th>\n",
       "      <th></th>\n",
       "      <th></th>\n",
       "      <th></th>\n",
       "      <th></th>\n",
       "      <th></th>\n",
       "      <th></th>\n",
       "      <th></th>\n",
       "      <th></th>\n",
       "      <th></th>\n",
       "      <th></th>\n",
       "      <th></th>\n",
       "      <th></th>\n",
       "    </tr>\n",
       "  </thead>\n",
       "  <tbody>\n",
       "    <tr>\n",
       "      <th>2</th>\n",
       "      <td>Almond</td>\n",
       "      <td>fruits</td>\n",
       "      <td>2.383884</td>\n",
       "      <td>2.367211</td>\n",
       "      <td>0.007568</td>\n",
       "      <td>3.747869</td>\n",
       "      <td>1.491113</td>\n",
       "      <td>-0.536758</td>\n",
       "      <td>-0.392082</td>\n",
       "      <td>0.004006</td>\n",
       "      <td>...</td>\n",
       "      <td>1.588591</td>\n",
       "      <td>-0.159777</td>\n",
       "      <td>-0.148160</td>\n",
       "      <td>1.295299</td>\n",
       "      <td>4.040213</td>\n",
       "      <td>2.312243</td>\n",
       "      <td>0.749351</td>\n",
       "      <td>-0.106408</td>\n",
       "      <td>1.315695</td>\n",
       "      <td>train</td>\n",
       "    </tr>\n",
       "    <tr>\n",
       "      <th>3</th>\n",
       "      <td>Almond, dry roasted, salted</td>\n",
       "      <td>nuts</td>\n",
       "      <td>2.458504</td>\n",
       "      <td>2.390231</td>\n",
       "      <td>0.007568</td>\n",
       "      <td>3.980279</td>\n",
       "      <td>1.745907</td>\n",
       "      <td>-0.536758</td>\n",
       "      <td>-0.285661</td>\n",
       "      <td>-0.117252</td>\n",
       "      <td>...</td>\n",
       "      <td>1.488645</td>\n",
       "      <td>-0.083438</td>\n",
       "      <td>0.108003</td>\n",
       "      <td>1.295299</td>\n",
       "      <td>4.816868</td>\n",
       "      <td>2.059374</td>\n",
       "      <td>0.906205</td>\n",
       "      <td>-0.088162</td>\n",
       "      <td>1.315695</td>\n",
       "      <td>train</td>\n",
       "    </tr>\n",
       "    <tr>\n",
       "      <th>4</th>\n",
       "      <td>Almond, roasted, salted</td>\n",
       "      <td>nuts</td>\n",
       "      <td>2.527384</td>\n",
       "      <td>2.545613</td>\n",
       "      <td>0.020843</td>\n",
       "      <td>4.212688</td>\n",
       "      <td>1.825530</td>\n",
       "      <td>-0.536758</td>\n",
       "      <td>-0.419844</td>\n",
       "      <td>-0.138650</td>\n",
       "      <td>...</td>\n",
       "      <td>1.355384</td>\n",
       "      <td>-0.050088</td>\n",
       "      <td>0.108003</td>\n",
       "      <td>1.098111</td>\n",
       "      <td>4.622704</td>\n",
       "      <td>2.059374</td>\n",
       "      <td>0.749351</td>\n",
       "      <td>-0.088162</td>\n",
       "      <td>1.185016</td>\n",
       "      <td>test</td>\n",
       "    </tr>\n",
       "    <tr>\n",
       "      <th>5</th>\n",
       "      <td>Amaranth, seed, cooked (without addition of fa...</td>\n",
       "      <td>cereals</td>\n",
       "      <td>-0.514820</td>\n",
       "      <td>-0.510234</td>\n",
       "      <td>-0.483593</td>\n",
       "      <td>-0.476516</td>\n",
       "      <td>-0.196900</td>\n",
       "      <td>-0.536758</td>\n",
       "      <td>0.084497</td>\n",
       "      <td>-0.431096</td>\n",
       "      <td>...</td>\n",
       "      <td>-0.377014</td>\n",
       "      <td>-0.159511</td>\n",
       "      <td>-0.149051</td>\n",
       "      <td>-0.098161</td>\n",
       "      <td>1.011260</td>\n",
       "      <td>0.226077</td>\n",
       "      <td>0.631711</td>\n",
       "      <td>-0.101432</td>\n",
       "      <td>-0.056440</td>\n",
       "      <td>test</td>\n",
       "    </tr>\n",
       "    <tr>\n",
       "      <th>6</th>\n",
       "      <td>Amaranth, seed, raw</td>\n",
       "      <td>cereals</td>\n",
       "      <td>0.960362</td>\n",
       "      <td>-0.228244</td>\n",
       "      <td>-0.337572</td>\n",
       "      <td>-0.312462</td>\n",
       "      <td>0.121593</td>\n",
       "      <td>-0.536758</td>\n",
       "      <td>1.875138</td>\n",
       "      <td>-0.345502</td>\n",
       "      <td>...</td>\n",
       "      <td>0.722392</td>\n",
       "      <td>-0.158810</td>\n",
       "      <td>-0.132568</td>\n",
       "      <td>0.572278</td>\n",
       "      <td>4.234377</td>\n",
       "      <td>2.628328</td>\n",
       "      <td>2.984515</td>\n",
       "      <td>-0.087333</td>\n",
       "      <td>1.577054</td>\n",
       "      <td>train</td>\n",
       "    </tr>\n",
       "  </tbody>\n",
       "</table>\n",
       "<p>5 rows × 41 columns</p>\n",
       "</div>"
      ],
      "text/plain": [
       "                                                 name category  energy_kcal  \\\n",
       "ID                                                                            \n",
       "2                                              Almond   fruits     2.383884   \n",
       "3                         Almond, dry roasted, salted     nuts     2.458504   \n",
       "4                             Almond, roasted, salted     nuts     2.527384   \n",
       "5   Amaranth, seed, cooked (without addition of fa...  cereals    -0.514820   \n",
       "6                                 Amaranth, seed, raw  cereals     0.960362   \n",
       "\n",
       "       fat_g  fatty_acids_sat_g  fatty_acids_monounsat_g  \\\n",
       "ID                                                         \n",
       "2   2.367211           0.007568                 3.747869   \n",
       "3   2.390231           0.007568                 3.980279   \n",
       "4   2.545613           0.020843                 4.212688   \n",
       "5  -0.510234          -0.483593                -0.476516   \n",
       "6  -0.228244          -0.337572                -0.312462   \n",
       "\n",
       "    fatty_acids_polyunsat_g  cholesterol_mg  carbohydrates_g  sugars_g  ...  \\\n",
       "ID                                                                      ...   \n",
       "2                  1.491113       -0.536758        -0.392082  0.004006  ...   \n",
       "3                  1.745907       -0.536758        -0.285661 -0.117252  ...   \n",
       "4                  1.825530       -0.536758        -0.419844 -0.138650  ...   \n",
       "5                 -0.196900       -0.536758         0.084497 -0.431096  ...   \n",
       "6                  0.121593       -0.536758         1.875138 -0.345502  ...   \n",
       "\n",
       "    potassium_mg  sodium_mg  chloride_mg  calcium_mg  magnesium_mg  \\\n",
       "ID                                                                   \n",
       "2       1.588591  -0.159777    -0.148160    1.295299      4.040213   \n",
       "3       1.488645  -0.083438     0.108003    1.295299      4.816868   \n",
       "4       1.355384  -0.050088     0.108003    1.098111      4.622704   \n",
       "5      -0.377014  -0.159511    -0.149051   -0.098161      1.011260   \n",
       "6       0.722392  -0.158810    -0.132568    0.572278      4.234377   \n",
       "\n",
       "    phosphorus_mg   iron_mg  iodide_µg   zinc_mg  split  \n",
       "ID                                                       \n",
       "2        2.312243  0.749351  -0.106408  1.315695  train  \n",
       "3        2.059374  0.906205  -0.088162  1.315695  train  \n",
       "4        2.059374  0.749351  -0.088162  1.185016   test  \n",
       "5        0.226077  0.631711  -0.101432 -0.056440   test  \n",
       "6        2.628328  2.984515  -0.087333  1.577054  train  \n",
       "\n",
       "[5 rows x 41 columns]"
      ]
     },
     "execution_count": 2,
     "metadata": {},
     "output_type": "execute_result"
    }
   ],
   "source": [
    "dataset = pd.read_csv('..\\data\\swiss_food_composition_proc.csv', index_col=0)\n",
    "dataset.head()"
   ]
  },
  {
   "cell_type": "code",
   "execution_count": 3,
   "metadata": {},
   "outputs": [
    {
     "data": {
      "text/plain": [
       "other                      228\n",
       "meat                       187\n",
       "cereals                    146\n",
       "vegetables                 127\n",
       "sweets                     118\n",
       "dairy                      103\n",
       "fruits                      99\n",
       "non_alcoholic_beverages     28\n",
       "alcoholic_beverages         22\n",
       "sauce                       16\n",
       "herbs                        7\n",
       "nuts                         3\n",
       "Name: category, dtype: int64"
      ]
     },
     "execution_count": 3,
     "metadata": {},
     "output_type": "execute_result"
    }
   ],
   "source": [
    "dataset[\"category\"].value_counts()"
   ]
  },
  {
   "cell_type": "markdown",
   "metadata": {},
   "source": [
    "### Pre-processing"
   ]
  },
  {
   "cell_type": "markdown",
   "metadata": {},
   "source": [
    "Only label encoding for the categories that we have."
   ]
  },
  {
   "cell_type": "code",
   "execution_count": 4,
   "metadata": {},
   "outputs": [
    {
     "data": {
      "text/plain": [
       "(1084,)"
      ]
     },
     "execution_count": 4,
     "metadata": {},
     "output_type": "execute_result"
    }
   ],
   "source": [
    "labels = dataset['category']\n",
    "labels_meat = labels.apply(lambda x: 1 if x == 'meat' else 0)\n",
    "labels_cereals = labels.apply(lambda x: 1 if x == 'cereals' else 0)\n",
    "labels_vegetables = labels.apply(lambda x: 1 if x == 'vegetables' else 0)\n",
    "labels_meat.shape"
   ]
  },
  {
   "cell_type": "code",
   "execution_count": 5,
   "metadata": {},
   "outputs": [],
   "source": [
    "def prepare_dataset(labels:np.array, original_dataset:pd.DataFrame):\n",
    "    onehot_encoder = OneHotEncoder()\n",
    "    labels_reshaped = labels.values.reshape(-1,1)\n",
    "    onehot_encoded = onehot_encoder.fit_transform(labels_reshaped)\n",
    "    onehot_encoded_labels = onehot_encoded.toarray()\n",
    "    encoded_df = pd.DataFrame(onehot_encoded_labels, index=original_dataset.index)\n",
    "    new_dataset = pd.concat([dataset, encoded_df], axis=1)\n",
    "    train_data = new_dataset[new_dataset['split'] == 'train']\n",
    "    test_data = new_dataset[new_dataset['split'] == 'test']\n",
    "    return train_data, test_data"
   ]
  },
  {
   "cell_type": "code",
   "execution_count": 6,
   "metadata": {},
   "outputs": [],
   "source": [
    "meat_train_set, meat_test_set = prepare_dataset(labels_meat, dataset)\n",
    "cereals_train_set, cereals_test_set = prepare_dataset(labels_cereals, dataset)\n",
    "vegetables_train_set, vegetables_test_set = prepare_dataset(labels_vegetables, dataset)"
   ]
  },
  {
   "cell_type": "code",
   "execution_count": 7,
   "metadata": {},
   "outputs": [
    {
     "data": {
      "text/plain": [
       "(217, 43)"
      ]
     },
     "execution_count": 7,
     "metadata": {},
     "output_type": "execute_result"
    }
   ],
   "source": [
    "meat_test_set.shape"
   ]
  },
  {
   "cell_type": "code",
   "execution_count": 8,
   "metadata": {},
   "outputs": [
    {
     "data": {
      "text/plain": [
       "(867, 43)"
      ]
     },
     "execution_count": 8,
     "metadata": {},
     "output_type": "execute_result"
    }
   ],
   "source": [
    "meat_train_set.shape"
   ]
  },
  {
   "cell_type": "code",
   "execution_count": 9,
   "metadata": {},
   "outputs": [
    {
     "data": {
      "text/plain": [
       "Index([                     'name',                  'category',\n",
       "                     'energy_kcal',                     'fat_g',\n",
       "               'fatty_acids_sat_g',   'fatty_acids_monounsat_g',\n",
       "         'fatty_acids_polyunsat_g',            'cholesterol_mg',\n",
       "                 'carbohydrates_g',                  'sugars_g',\n",
       "                        'starch_g',                  'fibres_g',\n",
       "                       'protein_g',                    'salt_g',\n",
       "                       'alcohol_g',                   'water_g',\n",
       "            'vit_A_activity_re_µg',     'vit_A_activity_rae_µg',\n",
       "                      'retinol_µg', 'beta_carotene_activity_µg',\n",
       "                'beta_carotene_µg',                 'vit_B1_mg',\n",
       "                       'vit_B2_mg',                 'vit_B6_mg',\n",
       "                      'vit_B12_µg',                 'niacin_mg',\n",
       "                       'folate_µg',       'panthotenic_acid_mg',\n",
       "                        'vit_c_mg',                  'vit_d_µg',\n",
       "               'vit_e_activity_mg',              'potassium_mg',\n",
       "                       'sodium_mg',               'chloride_mg',\n",
       "                      'calcium_mg',              'magnesium_mg',\n",
       "                   'phosphorus_mg',                   'iron_mg',\n",
       "                       'iodide_µg',                   'zinc_mg',\n",
       "                           'split',                           0,\n",
       "                                 1],\n",
       "      dtype='object')"
      ]
     },
     "execution_count": 9,
     "metadata": {},
     "output_type": "execute_result"
    }
   ],
   "source": [
    "cols = meat_test_set.columns\n",
    "cols"
   ]
  },
  {
   "cell_type": "code",
   "execution_count": 10,
   "metadata": {},
   "outputs": [
    {
     "name": "stdout",
     "output_type": "stream",
     "text": [
      "Index(['energy_kcal', 'fat_g', 'fatty_acids_sat_g', 'fatty_acids_monounsat_g',\n",
      "       'fatty_acids_polyunsat_g', 'cholesterol_mg', 'carbohydrates_g',\n",
      "       'sugars_g', 'starch_g', 'fibres_g', 'protein_g', 'salt_g', 'alcohol_g',\n",
      "       'water_g', 'vit_A_activity_re_µg', 'vit_A_activity_rae_µg',\n",
      "       'retinol_µg', 'beta_carotene_activity_µg', 'beta_carotene_µg',\n",
      "       'vit_B1_mg', 'vit_B2_mg', 'vit_B6_mg', 'vit_B12_µg', 'niacin_mg',\n",
      "       'folate_µg', 'panthotenic_acid_mg', 'vit_c_mg', 'vit_d_µg',\n",
      "       'vit_e_activity_mg', 'potassium_mg', 'sodium_mg', 'chloride_mg',\n",
      "       'calcium_mg', 'magnesium_mg', 'phosphorus_mg', 'iron_mg', 'iodide_µg',\n",
      "       'zinc_mg'],\n",
      "      dtype='object')\n",
      "Index([0, 1], dtype='object')\n"
     ]
    }
   ],
   "source": [
    "feature_cols = cols[2:-3]\n",
    "labels_cols = cols[-2:]\n",
    "print(feature_cols)\n",
    "print(labels_cols)"
   ]
  },
  {
   "cell_type": "markdown",
   "metadata": {},
   "source": [
    "### Models"
   ]
  },
  {
   "cell_type": "markdown",
   "metadata": {},
   "source": [
    "Trying only Random Forrest."
   ]
  },
  {
   "cell_type": "code",
   "execution_count": 11,
   "metadata": {},
   "outputs": [],
   "source": [
    "def run_random_forest_classifier(n_estimators, max_depth, \n",
    "                                   train_data_features:np.array, train_data_labels:np.array,\n",
    "                                   test_data_features:np.array, test_data_labels:np.array, \n",
    "                                   sup_title:str, roc_title:str, prc_title:str):\n",
    "    \n",
    "    rf_classifier = RandomForestClassifier(n_estimators=n_estimators, \n",
    "                                           max_depth=max_depth,\n",
    "                                           random_state=0)\n",
    "    \n",
    "    rf_classifier.fit(train_data_features, train_data_labels)\n",
    "    \n",
    "    predicted_test_labels = rf_classifier.predict(test_data_features)\n",
    "    predicted_train_labels = rf_classifier.predict(train_data_features)\n",
    "    \n",
    "    # categories = dataset[\"category\"].unique()\n",
    "    test_set_labels = np.array(test_data_labels)\n",
    "    train_set_labels = np.array(train_data_labels)\n",
    "    #title = f\"ROC - n_estimators={n_estimators} and max_depth={max_depth}\"\n",
    "    run_auc_roc_prc(train_set_labels, predicted_train_labels, test_set_labels, \n",
    "                predicted_test_labels, sup_title, roc_title, prc_title)\n",
    "\n",
    "def run_auc_roc_prc(y_train:np.array, y_train_pred:np.array, \n",
    "                y_test:np.array, y_test_pred:np.array, sup_title:str,\n",
    "                roc_title:str, prc_title:str):\n",
    "\n",
    "    # store the fpr, tpr, and roc_auc for all averaging strategies\n",
    "    fpr, tpr, roc_auc, prc, rec, prc_auc = dict(), dict(), dict(), dict(), dict(), dict()\n",
    "\n",
    "    #-----------------------------------------------------------------------------------#\n",
    "    # Calculate the ROC and PRC curves\n",
    "    #-----------------------------------------------------------------------------------#\n",
    "\n",
    "    # Compute ROC curve and ROC area\n",
    "    fpr[\"test\"], tpr[\"test\"], _ = roc_curve(y_test.ravel(), y_test_pred.ravel())\n",
    "    fpr[\"train\"], tpr[\"train\"], _ = roc_curve(y_train.ravel(), y_train_pred.ravel())\n",
    "    roc_auc[\"test\"] = auc(fpr[\"test\"], tpr[\"test\"])\n",
    "    roc_auc[\"train\"] = auc(fpr[\"train\"], tpr[\"train\"])\n",
    "\n",
    "    # Compute PRC curve and PRC area\n",
    "    prc[\"test\"], rec[\"test\"], _ = precision_recall_curve(y_test.ravel(), y_test_pred.ravel())\n",
    "    prc[\"train\"], rec[\"train\"], _ = precision_recall_curve(y_train.ravel(), y_train_pred.ravel())\n",
    "    prc_auc[\"test\"] = auc(rec[\"test\"], prc[\"test\"])\n",
    "    prc_auc[\"train\"] = auc(rec[\"train\"], prc[\"train\"])\n",
    "\n",
    "\n",
    "    #-----------------------------------------------------------------------------------#\n",
    "    # Display curves here\n",
    "    #-----------------------------------------------------------------------------------#\n",
    "    y_test = np.all(y_test==[0,1], axis=1).astype(int)\n",
    "    y_test_pred = np.all(y_test_pred==[0,1], axis=1).astype(int)\n",
    "    y_train = np.all(y_train==[0,1], axis=1).astype(int)\n",
    "    y_train_pred = np.all(y_train_pred==[0,1], axis=1).astype(int)\n",
    "    \n",
    "    print(f\"Accuracy (Test): {accuracy_score(y_true=y_test, y_pred=y_test_pred)*100:.2f}%\")\n",
    "    print(f\"F1-score (Test): {f1_score(y_true=y_test, y_pred=y_test_pred):.2f}\")\n",
    "    print(f\"Accuracy (Train): {accuracy_score(y_true=y_train, y_pred=y_train_pred)*100:.2f}%\")\n",
    "    print(f\"F1-score (Train): {f1_score(y_true=y_train, y_pred=y_train_pred):.2f}\")\n",
    "\n",
    "    _, axes = plt.subplots(nrows=1, ncols=2, figsize=(12, 6))\n",
    "\n",
    "    axes[0].plot(\n",
    "        fpr[\"test\"],\n",
    "        tpr[\"test\"],\n",
    "        label=f\"Test-AUC = {roc_auc['test']:.2f}\",\n",
    "        color=\"deeppink\",\n",
    "        linestyle=\"-\",\n",
    "        linewidth=2,\n",
    "    )\n",
    "\n",
    "    axes[0].plot(\n",
    "        fpr[\"train\"],\n",
    "        tpr[\"train\"],\n",
    "        label=f\"Train-AUC = {roc_auc['train']:.2f}\",\n",
    "        color=\"navy\",\n",
    "        linestyle=\"-\",\n",
    "        linewidth=2,\n",
    "    )\n",
    "\n",
    "    axes[0].axis(\"square\")\n",
    "    axes[0].set_xlabel(\"False Positive Rate\")\n",
    "    axes[0].set_ylabel(\"True Positive Rate\")\n",
    "    axes[0].set_ylim(-0.05, 1.05)\n",
    "    axes[0].set_xlim(-0.05, 1.05)\n",
    "    axes[0].set_title(roc_title)\n",
    "    axes[0].legend(loc='upper right', bbox_to_anchor=(1, 0.5))\n",
    "    \n",
    "    axes[1].plot(\n",
    "        rec[\"test\"],\n",
    "        prc[\"test\"],\n",
    "        label=f\"Test-AUC = {prc_auc['test']:.2f}\",\n",
    "        color=\"deeppink\",\n",
    "        linestyle=\"-\",\n",
    "        linewidth=2,\n",
    "    )\n",
    "\n",
    "    axes[1].plot(\n",
    "        rec[\"train\"],\n",
    "        prc[\"train\"],\n",
    "        label=f\"Train-AUC = {prc_auc['train']:.2f}\",\n",
    "        color=\"navy\",\n",
    "        linestyle=\"-\",\n",
    "        linewidth=2,\n",
    "    )\n",
    "\n",
    "    axes[1].axis(\"square\")\n",
    "    axes[1].set_xlabel(\"False Positive Rate\")\n",
    "    axes[1].set_ylabel(\"True Positive Rate\")\n",
    "    axes[1].set_ylim(-0.05, 1.05)\n",
    "    axes[1].set_xlim(-0.05, 1.05)\n",
    "    axes[1].set_title(prc_title)\n",
    "    axes[1].legend(loc='upper left', bbox_to_anchor=(1, 0.5))\n",
    "    \n",
    "    plt.suptitle(sup_title)\n",
    "    plt.show()"
   ]
  },
  {
   "cell_type": "code",
   "execution_count": 12,
   "metadata": {},
   "outputs": [],
   "source": [
    "#----------------- wrapper & helper functions are here ----------------------#\n",
    "def get_plot_titles(category:str, max_depth:int, n_estimators:int):\n",
    "    sup_title = f'category={category}: max_depth={max_depth} and n_estimators={n_estimators}'\n",
    "    title_roc=f'ROC - curve'\n",
    "    title_prc=f'PRC - curve'\n",
    "    return sup_title, title_roc, title_prc\n",
    "\n",
    "def wrapper_function_meat(n_estimators:int, max_depth:int):\n",
    "    train_data_features = meat_train_set[feature_cols]\n",
    "    train_data_labels = meat_train_set[labels_cols]\n",
    "    test_data_features = meat_test_set[feature_cols]\n",
    "    test_data_labels = meat_test_set[labels_cols]\n",
    "    sup_title, title_roc, title_prc = get_plot_titles('Meat', n_estimators, max_depth)\n",
    "    run_random_forest_classifier(n_estimators, max_depth, train_data_features, \n",
    "                                   train_data_labels, test_data_features,\n",
    "                                   test_data_labels, sup_title, \n",
    "                                   title_roc, title_prc)\n",
    "\n",
    "def wrapper_function_cereals(n_estimators:int, max_depth:int):\n",
    "    train_data_features = cereals_train_set[feature_cols]\n",
    "    train_data_labels = cereals_train_set[labels_cols]\n",
    "    test_data_features = cereals_test_set[feature_cols]\n",
    "    test_data_labels = cereals_test_set[labels_cols]\n",
    "    sup_title, title_roc, title_prc = get_plot_titles('Cereals', n_estimators, max_depth)\n",
    "    run_random_forest_classifier(n_estimators, max_depth, train_data_features, \n",
    "                                   train_data_labels, test_data_features,\n",
    "                                   test_data_labels, sup_title, \n",
    "                                   title_roc, title_prc)\n",
    "\n",
    "def wrapper_function_vegetables(n_estimators:int, max_depth:int):\n",
    "    train_data_features = vegetables_train_set[feature_cols]\n",
    "    train_data_labels = vegetables_train_set[labels_cols]\n",
    "    test_data_features = vegetables_test_set[feature_cols]\n",
    "    test_data_labels = vegetables_test_set[labels_cols]\n",
    "    sup_title, title_roc, title_prc = get_plot_titles('Vegetables', n_estimators, max_depth)\n",
    "    run_random_forest_classifier(n_estimators, max_depth, train_data_features, \n",
    "                                   train_data_labels, test_data_features,\n",
    "                                   test_data_labels, sup_title, \n",
    "                                   title_roc, title_prc)"
   ]
  },
  {
   "cell_type": "code",
   "execution_count": 13,
   "metadata": {},
   "outputs": [
    {
     "data": {
      "application/vnd.jupyter.widget-view+json": {
       "model_id": "829d8dfbb8ad4c8a8fe67a6024ed1513",
       "version_major": 2,
       "version_minor": 0
      },
      "text/plain": [
       "interactive(children=(IntSlider(value=30, description='n_estimators:', max=1000, min=10, step=5), IntSlider(va…"
      ]
     },
     "metadata": {},
     "output_type": "display_data"
    }
   ],
   "source": [
    "n_estimators_slider = widgets.IntSlider(value=30, min=10, max=1000, step=5, description='n_estimators:')\n",
    "max_depth_slider = widgets.IntSlider(value=10, min=1, max=20, step=1, description='max_depth:')\n",
    "widgets.interact_manual(wrapper_function_meat, \n",
    "                        n_estimators=n_estimators_slider,\n",
    "                        max_depth=max_depth_slider,\n",
    "                        );"
   ]
  },
  {
   "cell_type": "code",
   "execution_count": 14,
   "metadata": {},
   "outputs": [
    {
     "data": {
      "application/vnd.jupyter.widget-view+json": {
       "model_id": "015c5b34d9364be6a281cb78a1ee4d8e",
       "version_major": 2,
       "version_minor": 0
      },
      "text/plain": [
       "interactive(children=(IntSlider(value=30, description='n_estimators:', max=1000, min=10, step=5), IntSlider(va…"
      ]
     },
     "metadata": {},
     "output_type": "display_data"
    }
   ],
   "source": [
    "widgets.interact_manual(wrapper_function_cereals, \n",
    "                        n_estimators=n_estimators_slider,\n",
    "                        max_depth=max_depth_slider,\n",
    "                        );"
   ]
  },
  {
   "cell_type": "code",
   "execution_count": 15,
   "metadata": {},
   "outputs": [
    {
     "data": {
      "application/vnd.jupyter.widget-view+json": {
       "model_id": "bc1f61d3f8a24084bb08701cb4ab9268",
       "version_major": 2,
       "version_minor": 0
      },
      "text/plain": [
       "interactive(children=(IntSlider(value=30, description='n_estimators:', max=1000, min=10, step=5), IntSlider(va…"
      ]
     },
     "metadata": {},
     "output_type": "display_data"
    }
   ],
   "source": [
    "widgets.interact_manual(wrapper_function_vegetables, \n",
    "                        n_estimators=n_estimators_slider,\n",
    "                        max_depth=max_depth_slider,\n",
    "                        );"
   ]
  },
  {
   "cell_type": "markdown",
   "metadata": {},
   "source": [
    "## Regression"
   ]
  },
  {
   "cell_type": "markdown",
   "metadata": {},
   "source": [
    "The source of the dataset can be found [here](https://www.kaggle.com/datasets/evangower/chocolate-bar-ratings)."
   ]
  },
  {
   "cell_type": "code",
   "execution_count": 16,
   "metadata": {},
   "outputs": [
    {
     "data": {
      "text/html": [
       "<div>\n",
       "<style scoped>\n",
       "    .dataframe tbody tr th:only-of-type {\n",
       "        vertical-align: middle;\n",
       "    }\n",
       "\n",
       "    .dataframe tbody tr th {\n",
       "        vertical-align: top;\n",
       "    }\n",
       "\n",
       "    .dataframe thead th {\n",
       "        text-align: right;\n",
       "    }\n",
       "</style>\n",
       "<table border=\"1\" class=\"dataframe\">\n",
       "  <thead>\n",
       "    <tr style=\"text-align: right;\">\n",
       "      <th></th>\n",
       "      <th>id</th>\n",
       "      <th>manufacturer</th>\n",
       "      <th>company_location</th>\n",
       "      <th>year_reviewed</th>\n",
       "      <th>bean_origin</th>\n",
       "      <th>bar_name</th>\n",
       "      <th>cocoa_percent</th>\n",
       "      <th>num_ingredients</th>\n",
       "      <th>ingredients</th>\n",
       "      <th>review</th>\n",
       "      <th>rating</th>\n",
       "    </tr>\n",
       "  </thead>\n",
       "  <tbody>\n",
       "    <tr>\n",
       "      <th>0</th>\n",
       "      <td>2454</td>\n",
       "      <td>5150</td>\n",
       "      <td>U.S.A.</td>\n",
       "      <td>2019</td>\n",
       "      <td>Tanzania</td>\n",
       "      <td>Kokoa Kamili, batch 1</td>\n",
       "      <td>76.0</td>\n",
       "      <td>3.0</td>\n",
       "      <td>B,S,C</td>\n",
       "      <td>rich cocoa, fatty, bready</td>\n",
       "      <td>3.25</td>\n",
       "    </tr>\n",
       "    <tr>\n",
       "      <th>1</th>\n",
       "      <td>2458</td>\n",
       "      <td>5150</td>\n",
       "      <td>U.S.A.</td>\n",
       "      <td>2019</td>\n",
       "      <td>Dominican Republic</td>\n",
       "      <td>Zorzal, batch 1</td>\n",
       "      <td>76.0</td>\n",
       "      <td>3.0</td>\n",
       "      <td>B,S,C</td>\n",
       "      <td>cocoa, vegetal, savory</td>\n",
       "      <td>3.50</td>\n",
       "    </tr>\n",
       "    <tr>\n",
       "      <th>2</th>\n",
       "      <td>2454</td>\n",
       "      <td>5150</td>\n",
       "      <td>U.S.A.</td>\n",
       "      <td>2019</td>\n",
       "      <td>Madagascar</td>\n",
       "      <td>Bejofo Estate, batch 1</td>\n",
       "      <td>76.0</td>\n",
       "      <td>3.0</td>\n",
       "      <td>B,S,C</td>\n",
       "      <td>cocoa, blackberry, full body</td>\n",
       "      <td>3.75</td>\n",
       "    </tr>\n",
       "    <tr>\n",
       "      <th>3</th>\n",
       "      <td>2542</td>\n",
       "      <td>5150</td>\n",
       "      <td>U.S.A.</td>\n",
       "      <td>2021</td>\n",
       "      <td>Fiji</td>\n",
       "      <td>Matasawalevu, batch 1</td>\n",
       "      <td>68.0</td>\n",
       "      <td>3.0</td>\n",
       "      <td>B,S,C</td>\n",
       "      <td>chewy, off, rubbery</td>\n",
       "      <td>3.00</td>\n",
       "    </tr>\n",
       "    <tr>\n",
       "      <th>4</th>\n",
       "      <td>2546</td>\n",
       "      <td>5150</td>\n",
       "      <td>U.S.A.</td>\n",
       "      <td>2021</td>\n",
       "      <td>Venezuela</td>\n",
       "      <td>Sur del Lago, batch 1</td>\n",
       "      <td>72.0</td>\n",
       "      <td>3.0</td>\n",
       "      <td>B,S,C</td>\n",
       "      <td>fatty, earthy, moss, nutty,chalky</td>\n",
       "      <td>3.00</td>\n",
       "    </tr>\n",
       "  </tbody>\n",
       "</table>\n",
       "</div>"
      ],
      "text/plain": [
       "     id manufacturer company_location  year_reviewed         bean_origin  \\\n",
       "0  2454         5150           U.S.A.           2019            Tanzania   \n",
       "1  2458         5150           U.S.A.           2019  Dominican Republic   \n",
       "2  2454         5150           U.S.A.           2019          Madagascar   \n",
       "3  2542         5150           U.S.A.           2021                Fiji   \n",
       "4  2546         5150           U.S.A.           2021           Venezuela   \n",
       "\n",
       "                 bar_name  cocoa_percent  num_ingredients ingredients  \\\n",
       "0   Kokoa Kamili, batch 1           76.0              3.0       B,S,C   \n",
       "1         Zorzal, batch 1           76.0              3.0       B,S,C   \n",
       "2  Bejofo Estate, batch 1           76.0              3.0       B,S,C   \n",
       "3   Matasawalevu, batch 1           68.0              3.0       B,S,C   \n",
       "4   Sur del Lago, batch 1           72.0              3.0       B,S,C   \n",
       "\n",
       "                              review  rating  \n",
       "0          rich cocoa, fatty, bready    3.25  \n",
       "1             cocoa, vegetal, savory    3.50  \n",
       "2       cocoa, blackberry, full body    3.75  \n",
       "3                chewy, off, rubbery    3.00  \n",
       "4  fatty, earthy, moss, nutty,chalky    3.00  "
      ]
     },
     "execution_count": 16,
     "metadata": {},
     "output_type": "execute_result"
    }
   ],
   "source": [
    "chocolate_dataset = pd.read_csv(\"../data/chocolate_bars.csv\")\n",
    "chocolate_dataset.head()"
   ]
  },
  {
   "cell_type": "markdown",
   "metadata": {},
   "source": [
    "We will see if we can predict the rating based on the cocoa percentage and number of ingredients."
   ]
  },
  {
   "cell_type": "code",
   "execution_count": 17,
   "metadata": {},
   "outputs": [
    {
     "data": {
      "text/html": [
       "<div>\n",
       "<style scoped>\n",
       "    .dataframe tbody tr th:only-of-type {\n",
       "        vertical-align: middle;\n",
       "    }\n",
       "\n",
       "    .dataframe tbody tr th {\n",
       "        vertical-align: top;\n",
       "    }\n",
       "\n",
       "    .dataframe thead th {\n",
       "        text-align: right;\n",
       "    }\n",
       "</style>\n",
       "<table border=\"1\" class=\"dataframe\">\n",
       "  <thead>\n",
       "    <tr style=\"text-align: right;\">\n",
       "      <th></th>\n",
       "      <th>cocoa_percent</th>\n",
       "      <th>num_ingredients</th>\n",
       "      <th>rating</th>\n",
       "    </tr>\n",
       "  </thead>\n",
       "  <tbody>\n",
       "    <tr>\n",
       "      <th>0</th>\n",
       "      <td>76.0</td>\n",
       "      <td>3.0</td>\n",
       "      <td>3.25</td>\n",
       "    </tr>\n",
       "    <tr>\n",
       "      <th>1</th>\n",
       "      <td>76.0</td>\n",
       "      <td>3.0</td>\n",
       "      <td>3.50</td>\n",
       "    </tr>\n",
       "    <tr>\n",
       "      <th>2</th>\n",
       "      <td>76.0</td>\n",
       "      <td>3.0</td>\n",
       "      <td>3.75</td>\n",
       "    </tr>\n",
       "    <tr>\n",
       "      <th>3</th>\n",
       "      <td>68.0</td>\n",
       "      <td>3.0</td>\n",
       "      <td>3.00</td>\n",
       "    </tr>\n",
       "    <tr>\n",
       "      <th>4</th>\n",
       "      <td>72.0</td>\n",
       "      <td>3.0</td>\n",
       "      <td>3.00</td>\n",
       "    </tr>\n",
       "  </tbody>\n",
       "</table>\n",
       "</div>"
      ],
      "text/plain": [
       "   cocoa_percent  num_ingredients  rating\n",
       "0           76.0              3.0    3.25\n",
       "1           76.0              3.0    3.50\n",
       "2           76.0              3.0    3.75\n",
       "3           68.0              3.0    3.00\n",
       "4           72.0              3.0    3.00"
      ]
     },
     "execution_count": 17,
     "metadata": {},
     "output_type": "execute_result"
    }
   ],
   "source": [
    "chocolate_dataset = chocolate_dataset[['cocoa_percent','num_ingredients', 'rating']]\n",
    "chocolate_dataset.head()"
   ]
  },
  {
   "cell_type": "markdown",
   "metadata": {},
   "source": [
    "### Impute Missing Values"
   ]
  },
  {
   "cell_type": "markdown",
   "metadata": {},
   "source": [
    "Mean imputation."
   ]
  },
  {
   "cell_type": "code",
   "execution_count": 18,
   "metadata": {},
   "outputs": [],
   "source": [
    "imputer = SimpleImputer(missing_values=np.nan, strategy='mean')\n",
    "imputer.fit(chocolate_dataset.iloc[:, 0:-1])\n",
    "chocolate_dataset.iloc[:, 0:-1] = imputer.transform(chocolate_dataset.iloc[:, 0:-1])"
   ]
  },
  {
   "cell_type": "markdown",
   "metadata": {},
   "source": [
    "### Train-Test split"
   ]
  },
  {
   "cell_type": "code",
   "execution_count": 19,
   "metadata": {},
   "outputs": [],
   "source": [
    "train_set, test_set = train_test_split(chocolate_dataset, test_size=0.2, random_state=0)"
   ]
  },
  {
   "cell_type": "markdown",
   "metadata": {},
   "source": [
    "### Standardization"
   ]
  },
  {
   "cell_type": "code",
   "execution_count": 20,
   "metadata": {},
   "outputs": [],
   "source": [
    "cols = chocolate_dataset.columns[:-1]\n",
    "standard_scaler = StandardScaler()\n",
    "train_set_numerical_st = standard_scaler.fit_transform(train_set[cols])\n",
    "test_set_numerical_st = standard_scaler.transform(test_set[cols])"
   ]
  },
  {
   "cell_type": "markdown",
   "metadata": {},
   "source": [
    "### Model"
   ]
  },
  {
   "cell_type": "code",
   "execution_count": 21,
   "metadata": {},
   "outputs": [],
   "source": [
    "def run_random_forest_regression(n_estimators:int, max_depth:int):\n",
    "    regressor = RandomForestRegressor(n_estimators=n_estimators, \n",
    "                                      max_depth=max_depth, random_state=0)\n",
    "    regressor.fit(train_set_numerical_st, train_set.iloc[:, -1])\n",
    "    y_train_pred = regressor.predict(train_set_numerical_st)\n",
    "    y_test_pred = regressor.predict(test_set_numerical_st)\n",
    "\n",
    "    title = f\"Random Forest Regression - n_estimators={n_estimators} and max_depth={max_depth}\"\n",
    "    visualize_results(train_set.iloc[:, -1], y_train_pred, \n",
    "                      test_set.iloc[:, -1], y_test_pred,\n",
    "                      title)\n",
    "\n",
    "def visualize_results(y_train_true:np.array, y_train_pred:np.array, \n",
    "                      y_test_true:np.array, y_test_pred:np.array, title:str):\n",
    "\n",
    "    print(f\"MSE (Train) = {mean_squared_error(y_train_true, y_train_pred)}\")\n",
    "    print(f\"MSE (Test) = {mean_squared_error(y_test_true, y_test_pred)}\")\n",
    "\n",
    "    _, axes = plt.subplots(nrows=1, ncols=2, figsize=(12,4))\n",
    "\n",
    "    axes[0].scatter(x=y_train_true, y=y_train_pred, s=4)\n",
    "    axes[0].plot(y_train_true, y_train_true, color='red', label='y=x')\n",
    "    axes[0].set_xlabel(\"True Rating\")\n",
    "    axes[0].set_ylabel(\"Predicted Label\")\n",
    "    axes[0].set_title(\"Predicted vs Actual - Train Set\");\n",
    "    axes[0].legend()\n",
    "\n",
    "    axes[1].scatter(x=y_test_true, y=y_test_pred, s=4)\n",
    "    axes[1].plot(y_train_true, y_train_true, color='red', label='y=x')\n",
    "    axes[1].set_xlabel(\"True Rating\")\n",
    "    axes[1].set_ylabel(\"Predicted Label\")\n",
    "    axes[1].set_title(\"Predicted vs Actual - Test Set\");\n",
    "    axes[1].legend()\n",
    "    \n",
    "    plt.suptitle(title)"
   ]
  },
  {
   "cell_type": "code",
   "execution_count": 22,
   "metadata": {},
   "outputs": [
    {
     "data": {
      "application/vnd.jupyter.widget-view+json": {
       "model_id": "55f7ae52071f407387d933cd58acf7b9",
       "version_major": 2,
       "version_minor": 0
      },
      "text/plain": [
       "interactive(children=(IntSlider(value=30, description='n_estimators:', max=1000, min=10, step=5), IntSlider(va…"
      ]
     },
     "metadata": {},
     "output_type": "display_data"
    }
   ],
   "source": [
    "n_estimators_slider = widgets.IntSlider(value=30, min=10, max=1000, step=5, description='n_estimators:')\n",
    "max_depth_slider = widgets.IntSlider(value=10, min=1, max=20, step=1, description='max_depth:')\n",
    "widgets.interact_manual(run_random_forest_regression, \n",
    "                        n_estimators=n_estimators_slider,\n",
    "                        max_depth=max_depth_slider,\n",
    "                        );"
   ]
  },
  {
   "cell_type": "markdown",
   "metadata": {},
   "source": [
    "Link for [one vs all](https://towardsdatascience.com/multiclass-classification-evaluation-with-roc-curves-and-roc-auc-294fd4617e3a)."
   ]
  }
 ],
 "metadata": {
  "kernelspec": {
   "display_name": "ml4food",
   "language": "python",
   "name": "python3"
  },
  "language_info": {
   "codemirror_mode": {
    "name": "ipython",
    "version": 3
   },
   "file_extension": ".py",
   "mimetype": "text/x-python",
   "name": "python",
   "nbconvert_exporter": "python",
   "pygments_lexer": "ipython3",
   "version": "3.10.11"
  },
  "orig_nbformat": 4
 },
 "nbformat": 4,
 "nbformat_minor": 2
}
