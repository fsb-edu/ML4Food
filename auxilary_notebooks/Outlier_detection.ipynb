{
 "cells": [
  {
   "attachments": {},
   "cell_type": "markdown",
   "metadata": {},
   "source": [
    "# Outlier detection"
   ]
  },
  {
   "attachments": {},
   "cell_type": "markdown",
   "metadata": {},
   "source": [
    "This notebook analyzes the `swiss_food_composition_database_proc` to see for outlier. Different outlier detection methods are found."
   ]
  },
  {
   "cell_type": "code",
   "execution_count": 7,
   "metadata": {},
   "outputs": [],
   "source": [
    "import pandas as pd"
   ]
  },
  {
   "cell_type": "code",
   "execution_count": 8,
   "metadata": {},
   "outputs": [],
   "source": [
    "dataset = pd.read_csv('../data/swiss_food_composition_database_proc.csv')"
   ]
  },
  {
   "cell_type": "code",
   "execution_count": 9,
   "metadata": {},
   "outputs": [
    {
     "data": {
      "text/plain": [
       "(1092, 43)"
      ]
     },
     "execution_count": 9,
     "metadata": {},
     "output_type": "execute_result"
    }
   ],
   "source": [
    "dataset.shape"
   ]
  },
  {
   "cell_type": "code",
   "execution_count": 10,
   "metadata": {},
   "outputs": [
    {
     "data": {
      "text/html": [
       "<div>\n",
       "<style scoped>\n",
       "    .dataframe tbody tr th:only-of-type {\n",
       "        vertical-align: middle;\n",
       "    }\n",
       "\n",
       "    .dataframe tbody tr th {\n",
       "        vertical-align: top;\n",
       "    }\n",
       "\n",
       "    .dataframe thead th {\n",
       "        text-align: right;\n",
       "    }\n",
       "</style>\n",
       "<table border=\"1\" class=\"dataframe\">\n",
       "  <thead>\n",
       "    <tr style=\"text-align: right;\">\n",
       "      <th></th>\n",
       "      <th>ID</th>\n",
       "      <th>name</th>\n",
       "      <th>category</th>\n",
       "      <th>energy_kcal</th>\n",
       "      <th>fat_g</th>\n",
       "      <th>fatty_acids_sat_g</th>\n",
       "      <th>fatty_acids_monounsat_g</th>\n",
       "      <th>fatty_acids_polyunsat_g</th>\n",
       "      <th>cholesterol_mg</th>\n",
       "      <th>carbohydrates_g</th>\n",
       "      <th>...</th>\n",
       "      <th>sodium_mg</th>\n",
       "      <th>chloride_mg</th>\n",
       "      <th>calcium_mg</th>\n",
       "      <th>magnesium_mg</th>\n",
       "      <th>phosphorus_mg</th>\n",
       "      <th>iron_mg</th>\n",
       "      <th>iodide_µg</th>\n",
       "      <th>zinc_mg</th>\n",
       "      <th>selenium_µg</th>\n",
       "      <th>category_new</th>\n",
       "    </tr>\n",
       "  </thead>\n",
       "  <tbody>\n",
       "    <tr>\n",
       "      <th>0</th>\n",
       "      <td>0</td>\n",
       "      <td>Agar Agar</td>\n",
       "      <td>Various/Gelling and binding agents</td>\n",
       "      <td>160.0</td>\n",
       "      <td>0.2</td>\n",
       "      <td>NaN</td>\n",
       "      <td>NaN</td>\n",
       "      <td>NaN</td>\n",
       "      <td>NaN</td>\n",
       "      <td>0.0</td>\n",
       "      <td>...</td>\n",
       "      <td>130.0</td>\n",
       "      <td>NaN</td>\n",
       "      <td>660.0</td>\n",
       "      <td>100.0</td>\n",
       "      <td>34.0</td>\n",
       "      <td>4.5</td>\n",
       "      <td>NaN</td>\n",
       "      <td>1.5</td>\n",
       "      <td>NaN</td>\n",
       "      <td>other</td>\n",
       "    </tr>\n",
       "    <tr>\n",
       "      <th>1</th>\n",
       "      <td>1</td>\n",
       "      <td>Agave syrup</td>\n",
       "      <td>Sweets/Sugar and sweeteners</td>\n",
       "      <td>293.0</td>\n",
       "      <td>0.0</td>\n",
       "      <td>0.0</td>\n",
       "      <td>NaN</td>\n",
       "      <td>NaN</td>\n",
       "      <td>NaN</td>\n",
       "      <td>73.1</td>\n",
       "      <td>...</td>\n",
       "      <td>4.0</td>\n",
       "      <td>NaN</td>\n",
       "      <td>NaN</td>\n",
       "      <td>NaN</td>\n",
       "      <td>NaN</td>\n",
       "      <td>NaN</td>\n",
       "      <td>NaN</td>\n",
       "      <td>NaN</td>\n",
       "      <td>NaN</td>\n",
       "      <td>sweets</td>\n",
       "    </tr>\n",
       "    <tr>\n",
       "      <th>2</th>\n",
       "      <td>2</td>\n",
       "      <td>Almond</td>\n",
       "      <td>Nuts, seeds and oleaginous fruit</td>\n",
       "      <td>624.0</td>\n",
       "      <td>52.1</td>\n",
       "      <td>4.1</td>\n",
       "      <td>31.4</td>\n",
       "      <td>11.4</td>\n",
       "      <td>0.0</td>\n",
       "      <td>7.8</td>\n",
       "      <td>...</td>\n",
       "      <td>1.1</td>\n",
       "      <td>40.0</td>\n",
       "      <td>270.0</td>\n",
       "      <td>240.0</td>\n",
       "      <td>510.0</td>\n",
       "      <td>3.3</td>\n",
       "      <td>0.2</td>\n",
       "      <td>3.3</td>\n",
       "      <td>2.2</td>\n",
       "      <td>fruits</td>\n",
       "    </tr>\n",
       "    <tr>\n",
       "      <th>3</th>\n",
       "      <td>3</td>\n",
       "      <td>Almond, dry roasted, salted</td>\n",
       "      <td>Savoury snacks/Salted nuts, seeds and kernels</td>\n",
       "      <td>637.0</td>\n",
       "      <td>52.5</td>\n",
       "      <td>4.1</td>\n",
       "      <td>33.1</td>\n",
       "      <td>13.0</td>\n",
       "      <td>0.0</td>\n",
       "      <td>10.1</td>\n",
       "      <td>...</td>\n",
       "      <td>230.0</td>\n",
       "      <td>1190.0</td>\n",
       "      <td>270.0</td>\n",
       "      <td>280.0</td>\n",
       "      <td>470.0</td>\n",
       "      <td>3.7</td>\n",
       "      <td>2.4</td>\n",
       "      <td>3.3</td>\n",
       "      <td>2.0</td>\n",
       "      <td>nuts</td>\n",
       "    </tr>\n",
       "    <tr>\n",
       "      <th>4</th>\n",
       "      <td>4</td>\n",
       "      <td>Almond, roasted, salted</td>\n",
       "      <td>Savoury snacks/Salted nuts, seeds and kernels</td>\n",
       "      <td>649.0</td>\n",
       "      <td>55.2</td>\n",
       "      <td>4.2</td>\n",
       "      <td>34.8</td>\n",
       "      <td>13.5</td>\n",
       "      <td>0.0</td>\n",
       "      <td>7.2</td>\n",
       "      <td>...</td>\n",
       "      <td>330.0</td>\n",
       "      <td>1190.0</td>\n",
       "      <td>240.0</td>\n",
       "      <td>270.0</td>\n",
       "      <td>470.0</td>\n",
       "      <td>3.3</td>\n",
       "      <td>2.4</td>\n",
       "      <td>3.1</td>\n",
       "      <td>2.0</td>\n",
       "      <td>nuts</td>\n",
       "    </tr>\n",
       "  </tbody>\n",
       "</table>\n",
       "<p>5 rows × 43 columns</p>\n",
       "</div>"
      ],
      "text/plain": [
       "   ID                         name  \\\n",
       "0   0                    Agar Agar   \n",
       "1   1                  Agave syrup   \n",
       "2   2                       Almond   \n",
       "3   3  Almond, dry roasted, salted   \n",
       "4   4      Almond, roasted, salted   \n",
       "\n",
       "                                        category  energy_kcal  fat_g  \\\n",
       "0             Various/Gelling and binding agents        160.0    0.2   \n",
       "1                    Sweets/Sugar and sweeteners        293.0    0.0   \n",
       "2               Nuts, seeds and oleaginous fruit        624.0   52.1   \n",
       "3  Savoury snacks/Salted nuts, seeds and kernels        637.0   52.5   \n",
       "4  Savoury snacks/Salted nuts, seeds and kernels        649.0   55.2   \n",
       "\n",
       "   fatty_acids_sat_g  fatty_acids_monounsat_g  fatty_acids_polyunsat_g  \\\n",
       "0                NaN                      NaN                      NaN   \n",
       "1                0.0                      NaN                      NaN   \n",
       "2                4.1                     31.4                     11.4   \n",
       "3                4.1                     33.1                     13.0   \n",
       "4                4.2                     34.8                     13.5   \n",
       "\n",
       "   cholesterol_mg  carbohydrates_g  ...  sodium_mg  chloride_mg  calcium_mg  \\\n",
       "0             NaN              0.0  ...      130.0          NaN       660.0   \n",
       "1             NaN             73.1  ...        4.0          NaN         NaN   \n",
       "2             0.0              7.8  ...        1.1         40.0       270.0   \n",
       "3             0.0             10.1  ...      230.0       1190.0       270.0   \n",
       "4             0.0              7.2  ...      330.0       1190.0       240.0   \n",
       "\n",
       "   magnesium_mg  phosphorus_mg  iron_mg  iodide_µg  zinc_mg  selenium_µg  \\\n",
       "0         100.0           34.0      4.5        NaN      1.5          NaN   \n",
       "1           NaN            NaN      NaN        NaN      NaN          NaN   \n",
       "2         240.0          510.0      3.3        0.2      3.3          2.2   \n",
       "3         280.0          470.0      3.7        2.4      3.3          2.0   \n",
       "4         270.0          470.0      3.3        2.4      3.1          2.0   \n",
       "\n",
       "   category_new  \n",
       "0         other  \n",
       "1        sweets  \n",
       "2        fruits  \n",
       "3          nuts  \n",
       "4          nuts  \n",
       "\n",
       "[5 rows x 43 columns]"
      ]
     },
     "execution_count": 10,
     "metadata": {},
     "output_type": "execute_result"
    }
   ],
   "source": [
    "dataset.head()"
   ]
  },
  {
   "cell_type": "code",
   "execution_count": 11,
   "metadata": {},
   "outputs": [
    {
     "data": {
      "text/plain": [
       "(313, 43)"
      ]
     },
     "execution_count": 11,
     "metadata": {},
     "output_type": "execute_result"
    }
   ],
   "source": [
    "dataset = dataset.dropna(axis=0)\n",
    "dataset.shape"
   ]
  },
  {
   "cell_type": "code",
   "execution_count": 13,
   "metadata": {},
   "outputs": [
    {
     "data": {
      "text/plain": [
       "array(['fruits', 'nuts', 'sweets', 'non_alcoholic_beverages',\n",
       "       'vegetables', 'meat', 'cereals', 'other', 'sauce', 'dairy'],\n",
       "      dtype=object)"
      ]
     },
     "execution_count": 13,
     "metadata": {},
     "output_type": "execute_result"
    }
   ],
   "source": [
    "dataset['category_new'].unique()"
   ]
  },
  {
   "attachments": {},
   "cell_type": "markdown",
   "metadata": {},
   "source": [
    "Three food categories disappeared because they always have missing values. So we are performing outlier detetction only on the food categories from above."
   ]
  }
 ],
 "metadata": {
  "kernelspec": {
   "display_name": "ml4food",
   "language": "python",
   "name": "python3"
  },
  "language_info": {
   "codemirror_mode": {
    "name": "ipython",
    "version": 3
   },
   "file_extension": ".py",
   "mimetype": "text/x-python",
   "name": "python",
   "nbconvert_exporter": "python",
   "pygments_lexer": "ipython3",
   "version": "3.10.11"
  },
  "orig_nbformat": 4
 },
 "nbformat": 4,
 "nbformat_minor": 2
}
