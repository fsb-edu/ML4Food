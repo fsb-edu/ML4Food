{
 "cells": [
  {
   "cell_type": "markdown",
   "metadata": {},
   "source": [
    "# Mini-Project Solution"
   ]
  },
  {
   "cell_type": "markdown",
   "metadata": {},
   "source": [
    "This notebook contains the solutions to the mini-project. **Please do not run the cells containing the code snippets, they are only for demonstration purposes.**"
   ]
  },
  {
   "cell_type": "markdown",
   "metadata": {},
   "source": [
    "## Question 1\n",
    "\n",
    "As we can see from the results, the performance in the test set is the same in both setups. However, in the train set, when applying dimensionality reduction the performance is slightly worse. This might be an indication that some information is lost after applying dimensionality reduction."
   ]
  },
  {
   "cell_type": "markdown",
   "metadata": {},
   "source": [
    "## Question 2"
   ]
  },
  {
   "cell_type": "markdown",
   "metadata": {},
   "source": [
    "Changes should be done in **B. CODE TO BE CHANGED**. After the changes, the  code cell would look like this:"
   ]
  },
  {
   "cell_type": "code",
   "execution_count": null,
   "metadata": {},
   "outputs": [],
   "source": [
    "# classifier hyperparameters\n",
    "n_estimators = 30\n",
    "max_depth = 4\n",
    "\n",
    "###### B. CODE TO BE CHANGED ######\n",
    "clf_type = 'rf' # change this to `lr` when using Logistic Regression \n",
    "\n",
    "# dimensionality reduction hyperparameters\n",
    "n_neighbors = 30\n",
    "min_dist = 0.5\n",
    "n_components = 2\n",
    "\n",
    "\n",
    "dim_red=\"tsne\" # Change this to `tsne` when running\n",
    "\n",
    "# initialize dimensionality reduction technique\n",
    "\n",
    "umap = UMAP(n_components=2, n_neighbors=n_neighbors, \\\n",
    "                min_dist=min_dist, random_state=0)\n",
    "\n",
    "data_after_dimensionality_reduction = \\\n",
    "    run_dimensionality_reduction(umap, dataset=dataset, numerical_cols=numerical_cols)\n",
    "\n",
    "# initialize classifier\n",
    "classifier = RandomForestClassifier(max_depth=max_depth,\\\n",
    "                                        n_estimators=n_estimators,\\\n",
    "                                            random_state=0)\n",
    "\n",
    "# train classifier and visualize the results\n",
    "run_classifier(classifier=classifier, clf_type=clf_type, \\\n",
    "    dataset=data_after_dimensionality_reduction, dim_red=dim_red)\n",
    "\n",
    "###### END CODE TO BE CHANGED ######"
   ]
  },
  {
   "cell_type": "markdown",
   "metadata": {},
   "source": [
    "## Question 3"
   ]
  },
  {
   "cell_type": "markdown",
   "metadata": {},
   "source": [
    "Changes should be done in **A. CODE TO BE CHANGED**. After the changes, the  code cell would look like this:"
   ]
  },
  {
   "cell_type": "code",
   "execution_count": null,
   "metadata": {},
   "outputs": [],
   "source": [
    "# classifier hyperparameters\n",
    "n_estimators = 30\n",
    "max_depth = 4\n",
    "\n",
    "###### A. CODE TO BE CHANGED ######\n",
    "clf_type = 'lr' # change this to `lr` when using Logistic Regression \n",
    "\n",
    "# initialize the classifier here\n",
    "classifier = LogisticRegression()\n",
    "\n",
    "# train classifier and visualize results\n",
    "run_classifier(classifier=classifier, clf_type=clf_type, \\\n",
    "               dataset=dataset, dim_red=\"no_dim_red\")\n",
    "\n",
    "###### END CODE TO BE CHANGED ######"
   ]
  },
  {
   "cell_type": "markdown",
   "metadata": {},
   "source": [
    "## Quesiton 4:"
   ]
  },
  {
   "cell_type": "markdown",
   "metadata": {},
   "source": [
    "Changes should be done in **B. CODE TO BE CHANGED**. After the changes, the  code cell would look like this:"
   ]
  },
  {
   "cell_type": "code",
   "execution_count": null,
   "metadata": {},
   "outputs": [],
   "source": [
    "# classifier hyperparameters\n",
    "n_estimators = 30\n",
    "max_depth = 4\n",
    "\n",
    "###### B. CODE TO BE CHANGED ######\n",
    "clf_type = 'lr' # change this to `lr` when using Logistic Regression \n",
    "\n",
    "# dimensionality reduction hyperparameters\n",
    "n_neighbors = 30\n",
    "min_dist = 0.5\n",
    "n_components = 2\n",
    "\n",
    "\n",
    "dim_red=\"tsne\" # Change this to `tsne` when running\n",
    "\n",
    "# initialize dimensionality reduction technique\n",
    "\n",
    "tsne = TSNE(perplexity=20, random_state=0)\n",
    "\n",
    "data_after_dimensionality_reduction = \\\n",
    "    run_dimensionality_reduction(tsne, dataset=dataset, numerical_cols=numerical_cols)\n",
    "\n",
    "# initialize classifier\n",
    "classifier = LogisticRegression()\n",
    "\n",
    "# train classifier and visualize the results\n",
    "run_classifier(classifier=classifier, clf_type=clf_type, \\\n",
    "    dataset=data_after_dimensionality_reduction, dim_red=dim_red)\n",
    "\n",
    "###### END CODE TO BE CHANGED ######"
   ]
  },
  {
   "cell_type": "markdown",
   "metadata": {},
   "source": [
    "## Question 5"
   ]
  },
  {
   "cell_type": "markdown",
   "metadata": {},
   "source": [
    "Changes should be done in **B. CODE TO BE CHANGED**. After the changes, the  code cell would look like this:"
   ]
  },
  {
   "cell_type": "code",
   "execution_count": null,
   "metadata": {},
   "outputs": [],
   "source": [
    "# classifier hyperparameters\n",
    "n_estimators = 30\n",
    "max_depth = 4\n",
    "\n",
    "###### B. CODE TO BE CHANGED ######\n",
    "clf_type = 'lr' # change this to `lr` when using Logistic Regression \n",
    "\n",
    "# dimensionality reduction hyperparameters\n",
    "n_neighbors = 30\n",
    "min_dist = 0.5\n",
    "n_components = 2\n",
    "\n",
    "\n",
    "dim_red=\"umap\" # Change this to `tsne` when running\n",
    "\n",
    "# initialize dimensionality reduction technique\n",
    "\n",
    "umap = UMAP(perplexity=20, random_state=0)\n",
    "\n",
    "data_after_dimensionality_reduction = \\\n",
    "    run_dimensionality_reduction(umap, dataset=dataset, numerical_cols=numerical_cols)\n",
    "\n",
    "# initialize classifier\n",
    "classifier = LogisticRegression()\n",
    "\n",
    "# train classifier and visualize the results\n",
    "run_classifier(classifier=classifier, clf_type=clf_type, \\\n",
    "    dataset=data_after_dimensionality_reduction, dim_red=dim_red)\n",
    "\n",
    "###### END CODE TO BE CHANGED ######"
   ]
  },
  {
   "cell_type": "markdown",
   "metadata": {},
   "source": [
    "## Tables of Area Under the Curve ROC"
   ]
  },
  {
   "cell_type": "markdown",
   "metadata": {},
   "source": [
    "\n",
    "| Train set results | No dim. red. | UMAP | tSNE |\n",
    "| -------- | -------- | -------- | -------- |\n",
    "| Logistic Regression   | 0.99   | 0.89   | 0.91  |\n",
    "| Random Forest   | 1.0   | 0.99   | 0.99   |\n",
    "\n",
    "<br>\n",
    "<br>\n",
    "\n",
    "| Test set results | No dim. red. | UMAP | tSNE |\n",
    "| -------- | -------- | -------- | -------- |\n",
    "| Logistic Regression   | 0.99   | 0.89   | 0.89   |\n",
    "| Random Forest   | 0.98   | 0.98  | 0.99   |\n",
    "\n",
    "\n"
   ]
  },
  {
   "cell_type": "markdown",
   "metadata": {},
   "source": [
    "## Question 6:\n",
    "\n",
    "When considering the test set, Random Forest performs better than Logistic regression in all cases, except when no dimensionality reduction is applied. In addition, we see that dimensionality reduction is not helpful in the case of Logistic Regression, while `tSNE` with Random Forest has a near perfect performance. The best set ups are: Logistic Regression without dimensionality reduction and Random Forest with `tSNE`. There are not  indications of overfitting since the performance metrics in the train and test sets are similar."
   ]
  }
 ],
 "metadata": {
  "kernelspec": {
   "display_name": "Python 3 (ipykernel)",
   "language": "python",
   "name": "python3"
  },
  "language_info": {
   "codemirror_mode": {
    "name": "ipython",
    "version": 3
   },
   "file_extension": ".py",
   "mimetype": "text/x-python",
   "name": "python",
   "nbconvert_exporter": "python",
   "pygments_lexer": "ipython3",
   "version": "3.10.9"
  }
 },
 "nbformat": 4,
 "nbformat_minor": 2
}
